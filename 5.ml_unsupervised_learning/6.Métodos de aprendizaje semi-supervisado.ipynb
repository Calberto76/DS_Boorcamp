{
 "cells": [
  {
   "cell_type": "markdown",
   "metadata": {
    "id": "t1iE9XTGLU2V"
   },
   "source": [
    "# VC08 - Métodos de aprendizaje semi-supervisado\n",
    "\n"
   ]
  },
  {
   "cell_type": "markdown",
   "metadata": {
    "id": "bpRUPzfm-ZM8"
   },
   "source": [
    "En esta práctica vamos a ver dos ejemplos: el primero, cómo funciona Naive Bayes con datos sin etiquetar, y el segundo, cómo podemos mejorar la versión básica del Naive Bayes aprendiendo un mejor modelo iterativamente mediante el algoritmo de EM."
   ]
  },
  {
   "cell_type": "markdown",
   "metadata": {
    "id": "7ZX9wWNFOSPh"
   },
   "source": [
    "## Naive Bayes SIN datos sin etiquetar"
   ]
  },
  {
   "cell_type": "markdown",
   "metadata": {
    "id": "h0a0c451SP7Q"
   },
   "source": [
    "Realizamos los imports necesarios:"
   ]
  },
  {
   "cell_type": "code",
   "execution_count": null,
   "metadata": {
    "id": "qjxuBV02NpMu"
   },
   "outputs": [],
   "source": [
    "# Import packages and libraries\n",
    "import numpy as np\n",
    "import random as rnd\n",
    "\n",
    "from scipy.sparse import csr_matrix\n",
    "from sklearn.datasets import fetch_20newsgroups\n",
    "from sklearn.feature_extraction.text import TfidfVectorizer\n",
    "from sklearn.model_selection import train_test_split\n",
    "from sklearn.naive_bayes import MultinomialNB\n",
    "from sklearn import metrics\n",
    "import seaborn as sns\n",
    "import matplotlib.pyplot as plt\n",
    "plt.rcParams['figure.figsize'] = [8, 8]"
   ]
  },
  {
   "cell_type": "markdown",
   "metadata": {
    "id": "__7U9_0_STax"
   },
   "source": [
    "Cargamos nuestros datos:"
   ]
  },
  {
   "cell_type": "code",
   "execution_count": null,
   "metadata": {
    "id": "CACowL6-Npl7"
   },
   "outputs": [],
   "source": [
    "# Load train and test data set with class labels \n",
    "train_Xy = fetch_20newsgroups(subset='train', remove=('headers', 'footers', 'quotes'))\n",
    "test_Xy = fetch_20newsgroups(subset='test', remove=('headers', 'footers', 'quotes'))"
   ]
  },
  {
   "cell_type": "markdown",
   "metadata": {
    "id": "Ufnt_gVYSV9e"
   },
   "source": [
    "Utilizamos la transformación tf-Idf para convertir las palabras a una matriz de números:"
   ]
  },
  {
   "cell_type": "code",
   "execution_count": null,
   "metadata": {
    "id": "Sx5rUabzNrPl"
   },
   "outputs": [],
   "source": [
    "# Convert all text data into tf-idf vectors\n",
    "vectorizer = TfidfVectorizer(stop_words='english', min_df=3, max_df=0.9)\n",
    "train_vec = vectorizer.fit_transform(train_Xy.data)\n",
    "test_vec = vectorizer.transform(test_Xy.data)"
   ]
  },
  {
   "cell_type": "code",
   "execution_count": null,
   "metadata": {
    "id": "1zhWz6L4SSYX"
   },
   "outputs": [],
   "source": [
    "test_vec.shape"
   ]
  },
  {
   "cell_type": "markdown",
   "metadata": {
    "id": "b1p87ddoSdHw"
   },
   "source": [
    "Dividimos los datos entre etiquetados y no etiquetados:"
   ]
  },
  {
   "cell_type": "code",
   "execution_count": null,
   "metadata": {
    "id": "4FBO5Ir3Nsry"
   },
   "outputs": [],
   "source": [
    "# Divide train data set into labeled and unlabeled data sets\n",
    "n_train_data = train_vec.shape[0]\n",
    "split_ratio = 0.2 # labeled vs unlabeled\n",
    "X_l, X_u, y_l, y_u = train_test_split(train_vec, train_Xy.target, train_size=split_ratio, random_state=42)\n",
    "print(f'Número de instancias CON etiquetas: {X_l.shape}')\n",
    "print(f'Número de instancias SIN etiquetas: {X_u.shape}')"
   ]
  },
  {
   "cell_type": "markdown",
   "metadata": {
    "id": "24g4B1bsSkam"
   },
   "source": [
    "Entrenamos nuestro BN con únicamente los datos etiquetados:"
   ]
  },
  {
   "cell_type": "code",
   "execution_count": null,
   "metadata": {
    "id": "OoUpCNSQNvtK"
   },
   "outputs": [],
   "source": [
    "nb_clf = # Tu código aquí ##\n",
    "nb_clf.fit(X_l, y_l)"
   ]
  },
  {
   "cell_type": "markdown",
   "metadata": {
    "id": "J9K8rD3AS1cy"
   },
   "source": [
    "Y evaluamos su comportamiento:"
   ]
  },
  {
   "cell_type": "code",
   "execution_count": null,
   "metadata": {
    "id": "SvfzjaZ_NyrN"
   },
   "outputs": [],
   "source": [
    "# Evaluamos comportamiento NB\n",
    "pred_nb = nb_clf.predict(test_vec)\n",
    "print(metrics.classification_report(test_Xy.target, pred_nb, target_names=test_Xy.target_names))\n",
    "print(f'Accuracy score={metrics.accuracy_score(test_Xy.target, pred_nb)}')"
   ]
  },
  {
   "cell_type": "code",
   "execution_count": null,
   "metadata": {
    "id": "fVR8gVUjN3wg"
   },
   "outputs": [],
   "source": [
    "# Matriz de confusión\n",
    "plt.figure(figsize=(12,12))\n",
    "sns.set()\n",
    "sns.heatmap(metrics.confusion_matrix(test_Xy.target, pred_nb), annot=True, fmt=\"d\", linewidths=.5)\n",
    "plt.title(\"Matriz de Confusion\")"
   ]
  },
  {
   "cell_type": "markdown",
   "metadata": {
    "id": "v6ZMA4sqPirR"
   },
   "source": [
    "## EM con NaiveBayes"
   ]
  },
  {
   "cell_type": "markdown",
   "metadata": {
    "id": "Q5_iRXYKTYnS"
   },
   "source": [
    "Nos descargamos la clase que implementa el algoritmo de EM:"
   ]
  },
  {
   "cell_type": "code",
   "execution_count": null,
   "metadata": {
    "id": "oD8UyDBWQGFP"
   },
   "outputs": [],
   "source": [
    "!wget https://raw.githubusercontent.com/jerry-shijieli/Text_Classification_Using_EM_And_Semisupervied_Learning/master/code/Semi_EM_NB.py"
   ]
  },
  {
   "cell_type": "markdown",
   "metadata": {
    "id": "JMfqVe_nTdGQ"
   },
   "source": [
    "La importamos:"
   ]
  },
  {
   "cell_type": "code",
   "execution_count": null,
   "metadata": {
    "id": "j2uRAhL4QS83"
   },
   "outputs": [],
   "source": [
    "from Semi_EM_NB import Semi_EM_MultinomialNB"
   ]
  },
  {
   "cell_type": "markdown",
   "metadata": {
    "id": "HdgS7bkWTiDs"
   },
   "source": [
    "Entrenamos nuestro NB con EM usando los datos etiquetados y los no etiquetados:"
   ]
  },
  {
   "cell_type": "code",
   "execution_count": null,
   "metadata": {
    "id": "y9-YHrdyTUia"
   },
   "outputs": [],
   "source": [
    "X_l.shape"
   ]
  },
  {
   "cell_type": "code",
   "execution_count": null,
   "metadata": {
    "id": "rfseyzYTTVaN"
   },
   "outputs": [],
   "source": [
    "X_u.shape"
   ]
  },
  {
   "cell_type": "code",
   "execution_count": null,
   "metadata": {
    "id": "ohfcJB7XTbcC"
   },
   "outputs": [],
   "source": [
    "test_Xy.target.shape"
   ]
  },
  {
   "cell_type": "code",
   "execution_count": null,
   "metadata": {
    "id": "yzIdxpIdPkjT"
   },
   "outputs": [],
   "source": [
    "em_nb_clf = ## Tu código aquí ##\n",
    "em_nb_clf.fit(X_l, y_l, X_u)"
   ]
  },
  {
   "cell_type": "markdown",
   "metadata": {
    "id": "G7VAquRWToaq"
   },
   "source": [
    "Y lo evaluamos:"
   ]
  },
  {
   "cell_type": "code",
   "execution_count": null,
   "metadata": {
    "id": "MQTmE8r_Qbwc"
   },
   "outputs": [],
   "source": [
    "# Evaluamos su comportamiento\n",
    "pred_em_nb = em_nb_clf.predict(test_vec)\n",
    "print(metrics.classification_report(test_Xy.target, pred_em_nb, target_names=test_Xy.target_names))\n",
    "print(f'Accuracy score={metrics.accuracy_score(test_Xy.target, pred_em_nb)}')"
   ]
  },
  {
   "cell_type": "code",
   "execution_count": null,
   "metadata": {
    "id": "pu1N0wAHQbqS"
   },
   "outputs": [],
   "source": [
    "# plot confusion matrix for test dataset\n",
    "plt.figure(figsize=(12,12))\n",
    "sns.set()\n",
    "sns.heatmap(metrics.confusion_matrix(test_Xy.target, pred_em_nb), annot=True, fmt=\"d\", linewidths=.5)\n",
    "plt.title(\"Matriz de Confusion\")"
   ]
  },
  {
   "cell_type": "markdown",
   "metadata": {
    "id": "A-Y7i_eGT5uz"
   },
   "source": [
    "Veamos las distribuciones aprendidas:"
   ]
  },
  {
   "cell_type": "code",
   "execution_count": null,
   "metadata": {
    "id": "m8U-0rlfQbiP"
   },
   "outputs": [],
   "source": [
    "print('NB: ', nb_clf.class_log_prior_)\n",
    "print('EM NB: ', em_nb_clf.clf.class_log_prior_)"
   ]
  },
  {
   "cell_type": "markdown",
   "metadata": {
    "id": "lnFqEcS-T_lT"
   },
   "source": [
    "Y para ver de una forma más visual la mejora que ha habido, veamos la diferencia entre las matrices de confusión:"
   ]
  },
  {
   "cell_type": "code",
   "execution_count": null,
   "metadata": {
    "id": "XtBFAhqORY5g"
   },
   "outputs": [],
   "source": [
    "# plot diferencias entre las matrices de confusion\n",
    "plt.figure(figsize=(12,12))\n",
    "sns.set()\n",
    "sns.heatmap(metrics.confusion_matrix(test_Xy.target, pred_em_nb) - metrics.confusion_matrix(test_Xy.target, pred_nb), annot=True, fmt=\"d\", linewidths=.5)\n",
    "plt.title(\"Diferencias entre NB y EM NB\")"
   ]
  },
  {
   "cell_type": "markdown",
   "metadata": {
    "id": "GOUqy1UAPqnB"
   },
   "source": [
    "FUENTE: https://github.com/jerry-shijieli/Text_Classification_Using_EM_And_Semisupervied_Learning/\n",
    "\n",
    "- Explicaciones de NB bastante didácticas y útiles: \n",
    "   - https://towardsdatascience.com/all-about-naive-bayes-8e13cef044cf\n",
    "   - https://medium.com/@srishtisawla/introduction-to-naive-bayes-for-classification-baefefb43a2d\n",
    "- Uso de NB para sentiment analysis con código y muy didáctico: https://levelup.gitconnected.com/movie-review-sentiment-analysis-with-naive-bayes-machine-learning-from-scratch-part-v-7bb869391bab"
   ]
  }
 ],
 "metadata": {
  "colab": {
   "collapsed_sections": [],
   "provenance": []
  },
  "kernelspec": {
   "display_name": "Python 3 (ipykernel)",
   "language": "python",
   "name": "python3"
  },
  "language_info": {
   "codemirror_mode": {
    "name": "ipython",
    "version": 3
   },
   "file_extension": ".py",
   "mimetype": "text/x-python",
   "name": "python",
   "nbconvert_exporter": "python",
   "pygments_lexer": "ipython3",
   "version": "3.10.9"
  }
 },
 "nbformat": 4,
 "nbformat_minor": 4
}
