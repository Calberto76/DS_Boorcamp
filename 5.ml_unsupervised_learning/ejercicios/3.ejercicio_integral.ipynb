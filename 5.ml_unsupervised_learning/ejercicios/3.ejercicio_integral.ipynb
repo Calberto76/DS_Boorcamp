{
 "cells": [
  {
   "cell_type": "markdown",
   "id": "3317b760-6f12-44d0-be06-5d192d44532a",
   "metadata": {},
   "source": [
    "# Ejercicio 1\n",
    "\n",
    "Se le brinda una serie de datos los cuales debe de agrupar utilizando los métodos conocidos de agrupamiento.\n",
    "\n",
    "- Agrupamiento por particiones (K-means++, MiniBatchKMeans)\n",
    "- Agrupamiento jerárquico\n",
    "- Agrupamiento espectral"
   ]
  },
  {
   "cell_type": "code",
   "execution_count": null,
   "id": "80d6f017-5f94-4c75-919e-1caf2988ffcd",
   "metadata": {
    "tags": []
   },
   "outputs": [],
   "source": [
    "import time\n",
    "import warnings\n",
    "from itertools import cycle, islice\n",
    "import matplotlib.pyplot as plt\n",
    "%matplotlib inline\n",
    "import numpy as np\n",
    "\n",
    "from sklearn import cluster, datasets, mixture\n",
    "from sklearn.neighbors import kneighbors_graph\n",
    "from sklearn.preprocessing import StandardScaler\n",
    "from sklearn.cluster import AgglomerativeClustering\n",
    "from sklearn.cluster import SpectralClustering, KMeans, MiniBatchKMeans\n",
    "from sklearn.datasets import make_blobs, make_s_curve\n",
    "from scipy import stats\n",
    "\n",
    "\n",
    "\n",
    "# use seaborn plotting defaults\n",
    "import seaborn as sns; sns.set()\n",
    "import warnings\n",
    "warnings.filterwarnings(\"ignore\")\n"
   ]
  },
  {
   "cell_type": "code",
   "execution_count": null,
   "id": "550f6648-4206-4eb1-a3fc-67fa328e588f",
   "metadata": {
    "tags": []
   },
   "outputs": [],
   "source": [
    "n_samples = 500\n",
    "seed = 30\n",
    "noisy_moons = datasets.make_moons(n_samples=n_samples, \n",
    "                                  noise=0.05, \n",
    "                                  random_state=seed)\n",
    "rng = np.random.RandomState(seed)\n",
    "no_structure = rng.rand(n_samples, 2), None\n",
    "\n",
    "plt.figure()\n",
    "X, y = noisy_moons\n",
    "plt.scatter(X[:, 0], X[:, 1], s=10)\n",
    "plt.xlim(-2.5, 2.5)\n",
    "plt.ylim(-2.5, 2.5)\n",
    "plt.xticks(())\n",
    "plt.yticks(())\n",
    "plt.title(\"Noise Moon\")\n",
    "plt.show()"
   ]
  },
  {
   "cell_type": "markdown",
   "id": "70687812-8aee-4424-a254-0209c6437251",
   "metadata": {},
   "source": [
    "## Agrupamiento por particiones (K-means ++, MiniBatchKMeans)"
   ]
  },
  {
   "cell_type": "code",
   "execution_count": null,
   "id": "783dbb92-2668-4fec-a7cd-1f40c3431ddd",
   "metadata": {
    "tags": []
   },
   "outputs": [],
   "source": [
    "kmeans_kwargs = {\n",
    "\"init\": \"random\",\n",
    "\"n_init\": 10,\n",
    "\"random_state\": 1,\n",
    "}\n",
    "\n",
    "#create list to hold SSE values for each k\n",
    "sse = []\n",
    "for k in range(1, 11):\n",
    "    kmeans = KMeans(n_clusters=k, **kmeans_kwargs)\n",
    "    kmeans.fit(X)\n",
    "    sse.append(kmeans.inertia_)\n",
    "\n",
    "#visualize results\n",
    "plt.plot(range(1, 11), sse)\n",
    "plt.xticks(range(1, 11))\n",
    "plt.xlabel(\"Number of Clusters\")\n",
    "plt.ylabel(\"SSE\")\n",
    "plt.show()"
   ]
  },
  {
   "cell_type": "code",
   "execution_count": null,
   "id": "b065cfa8-ab81-4e9c-945a-ac7ffa232d12",
   "metadata": {
    "tags": []
   },
   "outputs": [],
   "source": [
    "n_cluster = #TODO\n",
    "kmeans = KMeans(n_cluster, max_iter = 1)\n",
    "\n",
    "kmeans.fit() #TODO\n",
    "y_kmeans = kmeans.predict() #TODO\n",
    "plt.scatter(, c=y_kmeans, s=50, cmap='rainbow') #TODO"
   ]
  },
  {
   "cell_type": "code",
   "execution_count": null,
   "id": "83e1d60f-0d9f-4ba2-9f80-b356acafa198",
   "metadata": {
    "tags": []
   },
   "outputs": [],
   "source": [
    "n_cluster = #TODO\n",
    "kmeans_mb = cluster.MiniBatchKMeans(\n",
    "        n_clusters=n_cluster,\n",
    "        n_init=\"auto\",\n",
    "        random_state=params[\"random_state\"],\n",
    "    )\n",
    "\n",
    "kmeans_mb.fit() #TODO\n",
    "y_kmeans = kmeans_mb.predict() #TODO\n",
    "plt.scatter(, c=y_kmeans, s=50, cmap='rainbow') #TODO"
   ]
  },
  {
   "cell_type": "markdown",
   "id": "a667f00f-8be8-4563-b88c-0c6e8a3356f7",
   "metadata": {
    "tags": []
   },
   "source": [
    "## Agrupamiento jerárquico"
   ]
  },
  {
   "cell_type": "code",
   "execution_count": null,
   "id": "3c5c82d2-a423-4119-95f1-cf09ad01ec88",
   "metadata": {
    "tags": []
   },
   "outputs": [],
   "source": [
    "cluster = AgglomerativeClustering(n_clusters=, \n",
    "                                  affinity='euclidean', \n",
    "                                  linkage='ward') #TODO\n",
    "cluster = cluster.fit() #TODO"
   ]
  },
  {
   "cell_type": "code",
   "execution_count": null,
   "id": "fcf9a475-2fcc-4fb1-9428-27f63672b688",
   "metadata": {
    "tags": []
   },
   "outputs": [],
   "source": [
    "plt.figure(figsize=(10, 7))\n",
    "plt.scatter(, c=cluster.labels_, cmap='rainbow') #TODO"
   ]
  },
  {
   "cell_type": "markdown",
   "id": "c2d4cf94-7e52-4fbb-b0f1-b87c80fda4ed",
   "metadata": {},
   "source": [
    "## Agrupamiento espectral"
   ]
  },
  {
   "cell_type": "code",
   "execution_count": null,
   "id": "a63bcf54-18e2-4cf4-ac42-28b116ddcadd",
   "metadata": {
    "tags": []
   },
   "outputs": [],
   "source": [
    "sc = SpectralClustering(\n",
    "        n_clusters=,\n",
    "        eigen_solver=\"arpack\",\n",
    "        affinity=\"nearest_neighbors\",\n",
    "        random_state=params[\"random_state\"],\n",
    "    ) #TODO"
   ]
  },
  {
   "cell_type": "code",
   "execution_count": null,
   "id": "1213c0a5-91f8-4d5a-ba82-b047261d9899",
   "metadata": {
    "tags": []
   },
   "outputs": [],
   "source": [
    "sc_clustering = sc.fit() #TODO\n",
    "plt.scatter(, c=sc_clustering.labels_, cmap='jet') #TODO"
   ]
  },
  {
   "cell_type": "markdown",
   "id": "af391a39-bc80-4c97-8ccf-3112a37e4e8c",
   "metadata": {},
   "source": [
    "# Ejercicio 2\n",
    "\n",
    "Se le brinda una serie de datos los cuales debe de agrupar utilizando los métodos conocidos de agrupamiento.\n",
    "\n",
    "- Agrupamiento por particiones (K-means++, MiniBatchKMeans)\n",
    "- Agrupamiento jerárquico\n",
    "- Agrupamiento espectral"
   ]
  },
  {
   "cell_type": "code",
   "execution_count": null,
   "id": "1c93927c-26e5-41ae-a9bb-ba7975e4fcc4",
   "metadata": {
    "tags": []
   },
   "outputs": [],
   "source": [
    "n_samples = 500\n",
    "seed = 30\n",
    "X, y = make_s_curve(n_samples=1000)\n",
    "ax = plt.axes(projection='3d')\n",
    "ax.scatter3D(X[:, 0], X[:, 1], X[:, 2])\n",
    "ax.view_init(10, -60)\n",
    "plt.title(\"S-Curve\")\n",
    "plt.show()\n"
   ]
  },
  {
   "cell_type": "markdown",
   "id": "7784f2f1-310e-4378-be68-0b90c2b8bd76",
   "metadata": {},
   "source": [
    "## Agrupamiento por particiones (K-means ++, MiniBatchKMeans)"
   ]
  },
  {
   "cell_type": "code",
   "execution_count": null,
   "id": "91fe69c3-bc42-41c7-8749-7e5d17071f36",
   "metadata": {
    "tags": []
   },
   "outputs": [],
   "source": [
    "kmeans_kwargs = {\n",
    "\"init\": \"random\",\n",
    "\"n_init\": 10,\n",
    "\"random_state\": 1,\n",
    "}\n",
    "\n",
    "#create list to hold SSE values for each k\n",
    "sse = []\n",
    "for k in range(1, 11):\n",
    "    kmeans = KMeans(n_clusters=k, **kmeans_kwargs)\n",
    "    kmeans.fit(X)\n",
    "    sse.append(kmeans.inertia_)\n",
    "\n",
    "#visualize results\n",
    "plt.plot(range(1, 11), sse)\n",
    "plt.xticks(range(1, 11))\n",
    "plt.xlabel(\"Number of Clusters\")\n",
    "plt.ylabel(\"SSE\")\n",
    "plt.show()"
   ]
  },
  {
   "cell_type": "code",
   "execution_count": null,
   "id": "17d41af1-6d00-48c0-877c-1c7605e46945",
   "metadata": {
    "tags": []
   },
   "outputs": [],
   "source": [
    "n_cluster = #TODO\n",
    "kmeans = KMeans(n_cluster, max_iter = 1)\n",
    "\n",
    "kmeans.fit() #TODO\n",
    "y_kmeans = kmeans.predict() #TODO\n",
    "ax = plt.axes(projection='3d')\n",
    "ax.scatter3D(, c=y_kmeans, s=50, cmap='rainbow') #TODO - Aquí una pequeña trampa, se encuentran operando en 3 dimensiones\n",
    "ax.view_init(10, -60)\n",
    "plt.title(\"S-Curve\")\n",
    "plt.show()"
   ]
  },
  {
   "cell_type": "code",
   "execution_count": null,
   "id": "6b417d0c-d26e-4f0c-b8e3-c48d28e63f9a",
   "metadata": {
    "tags": []
   },
   "outputs": [],
   "source": [
    "n_cluster = #TODO\n",
    "kmeans_mb = cluster.MiniBatchKMeans(\n",
    "        n_clusters=n_cluster,\n",
    "        n_init=\"auto\",\n",
    "        random_state=params[\"random_state\"],\n",
    "    )\n",
    "\n",
    "kmeans_mb.fit() #TODO\n",
    "y_kmeans = kmeans_mb.predict() #TODO\n",
    "ax = plt.axes(projection='3d')\n",
    "ax.scatter3D(, c=y_kmeans, s=50, cmap='rainbow') #TODO\n",
    "ax.view_init(10, -60)\n",
    "plt.title(\"S-Curve\")\n",
    "plt.show()"
   ]
  },
  {
   "cell_type": "markdown",
   "id": "d51c899d-14cb-44a4-b246-3da069777396",
   "metadata": {},
   "source": [
    "## Agrupamiento jerárquico"
   ]
  },
  {
   "cell_type": "code",
   "execution_count": null,
   "id": "975920db-c87b-439f-9234-3c2574814819",
   "metadata": {
    "tags": []
   },
   "outputs": [],
   "source": [
    "cluster = AgglomerativeClustering(n_clusters=, \n",
    "                                  affinity='euclidean', \n",
    "                                  linkage='ward') #TODO\n",
    "cluster = cluster.fit(X)"
   ]
  },
  {
   "cell_type": "code",
   "execution_count": null,
   "id": "14809f1e-8c56-4958-99a0-1f5901463c1d",
   "metadata": {
    "tags": []
   },
   "outputs": [],
   "source": [
    "ax = plt.axes(projection='3d')\n",
    "ax.scatter3D(, c=cluster.labels_, s=50, cmap='rainbow') #TODO\n",
    "ax.view_init(10, -60)\n",
    "plt.title(\"S-Curve\")\n",
    "plt.show()"
   ]
  },
  {
   "cell_type": "markdown",
   "id": "3ec4aa24-3428-4244-9a2b-8325601e49e6",
   "metadata": {},
   "source": [
    "## Agrupamiento espectral"
   ]
  },
  {
   "cell_type": "code",
   "execution_count": null,
   "id": "cf078c27-d392-4a6a-8157-01e7032d86df",
   "metadata": {
    "tags": []
   },
   "outputs": [],
   "source": [
    "sc = SpectralClustering(\n",
    "        n_clusters=,\n",
    "        eigen_solver=\"arpack\",\n",
    "        affinity=\"nearest_neighbors\",\n",
    "        random_state=params[\"random_state\"],\n",
    "    ) #TODO"
   ]
  },
  {
   "cell_type": "code",
   "execution_count": null,
   "id": "207bb829-d533-4924-a9d3-ce21b5a49f7a",
   "metadata": {
    "tags": []
   },
   "outputs": [],
   "source": [
    "sc_clustering = sc.fit() #TODO\n",
    "ax = plt.axes(projection='3d')\n",
    "ax.scatter3D(, c=sc_clustering.labels_, s=50, cmap='rainbow') #TODO\n",
    "ax.view_init(10, -60)\n",
    "plt.title(\"S-Curve\")\n",
    "plt.show()"
   ]
  },
  {
   "cell_type": "markdown",
   "id": "14bd6429-f0f8-401b-bdee-03549e264480",
   "metadata": {},
   "source": [
    "# Ejercicio 3\n",
    "\n",
    "Se te brinda un set de datos y debes de utilizar el mejor método de agrupamiento según tu criterio."
   ]
  },
  {
   "cell_type": "code",
   "execution_count": null,
   "id": "664e6a7e-ca30-402c-8dab-bc82bd152318",
   "metadata": {
    "tags": []
   },
   "outputs": [],
   "source": [
    "from sklearn.datasets import make_swiss_roll\n",
    "import matplotlib.pyplot as plt\n",
    "\n",
    "n_samples = 1500\n",
    "noise = 0.05\n",
    "X, _ = make_swiss_roll(n_samples, noise=noise)\n",
    "# Make it thinner\n",
    "X[:, 1] *= 0.5"
   ]
  },
  {
   "cell_type": "code",
   "execution_count": null,
   "id": "649a86ec-c1a4-4fb9-8ccd-b9e728df52ab",
   "metadata": {
    "tags": []
   },
   "outputs": [],
   "source": [
    "fig1 = plt.figure()\n",
    "ax1 = fig1.add_subplot(111, projection=\"3d\", elev=7, azim=-80)\n",
    "ax1.set_position([0, 0, 0.95, 1])\n",
    "ax1.scatter(\n",
    "        X[:, 0], X[:, 1], X[:, 2],\n",
    "        s=20,\n",
    "        edgecolor=\"k\")"
   ]
  },
  {
   "cell_type": "code",
   "execution_count": null,
   "id": "1b68d124-83ba-4eac-8a96-6e9167b40681",
   "metadata": {
    "tags": []
   },
   "outputs": [],
   "source": [
    "#TODO"
   ]
  },
  {
   "cell_type": "code",
   "execution_count": null,
   "id": "3a6b0a35-1203-40ff-a5ec-a90fee20025e",
   "metadata": {
    "tags": []
   },
   "outputs": [],
   "source": [
    "#TODO"
   ]
  }
 ],
 "metadata": {
  "kernelspec": {
   "display_name": "Python 3 (ipykernel)",
   "language": "python",
   "name": "python3"
  },
  "language_info": {
   "codemirror_mode": {
    "name": "ipython",
    "version": 3
   },
   "file_extension": ".py",
   "mimetype": "text/x-python",
   "name": "python",
   "nbconvert_exporter": "python",
   "pygments_lexer": "ipython3",
   "version": "3.10.12"
  }
 },
 "nbformat": 4,
 "nbformat_minor": 5
}
