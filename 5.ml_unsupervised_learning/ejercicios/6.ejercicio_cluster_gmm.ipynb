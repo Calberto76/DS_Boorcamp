{
 "cells": [
  {
   "cell_type": "markdown",
   "id": "d4c96e9c-9597-4a02-bddf-bd4e39e42091",
   "metadata": {},
   "source": [
    "# Ejercicio\n",
    "\n",
    "Se le brinda un set de adtos sintéticos a los cuales debe de aplicarle el método de K-Means y el de GMM. \n",
    "Al finalizar comparar los resultados."
   ]
  },
  {
   "cell_type": "code",
   "execution_count": null,
   "id": "24a81a1b-e711-47fc-9b57-268c18f762fb",
   "metadata": {
    "tags": []
   },
   "outputs": [],
   "source": [
    "import matplotlib.pyplot as plt\n",
    "import numpy as np\n",
    "from sklearn.mixture import GaussianMixture\n",
    "import warnings\n",
    "warnings.filterwarnings(\"ignore\")"
   ]
  },
  {
   "cell_type": "code",
   "execution_count": null,
   "id": "d0f244e5-f175-4584-80d3-845abb81a948",
   "metadata": {
    "tags": []
   },
   "outputs": [],
   "source": [
    "rng = np.random.RandomState(seed=1)\n",
    "X = np.concatenate([rng.normal(-1, 1.5, 350),\n",
    "rng.normal(0, 1, 500),\n",
    "rng.normal(3, 0.5, 150)]).reshape(-1, 1)\n",
    "# Fit models with 1-10 components\n",
    "k_arr = np.arange(10) + 1\n",
    "models = [ GaussianMixture(n_components=k).fit() for k in k_arr] #TODO"
   ]
  },
  {
   "cell_type": "code",
   "execution_count": null,
   "id": "2c063d6c-8cae-4210-98a0-d7dbfbcf3acc",
   "metadata": {
    "tags": []
   },
   "outputs": [],
   "source": [
    "# Plot function\n",
    "def plot_mixture(gmm, X, show_legend=True, ax=None):\n",
    "    if ax is None:\n",
    "        ax = plt.gca()\n",
    "    \n",
    "    # Compute PDF of whole mixture\n",
    "    x = np.linspace(-6, 6, 1000)\n",
    "    logprob = gmm.score_samples(x.reshape(-1, 1))\n",
    "    pdf = np.exp(logprob)\n",
    "    \n",
    "    # Compute PDF for each component\n",
    "    responsibilities = gmm.predict_proba(x.reshape(-1, 1))\n",
    "    pdf_individual = responsibilities * pdf[:, np.newaxis]\n",
    "\n",
    "    # Plot data histogram\n",
    "    ax.hist(X, 30, density=True, histtype='stepfilled', alpha=0.4, label='Data')\n",
    "\n",
    "    # Plot PDF of whole model\n",
    "    ax.plot(x, pdf, '-k', label='Mixture PDF')\n",
    "\n",
    "    # Plot PDF of each component\n",
    "    ax.plot(x, pdf_individual, '--', label='Component PDF')\n",
    "    ax.set_xlabel('$x$')\n",
    "    ax.set_ylabel('$p(x)$')\n",
    "    if show_legend:\n",
    "        ax.legend()"
   ]
  },
  {
   "cell_type": "code",
   "execution_count": null,
   "id": "93cd5955-ff48-4211-820d-e94f108e59c8",
   "metadata": {
    "tags": []
   },
   "outputs": [],
   "source": [
    "# Show all models for n_components 1 to 9\n",
    "_, axes = plt.subplots(3, 3, figsize=np.array([3,3])*3, dpi=100)\n",
    "for gmm, ax in zip(models, axes.ravel()):\n",
    "    plot_mixture(gmm, X, show_legend=False, ax=ax)\n",
    "    ax.set_title(f'k={gmm.n_components}')\n",
    "    plt.tight_layout()"
   ]
  },
  {
   "cell_type": "code",
   "execution_count": null,
   "id": "7664c316-1b66-41a0-83af-11102ef4022a",
   "metadata": {
    "tags": []
   },
   "outputs": [],
   "source": [
    "# Compute metrics to determine best hyperparameter\n",
    "AIC = []#TODO\n",
    "BIC = []#TODO\n",
    "# Plot these metrics\n",
    "plt.plot(, , label='AIC')#TODO\n",
    "plt.plot(, , label='BIC')#TODO\n",
    "plt.xlabel('Number of Components ($k$)')\n",
    "plt.legend()"
   ]
  },
  {
   "cell_type": "code",
   "execution_count": null,
   "id": "b5d11ded-ee97-4f38-826c-32bbaa3441ea",
   "metadata": {
    "tags": []
   },
   "outputs": [],
   "source": [
    "gmm_best = models[]#TODO - utilizar np.argmin() con su parámetro\n",
    "plt.title(f'GMM Best k={gmm_best}')\n",
    "plot_mixture(gmm_best, X)"
   ]
  },
  {
   "cell_type": "markdown",
   "id": "f5acf5ae-7666-4b90-ba7e-9834a6e455a0",
   "metadata": {},
   "source": [
    "## K-Means"
   ]
  },
  {
   "cell_type": "code",
   "execution_count": null,
   "id": "6bcbc9c6-6415-43c9-b274-38e9208383ec",
   "metadata": {
    "tags": []
   },
   "outputs": [],
   "source": [
    "from sklearn.datasets import make_blobs\n",
    "from sklearn.cluster import KMeans\n",
    "X3, y_true = make_blobs(n_samples=300, centers=2,\n",
    "cluster_std=0.60, random_state=0)\n",
    "X3[:, 0] = X3[:, 0]*10\n",
    "plt.scatter(, , cmap='rainbow') #TODO\n",
    "plt.axis('equal')"
   ]
  },
  {
   "cell_type": "code",
   "execution_count": null,
   "id": "5c0e114b-23e3-4afa-9ec8-ab273bb69069",
   "metadata": {
    "tags": []
   },
   "outputs": [],
   "source": [
    "kmeans = KMeans(n_clusters=, random_state=42).fit() #TODO\n",
    "plt.scatter(, , c=, cmap='rainbow') #TODO\n",
    "plt.axis('equal')"
   ]
  },
  {
   "cell_type": "markdown",
   "id": "ca49fb28-bee4-485a-9db6-88fd8536de8f",
   "metadata": {},
   "source": [
    "## GMM"
   ]
  },
  {
   "cell_type": "code",
   "execution_count": null,
   "id": "af53a5bd-7843-4347-a698-4ca07a78267d",
   "metadata": {
    "tags": []
   },
   "outputs": [],
   "source": [
    "from sklearn.mixture import GaussianMixture\n",
    "gmm = GaussianMixture().fit()#TODO\n",
    "gmm_labels = gmm.predict()#TODO\n",
    "plt.scatter(, , c=gmm_labels, cmap='rainbow') #TODO\n",
    "plt.axis('equal')"
   ]
  }
 ],
 "metadata": {
  "kernelspec": {
   "display_name": "Python 3 (ipykernel)",
   "language": "python",
   "name": "python3"
  },
  "language_info": {
   "codemirror_mode": {
    "name": "ipython",
    "version": 3
   },
   "file_extension": ".py",
   "mimetype": "text/x-python",
   "name": "python",
   "nbconvert_exporter": "python",
   "pygments_lexer": "ipython3",
   "version": "3.10.12"
  }
 },
 "nbformat": 4,
 "nbformat_minor": 5
}
