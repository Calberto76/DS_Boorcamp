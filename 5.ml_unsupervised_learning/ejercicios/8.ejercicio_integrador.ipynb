{
 "cells": [
  {
   "cell_type": "markdown",
   "id": "69ea839b-5514-4a8d-b391-d0734a385a77",
   "metadata": {},
   "source": [
    "# Ejercicio 1\n",
    "\n",
    "Clustering K-Means, Jerárquico y por densidad\n",
    "\n",
    "A partir del dataset iris realizar análisis exploratorio y clasificación.\n",
    "Considerar las siguientes actividades:\n",
    "\n",
    "- Como preparar (escalar) datos para un proceso de agrupamiento. (MinMaxScaler)\n",
    "- Cuales son los hiper-parámetros mas importantes en clustering,\n",
    "- Como entrenar un algoritmo de clustering con la librería Scikit Learn,\n",
    "- Como graficar los clusters encontrados por el algoritmo,\n",
    "- Como calcular métricas de evaluación del modelo.\n",
    "\n",
    "Comparar los resultados y explicar las diferencias."
   ]
  },
  {
   "cell_type": "code",
   "execution_count": null,
   "id": "460bb05a-fe33-4a5f-955c-617e9b9230e3",
   "metadata": {
    "tags": []
   },
   "outputs": [],
   "source": [
    "import numpy as np\n",
    "import matplotlib.pyplot as plt\n",
    "from matplotlib import cm\n",
    "from sklearn.datasets import load_iris\n",
    "from sklearn.preprocessing import scale, MinMaxScaler\n",
    "from sklearn.cluster import KMeans, DBSCAN, AgglomerativeClustering, MeanShift, estimate_bandwidth\n",
    "from scipy.cluster.hierarchy import dendrogram, linkage\n",
    "from scipy.spatial.distance import pdist, squareform\n",
    "\n",
    "import warnings\n",
    "warnings.filterwarnings(\"ignore\")"
   ]
  },
  {
   "cell_type": "code",
   "execution_count": null,
   "id": "9e33a729-1a1a-49b1-9ebc-45fbfa407703",
   "metadata": {
    "tags": []
   },
   "outputs": [],
   "source": [
    "# TODO cargo el dataset iris\n"
   ]
  },
  {
   "cell_type": "code",
   "execution_count": null,
   "id": "636ed58a-6b43-4f43-aa97-4c65c61c45d3",
   "metadata": {
    "tags": []
   },
   "outputs": [],
   "source": [
    "# TODO scale \n",
    "\n",
    "# TODO MinMaxScaler\n",
    "\n",
    "\n",
    "# Muestro las primeras 5 filas escaladas con scale\n",
    "print(\"Escalado con scale:\")\n",
    "print(X_scaled[1:6,])\n",
    "\n",
    "# Muestro las primeras 5 filas escaladas con Min-Max\n",
    "print(\"\\nEscalado con Min-Max:\")\n",
    "print(X_scaled[1:6,])"
   ]
  },
  {
   "cell_type": "markdown",
   "id": "37e97b01-69b1-481b-baa1-0f5e6cfbe015",
   "metadata": {},
   "source": [
    "## K-Means"
   ]
  },
  {
   "cell_type": "code",
   "execution_count": null,
   "id": "76f5cfef-171c-467c-af8f-49093e806467",
   "metadata": {
    "tags": []
   },
   "outputs": [],
   "source": [
    "# TODO Implementar algoritmo"
   ]
  },
  {
   "cell_type": "code",
   "execution_count": null,
   "id": "56636366-132b-4b9f-a901-5d67d12e2e4d",
   "metadata": {
    "tags": []
   },
   "outputs": [],
   "source": [
    "y_km = #TODO"
   ]
  },
  {
   "cell_type": "code",
   "execution_count": null,
   "id": "c69f5d07-132c-44df-8f89-e061a32858d3",
   "metadata": {
    "tags": []
   },
   "outputs": [],
   "source": [
    "display(y_km)"
   ]
  },
  {
   "cell_type": "code",
   "execution_count": null,
   "id": "6fbb4f8f-bab0-4014-b80d-67663c3a751d",
   "metadata": {
    "tags": []
   },
   "outputs": [],
   "source": [
    "import matplotlib.pyplot as plt\n",
    "names = ['grupo 0', 'grupo 1', 'grupo 2']\n",
    "marcas = ['*', 'o', 's']\n",
    "color = ['red', 'green', 'blue']\n",
    "plt.figure(figsize=(7, 5), dpi=80)\n",
    "for i in range(len(names)):\n",
    "    cl = i\n",
    "    plt.scatter(X_scaled[y_km==cl,2], X[y_km==cl,3], c=color[i], alpha=0.5, marker='o', label=names[i])\n",
    "plt.xlabel(\"Área\")\n",
    "plt.ylabel(\"Perímetro\")\n",
    "plt.legend(loc='upper left')\n",
    "plt.show()"
   ]
  },
  {
   "cell_type": "markdown",
   "id": "e314e995-55ff-4435-ac23-8b1a21bd99ee",
   "metadata": {},
   "source": [
    "## Clustering Jerárquico"
   ]
  },
  {
   "cell_type": "code",
   "execution_count": null,
   "id": "af109c30-6f62-4d83-9b17-67dec4c99bfe",
   "metadata": {
    "tags": []
   },
   "outputs": [],
   "source": [
    "H = # TODO "
   ]
  },
  {
   "cell_type": "code",
   "execution_count": null,
   "id": "29880431-b5f6-4e31-9129-6789cfb6bcaa",
   "metadata": {
    "tags": []
   },
   "outputs": [],
   "source": [
    "squareform(pdist(X_scaled[0:4,]))"
   ]
  },
  {
   "cell_type": "code",
   "execution_count": null,
   "id": "f273fbe4-c0fa-4b9c-b217-5157c5a96f82",
   "metadata": {
    "tags": []
   },
   "outputs": [],
   "source": [
    "# Plot Dendongrama\n",
    "max_d = 7.08\n",
    "plt.figure(figsize=(25, 10))\n",
    "plt.title('Dendrograma')\n",
    "plt.xlabel('Observaciones')\n",
    "plt.ylabel('Distancia')\n",
    "dendrogram(\n",
    "    H, \n",
    "    truncate_mode='lastp',\n",
    "    p=150, \n",
    "    leaf_rotation=90.,\n",
    "    leaf_font_size=8.,\n",
    ")\n",
    "plt.axhline(y=max_d, c='k')\n",
    "plt.show()"
   ]
  },
  {
   "cell_type": "code",
   "execution_count": null,
   "id": "6343467a-da6d-487a-b927-2741b70d647c",
   "metadata": {
    "tags": []
   },
   "outputs": [],
   "source": [
    "ac = # TODO AgglomerativeClustering\n",
    "y_ag = # TODO \n",
    "labels= # TODO "
   ]
  },
  {
   "cell_type": "code",
   "execution_count": null,
   "id": "13162d47-937e-4f35-90dc-73c979263f8d",
   "metadata": {
    "tags": []
   },
   "outputs": [],
   "source": [
    "names = ['grupo 0', 'grupo 1', 'grupo 2']\n",
    "marcas = ['*', 'o', 's']\n",
    "color = ['red', 'green', 'blue']\n",
    "plt.figure(figsize=(7, 5), dpi=80)\n",
    "for i in range(len(names)):\n",
    "    cl = i\n",
    "    plt.scatter(X_scaled[y_ag==cl,2], X[y_ag==cl,3], c=color[i], alpha=0.5, marker='o', label=names[i])\n",
    "plt.xlabel(\"Área\")\n",
    "plt.ylabel(\"Perímetro\")\n",
    "plt.legend(loc='upper left')\n",
    "plt.show()"
   ]
  },
  {
   "cell_type": "markdown",
   "id": "245a4f88-a161-4267-846f-9d67dd93b5cb",
   "metadata": {},
   "source": [
    "## DBSCAN"
   ]
  },
  {
   "cell_type": "code",
   "execution_count": null,
   "id": "d06413e7-e18e-49f8-8a6f-e40b82c46af9",
   "metadata": {
    "tags": []
   },
   "outputs": [],
   "source": [
    "db = # TODO \n",
    "y_db = # TODO \n",
    "np.unique(y_db)"
   ]
  },
  {
   "cell_type": "code",
   "execution_count": null,
   "id": "5f6ca97d-099c-431e-9ae6-06d7913bc845",
   "metadata": {
    "tags": []
   },
   "outputs": [],
   "source": [
    "viridis = cm.get_cmap('viridis', len(np.unique(y_db)))\n",
    "plt.figure(figsize=(7, 5), dpi=80)\n",
    "for i in np.unique(y_db):\n",
    "    cl = i\n",
    "    etiqueta=\"grupo \" + str(i)\n",
    "    if cl==-1:\n",
    "        plt.scatter(X[y_db==cl,2], X[y_db==cl,3], c=\"k\", alpha=0.5, marker='*', label=\"outlier\")\n",
    "    else:\n",
    "        plt.scatter(X[y_db==cl,2], X[y_db==cl,3], color=viridis(i), alpha=0.5, marker='o', label=etiqueta)\n",
    "plt.xlabel(\"Área\")\n",
    "plt.ylabel(\"Perímetro\")\n",
    "plt.legend(loc='upper left')\n",
    "plt.show()"
   ]
  },
  {
   "cell_type": "markdown",
   "id": "8e59d5be-5b47-4a33-a40f-1c999391e19b",
   "metadata": {},
   "source": [
    "## Meanshift"
   ]
  },
  {
   "cell_type": "code",
   "execution_count": null,
   "id": "d0596a9b-dbe0-4c7f-8738-2cb543ba9508",
   "metadata": {
    "tags": []
   },
   "outputs": [],
   "source": [
    "bandwidth = # TODO \n",
    "ms = # TODO \n",
    "ms.fit(X)"
   ]
  },
  {
   "cell_type": "code",
   "execution_count": null,
   "id": "acac9720-8a33-4ed3-b259-d3dc24dce97b",
   "metadata": {
    "tags": []
   },
   "outputs": [],
   "source": [
    "labels= # TODO \n",
    "labels"
   ]
  },
  {
   "cell_type": "code",
   "execution_count": null,
   "id": "551341f4-d2e5-4d97-a75e-49ae4cbac472",
   "metadata": {
    "tags": []
   },
   "outputs": [],
   "source": [
    "viridis = cm.get_cmap('viridis', len(np.unique(y_db)))\n",
    "plt.figure(figsize=(7, 5), dpi=80)\n",
    "for i in np.unique(y_db):\n",
    "    cl = i\n",
    "    etiqueta=\"grupo \" + str(i)\n",
    "    if cl==-1:\n",
    "        plt.scatter(X[labels==cl,2], X[labels==cl,3], c=\"k\", alpha=0.5, marker='*', label=\"outlier\")\n",
    "    else:\n",
    "        plt.scatter(X[labels==cl,2], X[labels==cl,3], color=viridis(i), alpha=0.5, marker='o', label=etiqueta)\n",
    "plt.xlabel(\"Área\")\n",
    "plt.ylabel(\"Perímetro\")\n",
    "plt.legend(loc='upper left')\n",
    "plt.show()"
   ]
  }
 ],
 "metadata": {
  "kernelspec": {
   "display_name": "Python 3 (ipykernel)",
   "language": "python",
   "name": "python3"
  },
  "language_info": {
   "codemirror_mode": {
    "name": "ipython",
    "version": 3
   },
   "file_extension": ".py",
   "mimetype": "text/x-python",
   "name": "python",
   "nbconvert_exporter": "python",
   "pygments_lexer": "ipython3",
   "version": "3.10.12"
  }
 },
 "nbformat": 4,
 "nbformat_minor": 5
}
