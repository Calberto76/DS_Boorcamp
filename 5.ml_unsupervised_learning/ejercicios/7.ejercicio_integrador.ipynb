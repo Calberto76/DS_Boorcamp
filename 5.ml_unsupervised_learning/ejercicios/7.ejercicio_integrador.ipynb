{
 "cells": [
  {
   "cell_type": "markdown",
   "id": "062e9061-132e-48e1-a508-91a275942305",
   "metadata": {},
   "source": [
    "# Ejercicio 1\n",
    "\n",
    "Utilizando el algoritmo correspondiente, reducir el tamaño de la siguiente imágen a 16 colores.\n",
    "\n",
    "`./data/montevideo.jpg`"
   ]
  },
  {
   "cell_type": "code",
   "execution_count": null,
   "id": "63d00904-7a4a-4b72-9789-dceb882a2341",
   "metadata": {
    "tags": []
   },
   "outputs": [],
   "source": [
    "import time\n",
    "import warnings\n",
    "from itertools import cycle, islice\n",
    "import numpy as np\n",
    "import pandas as pd\n",
    "from sklearn import cluster, datasets, mixture\n",
    "from sklearn.neighbors import kneighbors_graph\n",
    "from sklearn.preprocessing import StandardScaler\n",
    "from sklearn.cluster import AgglomerativeClustering\n",
    "from sklearn.cluster import SpectralClustering, KMeans, MiniBatchKMeans, DBSCAN\n",
    "from sklearn.datasets import make_blobs, make_s_curve, make_circles\n",
    "from sklearn.cluster import MeanShift, estimate_bandwidth\n",
    "from sklearn.mixture import GaussianMixture\n",
    "from scipy import stats\n",
    "\n",
    "\n",
    "\n",
    "# use seaborn plotting defaults\n",
    "import seaborn as sns; sns.set()\n",
    "import matplotlib.pyplot as plt\n",
    "from matplotlib.patches import Ellipse\n",
    "import cv2\n",
    "from PIL import Image\n",
    "import warnings\n",
    "warnings.filterwarnings(\"ignore\")\n",
    "warnings.simplefilter('ignore') "
   ]
  },
  {
   "cell_type": "code",
   "execution_count": null,
   "id": "ecd5a052-2430-44a0-be7b-41a6192159e5",
   "metadata": {
    "tags": []
   },
   "outputs": [],
   "source": [
    "# TODO Importar imagen"
   ]
  },
  {
   "cell_type": "code",
   "execution_count": null,
   "id": "ed603af5-cfc4-4a21-9e72-dfec008d4c19",
   "metadata": {
    "tags": []
   },
   "outputs": [],
   "source": [
    "# TODO Shape imagen"
   ]
  },
  {
   "cell_type": "code",
   "execution_count": null,
   "id": "fc92778d-ddc8-4011-9ab3-88164a69b71c",
   "metadata": {
    "tags": []
   },
   "outputs": [],
   "source": [
    "# normalizamos la imagen para que tenga valores entre 0 y 1"
   ]
  },
  {
   "cell_type": "code",
   "execution_count": null,
   "id": "5ad4da7c-0a3f-4932-9bc3-568420267346",
   "metadata": {
    "tags": []
   },
   "outputs": [],
   "source": [
    "def plot_pixels(data, title, colors=None, N=10000):\n",
    "    if colors is None:\n",
    "        colors = data\n",
    "    \n",
    "    # choose a random subset\n",
    "    rng = np.random.RandomState(0)\n",
    "    i = rng.permutation(data.shape[0])[:N]\n",
    "    colors = colors[i]\n",
    "    R, G, B = data[i].T\n",
    "    \n",
    "    fig, ax = plt.subplots(1, 2, figsize=(16, 6))\n",
    "    ax[0].scatter(R, G, color=colors, marker='.')\n",
    "    ax[0].set(xlabel='Red', ylabel='Green', xlim=(0, 1), ylim=(0, 1))\n",
    "\n",
    "    ax[1].scatter(R, B, color=colors, marker='.')\n",
    "    ax[1].set(xlabel='Red', ylabel='Blue', xlim=(0, 1), ylim=(0, 1))\n",
    "\n",
    "    fig.suptitle(title, size=20);"
   ]
  },
  {
   "cell_type": "code",
   "execution_count": null,
   "id": "3e4a14b4-5425-421c-a35e-cb11b6f6d497",
   "metadata": {
    "tags": []
   },
   "outputs": [],
   "source": [
    "# TODO Implementar algoritmo\n"
   ]
  },
  {
   "cell_type": "code",
   "execution_count": null,
   "id": "1fb17d9c-6260-4a68-9c4f-fff49867ce3a",
   "metadata": {
    "tags": []
   },
   "outputs": [],
   "source": [
    "# TODO Reshape y plotear resultado"
   ]
  },
  {
   "cell_type": "markdown",
   "id": "176b8426-ced2-4dfc-9f28-b735e8b52c17",
   "metadata": {},
   "source": [
    "# Ejercicio 2\n",
    "\n",
    "Se te brinda un set de datos y debes de utilizar al menos dos métodos de agrupamiento según tu criterio."
   ]
  },
  {
   "cell_type": "code",
   "execution_count": null,
   "id": "be161e15-6f18-482d-97c9-8efdecdfdc55",
   "metadata": {
    "tags": []
   },
   "outputs": [],
   "source": [
    "n_samples = 1500\n",
    "noise = 0.023\n",
    "# generate 2d classification dataset\n",
    "X, _ = make_circles(n_samples=n_samples, noise=noise)\n",
    "# Make it thinner\n",
    "X[:, 1] *= 0.5"
   ]
  },
  {
   "cell_type": "code",
   "execution_count": null,
   "id": "00195283-c3d7-467b-973c-1e59f6915280",
   "metadata": {
    "tags": []
   },
   "outputs": [],
   "source": [
    "# TODO escalar datos "
   ]
  },
  {
   "cell_type": "code",
   "execution_count": null,
   "id": "83448c74-9737-4683-8837-28ff9fd7605e",
   "metadata": {
    "tags": []
   },
   "outputs": [],
   "source": [
    "plt.scatter(X[:, 0], X[:, 1], s=50, cmap='rainbow')"
   ]
  },
  {
   "cell_type": "code",
   "execution_count": null,
   "id": "e6a7ff40-5ff5-4c86-83c1-b445ef86c6fa",
   "metadata": {
    "tags": []
   },
   "outputs": [],
   "source": [
    "# TODO Algoritmo 1"
   ]
  },
  {
   "cell_type": "code",
   "execution_count": null,
   "id": "0fbef913-9cd3-40c4-a88c-f21d9cf5250c",
   "metadata": {
    "tags": []
   },
   "outputs": [],
   "source": []
  },
  {
   "cell_type": "code",
   "execution_count": null,
   "id": "3005fc21-8842-4fdb-8152-8e719a721f0a",
   "metadata": {
    "tags": []
   },
   "outputs": [],
   "source": [
    "# TODO Algoritmo 2"
   ]
  },
  {
   "cell_type": "code",
   "execution_count": null,
   "id": "f4644b5a-f000-4a6e-b75b-28fb237e1ba5",
   "metadata": {
    "tags": []
   },
   "outputs": [],
   "source": []
  },
  {
   "cell_type": "markdown",
   "id": "ee0574a6-3995-40fa-8f8b-1daa0e676a4e",
   "metadata": {},
   "source": [
    "# Ejercicio 3\n",
    "\n",
    "Utilizando el algoritmo de agrupamiento correspondiente realizar la segementación de imágen del siguiente archivo\n",
    "\n",
    "`./data/r2d2`"
   ]
  },
  {
   "cell_type": "code",
   "execution_count": null,
   "id": "fc7bbe4d-8345-4e6d-967a-6f1b7bce4848",
   "metadata": {
    "tags": []
   },
   "outputs": [],
   "source": [
    "# TODO Importar imagen"
   ]
  },
  {
   "cell_type": "code",
   "execution_count": null,
   "id": "b0da0be0-4382-41e0-9206-11e66fa0b5d0",
   "metadata": {
    "tags": []
   },
   "outputs": [],
   "source": [
    "# TODO realizar un reshape "
   ]
  },
  {
   "cell_type": "code",
   "execution_count": null,
   "id": "dc80ed69-cc5c-45a4-be3d-e903be0fff69",
   "metadata": {},
   "outputs": [],
   "source": [
    "# TODO Hiperparámetros del algoritmo"
   ]
  },
  {
   "cell_type": "code",
   "execution_count": null,
   "id": "c0c88986-86ff-4d57-b986-3dbb95e3e898",
   "metadata": {
    "tags": []
   },
   "outputs": [],
   "source": [
    "# TODO Algoritmo"
   ]
  },
  {
   "cell_type": "code",
   "execution_count": null,
   "id": "ef0cd1e6-e9ff-4760-902d-7fbe330a0e25",
   "metadata": {
    "tags": []
   },
   "outputs": [],
   "source": [
    "# TODO Ploteamos la imagen original y la segmentada"
   ]
  },
  {
   "cell_type": "markdown",
   "id": "ce9197cd-e800-48a2-b608-924e2f538f2c",
   "metadata": {
    "tags": []
   },
   "source": [
    "# Ejercicio 4\n",
    "\n",
    "Crear un dataset sintético y aplicar le algoritmo de mixturas gaussianas (GMM) para poder realizar las agrupaciones."
   ]
  },
  {
   "cell_type": "code",
   "execution_count": null,
   "id": "ab95973f-cf00-4d5e-8c73-dc4395177872",
   "metadata": {
    "tags": []
   },
   "outputs": [],
   "source": [
    "# TODO Crear dataset sintético (Referir a la documentación de sklearn) https://scikit-learn.org/stable/modules/classes.html#module-sklearn.datasets"
   ]
  },
  {
   "cell_type": "code",
   "execution_count": null,
   "id": "1ea0e0bc-87e8-45c8-b823-9dc14cc01e6e",
   "metadata": {
    "tags": []
   },
   "outputs": [],
   "source": [
    "# TODO Plot"
   ]
  },
  {
   "cell_type": "code",
   "execution_count": null,
   "id": "c5863252-e10b-463a-8fd8-11bcac4b7a8b",
   "metadata": {
    "tags": []
   },
   "outputs": [],
   "source": [
    "# TODO Hiperparámetros"
   ]
  },
  {
   "cell_type": "code",
   "execution_count": null,
   "id": "508417bd-63df-4b1d-99fb-3c837ec74f16",
   "metadata": {
    "tags": []
   },
   "outputs": [],
   "source": [
    "# TODO Entrenamiento y plot"
   ]
  },
  {
   "cell_type": "markdown",
   "id": "ba3fba64-a4a9-481a-9b68-23d970abc26e",
   "metadata": {},
   "source": [
    "# Ejercicio 5\n",
    "\n",
    "En base al dataset del Titanic, aplicar al menos dos algoritmos de agrupación para agrupar los sobrevivientes y comparar sus resultados.\n",
    "\n",
    ">Note: Realizar la limpieza y preparación de datos correspondientes."
   ]
  },
  {
   "cell_type": "markdown",
   "id": "adba3d91-2758-486c-b110-6e3befe888fd",
   "metadata": {},
   "source": [
    "<table>\n",
    "<tbody>\n",
    "<tr><th><b>Variable</b></th><th><b>Definition</b></th><th><b>Key</b></th></tr>\n",
    "<tr>\n",
    "<td>survival</td>\n",
    "<td>Survival</td>\n",
    "<td>0 = No, 1 = Yes</td>\n",
    "</tr>\n",
    "<tr>\n",
    "<td>pclass</td>\n",
    "<td>Ticket class</td>\n",
    "<td>1 = 1st, 2 = 2nd, 3 = 3rd</td>\n",
    "</tr>\n",
    "<tr>\n",
    "<td>sex</td>\n",
    "<td>Sex</td>\n",
    "<td></td>\n",
    "</tr>\n",
    "<tr>\n",
    "<td>Age</td>\n",
    "<td>Age in years</td>\n",
    "<td></td>\n",
    "</tr>\n",
    "<tr>\n",
    "<td>sibsp</td>\n",
    "<td># of siblings / spouses aboard the Titanic</td>\n",
    "<td></td>\n",
    "</tr>\n",
    "<tr>\n",
    "<td>parch</td>\n",
    "<td># of parents / children aboard the Titanic</td>\n",
    "<td></td>\n",
    "</tr>\n",
    "<tr>\n",
    "<td>ticket</td>\n",
    "<td>Ticket number</td>\n",
    "<td></td>\n",
    "</tr>\n",
    "<tr>\n",
    "<td>fare</td>\n",
    "<td>Passenger fare</td>\n",
    "<td></td>\n",
    "</tr>\n",
    "<tr>\n",
    "<td>cabin</td>\n",
    "<td>Cabin number</td>\n",
    "<td></td>\n",
    "</tr>\n",
    "<tr>\n",
    "<td>embarked</td>\n",
    "<td>Port of Embarkation</td>\n",
    "<td>C = Cherbourg, Q = Queenstown, S = Southampton</td>\n",
    "</tr>\n",
    "</tbody>\n",
    "</table>\n"
   ]
  },
  {
   "cell_type": "code",
   "execution_count": null,
   "id": "90f3c9e2-f0ba-415c-8ccc-ad1119328206",
   "metadata": {
    "tags": []
   },
   "outputs": [],
   "source": [
    "# TODO Importar datos "
   ]
  },
  {
   "cell_type": "code",
   "execution_count": null,
   "id": "f95aebd8-e4ce-46e4-adec-1a5a87f3f134",
   "metadata": {
    "tags": []
   },
   "outputs": [],
   "source": [
    "# TODO Preparación de datos"
   ]
  },
  {
   "cell_type": "code",
   "execution_count": null,
   "id": "6f92dc9d-9d0d-4e8d-87db-01af6dfc2172",
   "metadata": {
    "tags": []
   },
   "outputs": [],
   "source": []
  },
  {
   "cell_type": "code",
   "execution_count": null,
   "id": "2b5238c4-23a8-4cc4-9077-ec6dbad3e946",
   "metadata": {
    "tags": []
   },
   "outputs": [],
   "source": []
  },
  {
   "cell_type": "code",
   "execution_count": null,
   "id": "bcdbccac-3060-4628-84fe-94978a0f70fd",
   "metadata": {
    "tags": []
   },
   "outputs": [],
   "source": []
  },
  {
   "cell_type": "code",
   "execution_count": null,
   "id": "0bca33fd-1644-408a-a970-f87f737680a0",
   "metadata": {
    "tags": []
   },
   "outputs": [],
   "source": []
  },
  {
   "cell_type": "code",
   "execution_count": null,
   "id": "0e42e706-3f21-4d3a-8901-75dc76c024a9",
   "metadata": {
    "tags": []
   },
   "outputs": [],
   "source": []
  },
  {
   "cell_type": "markdown",
   "id": "c4c68c1c-8da6-4c44-9c2a-6bcc089ea0d1",
   "metadata": {
    "tags": []
   },
   "source": [
    "## ALGORITMO 1 - NOMBRE"
   ]
  },
  {
   "cell_type": "code",
   "execution_count": null,
   "id": "0de19aee-f479-4b86-a673-b4d3a9a6c0e8",
   "metadata": {
    "tags": []
   },
   "outputs": [],
   "source": [
    "# TODO Hiperparámetros y entrenamiento - En caso de necesitarlo utilizar cantidad de clusters = 7"
   ]
  },
  {
   "cell_type": "code",
   "execution_count": null,
   "id": "a08cf9f0-4678-4d93-a583-6e29a9e43bb5",
   "metadata": {
    "tags": []
   },
   "outputs": [],
   "source": []
  },
  {
   "cell_type": "code",
   "execution_count": null,
   "id": "cba7afda-ab6b-4c70-b168-37f385cd40ed",
   "metadata": {
    "tags": []
   },
   "outputs": [],
   "source": [
    "# TODO Groupby"
   ]
  },
  {
   "cell_type": "markdown",
   "id": "3a4400b6-6a38-4806-a423-ae231b8650c4",
   "metadata": {
    "tags": []
   },
   "source": [
    "## ALGORITMO 2 - NOMBRE"
   ]
  },
  {
   "cell_type": "code",
   "execution_count": null,
   "id": "12501310-50fe-4da0-a86c-4189b1d47985",
   "metadata": {
    "tags": []
   },
   "outputs": [],
   "source": [
    "# TODO Hiperparámetros y entrenamiento - En caso de necesitarlo utilizar cantidad de clusters = 7"
   ]
  },
  {
   "cell_type": "code",
   "execution_count": null,
   "id": "6ee7062c-fd05-4ed1-bfec-5e2168e132f2",
   "metadata": {
    "tags": []
   },
   "outputs": [],
   "source": []
  }
 ],
 "metadata": {
  "kernelspec": {
   "display_name": "Python 3 (ipykernel)",
   "language": "python",
   "name": "python3"
  },
  "language_info": {
   "codemirror_mode": {
    "name": "ipython",
    "version": 3
   },
   "file_extension": ".py",
   "mimetype": "text/x-python",
   "name": "python",
   "nbconvert_exporter": "python",
   "pygments_lexer": "ipython3",
   "version": "3.10.12"
  }
 },
 "nbformat": 4,
 "nbformat_minor": 5
}
