{
 "cells": [
  {
   "cell_type": "markdown",
   "id": "02ae7149-76b6-436a-ad99-eceedea8a678",
   "metadata": {},
   "source": [
    "# Ejercicio 1\n",
    "\n",
    "Se le provee el dataset de iris incluido en la librería `sklearn`. El objetivo es encontrar al menos 3 valores del parámetro `k` y comprar los resultados con el `Ground Truth` (Fuente de datos reales).\n",
    "Utilizar el bloque de código que nos permite encontrar valores óptimos de `k`"
   ]
  },
  {
   "cell_type": "code",
   "execution_count": null,
   "id": "3882f743-7970-4d27-87a0-fabadff475b5",
   "metadata": {
    "tags": []
   },
   "outputs": [],
   "source": [
    "import matplotlib.pyplot as plt\n",
    "import mpl_toolkits.mplot3d  # noqa: F401\n",
    "import numpy as np\n",
    "from sklearn import datasets # Usaremos el dataset de iris.\n",
    "from sklearn.cluster import KMeans\n",
    "import warnings\n",
    "warnings.filterwarnings(\"ignore\")\n",
    "np.random.seed(5)"
   ]
  },
  {
   "cell_type": "markdown",
   "id": "4118bb62-4821-4f8a-9369-c0f10efe7d6b",
   "metadata": {},
   "source": [
    "## Buscamos posibles valores de `k`\n",
    "\n",
    "Utilizando la siguiente herramienta encontrar al menos dos valores representativos de `k` que nos permitan crear agrupaciones."
   ]
  },
  {
   "cell_type": "code",
   "execution_count": null,
   "id": "ffdb4a47-af13-49c5-b711-063510db28fc",
   "metadata": {
    "tags": []
   },
   "outputs": [],
   "source": [
    "kmeans_kwargs = {\n",
    "\"init\": \"random\",\n",
    "\"n_init\": 10,\n",
    "\"random_state\": 1,\n",
    "} \n",
    "\n",
    "#create list to hold SSE values for each k\n",
    "sse = []\n",
    "for k in range(1, 11):\n",
    "    kmeans = KMeans(n_clusters=k, **kmeans_kwargs)\n",
    "    kmeans.fit(X)\n",
    "    sse.append(kmeans.inertia_)\n",
    "\n",
    "#visualize results\n",
    "plt.plot(range(1, 11), sse)\n",
    "plt.xticks(range(1, 11))\n",
    "plt.xlabel(\"Number of Clusters\")\n",
    "plt.ylabel(\"SSE\")\n",
    "plt.show()"
   ]
  },
  {
   "cell_type": "markdown",
   "id": "e31b1622-f4ff-4df8-96c6-315248aced4b",
   "metadata": {},
   "source": [
    "## Cargamos los datos del dataset `iris`"
   ]
  },
  {
   "cell_type": "code",
   "execution_count": null,
   "id": "492c3029-6bc4-4077-ab58-82db426595f4",
   "metadata": {
    "tags": []
   },
   "outputs": [],
   "source": [
    "iris = datasets.load_iris()\n",
    "X = #TODO\n",
    "y = #TODO"
   ]
  },
  {
   "cell_type": "markdown",
   "id": "7ac97a73-2579-4c3c-915a-93c5a8775789",
   "metadata": {},
   "source": [
    "## Estimadores\n",
    "\n",
    "Creamos una lista con los diferentes parámetros que utilizaremos para evaluar los agrupamientos.\n",
    "El último estimador lo formazmos con un valor de `n_init=1` (default = 10) para compararlos con aquellos que tienen un valor adecuado para el parámetro.\n",
    "\n",
    "---\n",
    "\n",
    "`n_init` Número de veces que se ejecuta el algoritmo k-means con diferentes semillas de centroide. El resultado final es el mejor resultado de n_init ejecuciones consecutivas en términos de inercia. Se recomiendan varias ejecuciones para problemas dispersos de alta dimensión."
   ]
  },
  {
   "cell_type": "code",
   "execution_count": null,
   "id": "af59d15b-c7a0-4b00-8c0f-b5472a219509",
   "metadata": {
    "tags": []
   },
   "outputs": [],
   "source": [
    "estimators = [\n",
    "    (\"k_means_iris_v1\", KMeans(n_clusters=#TODO, n_init=\"auto\")),\n",
    "    (\"k_means_iris_v2\", KMeans(n_clusters=#TODO, n_init=\"auto\")),\n",
    "    (\"k_means_iris_bad_init\", KMeans(n_clusters=#TODO, n_init=1, init=\"random\")),\n",
    "]"
   ]
  },
  {
   "cell_type": "markdown",
   "id": "e523305d-e37f-49f0-8e40-db313bf881cc",
   "metadata": {},
   "source": [
    "## Ploteamos los resultados y el `Ground Truth`"
   ]
  },
  {
   "cell_type": "code",
   "execution_count": null,
   "id": "f6ea0ea5-8179-4dc0-958c-18ec5f5a4ac0",
   "metadata": {
    "tags": []
   },
   "outputs": [],
   "source": [
    "fig = plt.figure(figsize=(10, 8))\n",
    "titles = [\"2 clusters\", \"3 clusters\", \"3 clusters, bad initialization\"]\n",
    "for idx, ((name, est), title) in enumerate(zip(estimators, titles)):\n",
    "    ax = fig.add_subplot(2, 2, idx + 1, projection=\"3d\", elev=48, azim=134)\n",
    "    est.fit(X)\n",
    "    labels = est.labels_\n",
    "\n",
    "    ax.scatter(X[:, 3], X[:, 0], X[:, 2], c=labels.astype(float), edgecolor=\"k\")\n",
    "\n",
    "    ax.xaxis.set_ticklabels([])\n",
    "    ax.yaxis.set_ticklabels([])\n",
    "    ax.zaxis.set_ticklabels([])\n",
    "    ax.set_xlabel(\"Petal width\")\n",
    "    ax.set_ylabel(\"Sepal length\")\n",
    "    ax.set_zlabel(\"Petal length\")\n",
    "    ax.set_title(title)\n",
    "\n",
    "# Plot the ground truth\n",
    "ax = fig.add_subplot(2, 2, 4, projection=\"3d\", elev=48, azim=134)\n",
    "\n",
    "for name, label in [(\"Setosa\", 0), (\"Versicolour\", 1), (\"Virginica\", 2)]:\n",
    "    ax.text3D(\n",
    "        X[y == label, 3].mean(),\n",
    "        X[y == label, 0].mean(),\n",
    "        X[y == label, 2].mean() + 2,\n",
    "        name,\n",
    "        horizontalalignment=\"center\",\n",
    "        bbox=dict(alpha=0.2, edgecolor=\"w\", facecolor=\"w\"),\n",
    "    )\n",
    "# Reorder the labels to have colors matching the cluster results\n",
    "y = np.choose(y, [1, 2, 0]).astype(float)\n",
    "ax.scatter(X[:, 3], X[:, 0], X[:, 2], c=y, edgecolor=\"k\")\n",
    "\n",
    "ax.xaxis.set_ticklabels([])\n",
    "ax.yaxis.set_ticklabels([])\n",
    "ax.zaxis.set_ticklabels([])\n",
    "ax.set_xlabel(\"Petal width\")\n",
    "ax.set_ylabel(\"Sepal length\")\n",
    "ax.set_zlabel(\"Petal length\")\n",
    "ax.set_title(\"Ground Truth\")\n",
    "\n",
    "plt.subplots_adjust(wspace=0.25, hspace=0.25)\n",
    "plt.show()"
   ]
  },
  {
   "cell_type": "markdown",
   "id": "1a454b0c-4196-44e4-b9a3-e9fdd9587b1b",
   "metadata": {},
   "source": [
    "# Ejercicio 2\n",
    "\n",
    "A partir de datos sintéticos comparar los resultados de utilizar el algoritmo `k-means` y `MiniBatchKMeans`\n",
    "\n",
    "---\n",
    "\n",
    "`MiniBatchKMeans` es una variante del algoritmo `KMeans` que utiliza minilotes para reducir el tiempo de cálculo, al mismo tiempo que intenta optimizar la misma función objetivo. Los minilotes son subconjuntos de datos de entrada, muestreados aleatoriamente en cada iteración de entrenamiento. Estos minilotes reducen drásticamente la cantidad de cálculo necesario para converger a una solución local. A diferencia de otros algoritmos que reducen el tiempo de convergencia de `k-means`, el `mini-batch k-means` produce resultados que generalmente son sólo ligeramente peores que el algoritmo estándar.\n"
   ]
  },
  {
   "cell_type": "code",
   "execution_count": null,
   "id": "4bb8c49b-41d2-4a00-8f9c-841978ffaaf9",
   "metadata": {
    "tags": []
   },
   "outputs": [],
   "source": [
    "import numpy as np\n",
    "from sklearn.datasets import make_blobs\n",
    "import time\n",
    "from sklearn.cluster import KMeans\n",
    "from sklearn.metrics.pairwise import pairwise_distances_argmin\n",
    "import matplotlib.pyplot as plt\n",
    "import warnings\n",
    "warnings.filterwarnings(\"ignore\")\n",
    "np.random.seed(0)"
   ]
  },
  {
   "cell_type": "code",
   "execution_count": null,
   "id": "86c8f867-37ac-47e4-99df-14a8b748f445",
   "metadata": {
    "tags": []
   },
   "outputs": [],
   "source": [
    "batch_size = 100\n",
    "centers = [[1, 1], [-1, -1], [1, -1]]\n",
    "n_clusters = len(centers)\n",
    "X, labels_true = make_blobs(n_samples=100000, centers=centers, cluster_std=1)"
   ]
  },
  {
   "cell_type": "code",
   "execution_count": null,
   "id": "a788d7df-40d0-4561-b9af-c0d33c379900",
   "metadata": {
    "tags": []
   },
   "outputs": [],
   "source": [
    "kmeans_kwargs = {\n",
    "\"init\": \"random\",\n",
    "\"n_init\": 10,\n",
    "\"random_state\": 1,\n",
    "}\n",
    "\n",
    "#create list to hold SSE values for each k\n",
    "sse = []\n",
    "for k in range(1, 11):\n",
    "    kmeans = KMeans(n_clusters=k, **kmeans_kwargs)\n",
    "    kmeans.fit(X)\n",
    "    sse.append(kmeans.inertia_)\n",
    "\n",
    "#visualize results\n",
    "plt.plot(range(1, 11), sse)\n",
    "plt.xticks(range(1, 11))\n",
    "plt.xlabel(\"Number of Clusters\")\n",
    "plt.ylabel(\"SSE\")\n",
    "plt.show()"
   ]
  },
  {
   "cell_type": "markdown",
   "id": "f73362a0-b5e6-45c2-ba4e-84c18bf999d0",
   "metadata": {},
   "source": [
    "## Compute time with K-means"
   ]
  },
  {
   "cell_type": "code",
   "execution_count": null,
   "id": "29304baf-d140-44bb-9fd4-135396fc73a6",
   "metadata": {
    "tags": []
   },
   "outputs": [],
   "source": [
    "k_means = KMeans() #TODO\n",
    "t0 = time.time()\n",
    "k_means.fit(X)\n",
    "t_batch = time.time() - t0"
   ]
  },
  {
   "cell_type": "markdown",
   "id": "d2025264-0705-4c96-81f5-5669e3552378",
   "metadata": {},
   "source": [
    "## Compute time with Mini Batch K-Means"
   ]
  },
  {
   "cell_type": "code",
   "execution_count": null,
   "id": "2490fcfd-a471-49f3-b894-692ad9f87917",
   "metadata": {
    "tags": []
   },
   "outputs": [],
   "source": [
    "from sklearn.cluster import MiniBatchKMeans\n",
    "\n",
    "mbk = MiniBatchKMeans() #TODO\n",
    "t0 = time.time()\n",
    "mbk.fit(X)\n",
    "t_mini_batch = time.time() - t0"
   ]
  },
  {
   "cell_type": "markdown",
   "id": "c661f606-8638-42f5-a434-d7429bd15fbb",
   "metadata": {},
   "source": [
    "## Establecer paridad entre clusters\n",
    "\n",
    "Queremos tener el mismo color para el mismo clúster tanto del algoritmo MiniBatchKMeans como del KMeans. Emparejemos los centros del grupo según el más cercano."
   ]
  },
  {
   "cell_type": "code",
   "execution_count": null,
   "id": "f9240da5-d9e6-4548-9cae-9b94c48dfcb7",
   "metadata": {
    "tags": []
   },
   "outputs": [],
   "source": [
    "k_means_cluster_centers = k_means.cluster_centers_\n",
    "order = pairwise_distances_argmin(k_means.cluster_centers_, mbk.cluster_centers_)\n",
    "mbk_means_cluster_centers = mbk.cluster_centers_[order]\n",
    "\n",
    "k_means_labels = pairwise_distances_argmin(X, k_means_cluster_centers)\n",
    "mbk_means_labels = pairwise_distances_argmin(X, mbk_means_cluster_centers)"
   ]
  },
  {
   "cell_type": "markdown",
   "id": "90724d75-e94c-4848-a448-48142ec4fa51",
   "metadata": {},
   "source": [
    "## Ploteamos resultados"
   ]
  },
  {
   "cell_type": "code",
   "execution_count": null,
   "id": "a2b50211-4c16-4d9b-a000-4d0b864fa0bb",
   "metadata": {
    "tags": []
   },
   "outputs": [],
   "source": [
    "fig = plt.figure(figsize=(8, 3))\n",
    "fig.subplots_adjust(left=0.02, right=0.98, bottom=0.05, top=0.9)\n",
    "colors = [\"#4EACC5\", \"#FF9C34\", \"#4E9A06\"]\n",
    "\n",
    "# KMeans\n",
    "ax = fig.add_subplot(1, 3, 1)\n",
    "for k, col in zip(range(n_clusters), colors):\n",
    "    my_members = k_means_labels == k\n",
    "    cluster_center = k_means_cluster_centers[k]\n",
    "    ax.plot(X[my_members, 0], X[my_members, 1], \"w\", markerfacecolor=col, marker=\".\")\n",
    "    ax.plot(\n",
    "        cluster_center[0],\n",
    "        cluster_center[1],\n",
    "        \"o\",\n",
    "        markerfacecolor=col,\n",
    "        markeredgecolor=\"k\",\n",
    "        markersize=6,\n",
    "    )\n",
    "ax.set_title(\"KMeans\")\n",
    "ax.set_xticks(())\n",
    "ax.set_yticks(())\n",
    "plt.text(-3.5, 1.8, \"train time: %.2fs\\ninertia: %f\" % (t_batch, k_means.inertia_))\n",
    "\n",
    "# MiniBatchKMeans\n",
    "ax = fig.add_subplot(1, 3, 2)\n",
    "for k, col in zip(range(n_clusters), colors):\n",
    "    my_members = mbk_means_labels == k\n",
    "    cluster_center = mbk_means_cluster_centers[k]\n",
    "    ax.plot(X[my_members, 0], X[my_members, 1], \"w\", markerfacecolor=col, marker=\".\")\n",
    "    ax.plot(\n",
    "        cluster_center[0],\n",
    "        cluster_center[1],\n",
    "        \"o\",\n",
    "        markerfacecolor=col,\n",
    "        markeredgecolor=\"k\",\n",
    "        markersize=6,\n",
    "    )\n",
    "ax.set_title(\"MiniBatchKMeans\")\n",
    "ax.set_xticks(())\n",
    "ax.set_yticks(())\n",
    "plt.text(-3.5, 1.8, \"train time: %.2fs\\ninertia: %f\" % (t_mini_batch, mbk.inertia_))\n",
    "\n",
    "# Initialize the different array to all False\n",
    "different = mbk_means_labels == 4\n",
    "ax = fig.add_subplot(1, 3, 3)\n",
    "\n",
    "for k in range(n_clusters):\n",
    "    different += (k_means_labels == k) != (mbk_means_labels == k)\n",
    "\n",
    "identical = np.logical_not(different)\n",
    "ax.plot(X[identical, 0], X[identical, 1], \"w\", markerfacecolor=\"#bbbbbb\", marker=\".\")\n",
    "ax.plot(X[different, 0], X[different, 1], \"w\", markerfacecolor=\"m\", marker=\".\")\n",
    "ax.set_title(\"Difference\")\n",
    "ax.set_xticks(())\n",
    "ax.set_yticks(())\n",
    "\n",
    "plt.show()"
   ]
  },
  {
   "cell_type": "markdown",
   "id": "25447f24-c7d6-4527-a052-8fb6cd88216f",
   "metadata": {},
   "source": [
    "# Agrupación jerárquica:\n",
    "\n",
    "En minería de datos y estadística, la agrupación jerárquica (también llamada análisis de conglomerados jerárquico o HCA) es un método de análisis de conglomerados que busca construir una jerarquía de conglomerados. Las estrategias para la agrupación jerárquica generalmente se dividen en dos tipos\n",
    "\n",
    "- Aglomerativo: Este es un enfoque \"de abajo hacia arriba\": cada observación comienza en su propio grupo y los pares de grupos se fusionan a medida que uno asciende en la jerarquía.\n",
    "\n",
    "- Divisivo: este es un enfoque \"de arriba hacia abajo\": todas las observaciones comienzan en un grupo y las divisiones se realizan de forma recursiva a medida que uno desciende en la jerarquía.\n",
    "\n",
    "En general, las fusiones y escisiones se determinan de forma codiciosa. Los resultados del agrupamiento jerárquico suelen presentarse en un dendrograma."
   ]
  },
  {
   "cell_type": "markdown",
   "id": "426b8fd5-b971-4be2-9e68-82d8ee73c44a",
   "metadata": {},
   "source": [
    "## Ejercicio 2 - Agrupación jerárquica\n",
    "\n",
    "Se le provee un dataset con datos de compra de diferentes clientes de un supermercado. Utilizar agrupamiento jerárquico para poder establecer clusters de comportamientos similares"
   ]
  },
  {
   "cell_type": "code",
   "execution_count": null,
   "id": "7d6415d8-e9e4-40ab-8854-4c805bc46d11",
   "metadata": {
    "tags": []
   },
   "outputs": [],
   "source": [
    "import pandas as pd\n",
    "import numpy as np\n",
    "from sklearn.preprocessing import normalize\n",
    "import scipy.cluster.hierarchy as shc\n",
    "import matplotlib.pyplot as plt\n",
    "import seaborn as sns"
   ]
  },
  {
   "cell_type": "code",
   "execution_count": null,
   "id": "325b4f05-9df5-4fe1-beb4-b2f183fd47f6",
   "metadata": {
    "tags": []
   },
   "outputs": [],
   "source": [
    "data = pd.read_csv('./data/Wholesale customers data.csv')\n",
    "data.head()"
   ]
  },
  {
   "cell_type": "code",
   "execution_count": null,
   "id": "a05ea3c5-838f-45bc-b77b-5ffb9f4bac43",
   "metadata": {
    "tags": []
   },
   "outputs": [],
   "source": [
    "sns.pairplot(data)"
   ]
  },
  {
   "cell_type": "markdown",
   "id": "25111f6b-89f1-4f2b-a30b-20fbb996fd39",
   "metadata": {},
   "source": [
    "Hay varias categorías de productos: frescos, lácteos, comestibles, etc. Los valores representan la cantidad de unidades compradas por cada cliente para cada producto. Nuestro objetivo es crear grupos a partir de estos datos que puedan segmentar a clientes similares. Por supuesto, utilizaremos agrupación jerárquica para este problema.\n",
    "\n",
    "Pero antes de aplicar el Clustering Jerárquico, tenemos que normalizar los datos para que la escala de cada variable sea la misma. ¿Porque es esto importante? Bueno, si la escala de las variables no es la misma, el modelo podría sesgarse hacia las variables con una magnitud mayor como `Fresco` o `Leche` (consulte la tabla anterior).\n",
    "\n",
    "Entonces, primero normalicemos los datos y llevemos todas las variables a la misma escala:"
   ]
  },
  {
   "cell_type": "code",
   "execution_count": null,
   "id": "9ff39597-1f50-4617-9bc6-bac7b7722e16",
   "metadata": {
    "tags": []
   },
   "outputs": [],
   "source": [
    "data_scaled = #TODO\n",
    "data_scaled = pd.DataFrame(data_scaled, columns=data.columns)\n",
    "data_scaled.head()"
   ]
  },
  {
   "cell_type": "code",
   "execution_count": null,
   "id": "6ca3d3c8-282e-4467-bb80-0619baa29c2a",
   "metadata": {
    "tags": []
   },
   "outputs": [],
   "source": [
    "plt.figure(figsize=(16, 10))  \n",
    "plt.title(\"Dendrograms\")  \n",
    "dend = #TODO"
   ]
  },
  {
   "cell_type": "markdown",
   "id": "2da574d3-16ae-4fd7-bf08-ed2be9dd0770",
   "metadata": {},
   "source": [
    "El eje x contiene las muestras y el eje y representa la distancia entre estas muestras. La línea vertical con distancia máxima es la línea azul y por tanto podemos decidir un umbral de 6 y cortar el dendrograma:"
   ]
  },
  {
   "cell_type": "code",
   "execution_count": null,
   "id": "b90d76df-f5c0-4a80-8092-1ee1e93e1499",
   "metadata": {
    "tags": []
   },
   "outputs": [],
   "source": [
    "d_max = 6\n",
    "plt.figure(figsize=(10, 7))  \n",
    "plt.title(\"Dendrograms\")  \n",
    "dend = #TODO\n",
    "plt.axhline(y=d_max, color='r', linestyle='--')"
   ]
  },
  {
   "cell_type": "code",
   "execution_count": null,
   "id": "f47fde00-aae4-42a6-a379-d8927a4b9bf2",
   "metadata": {
    "tags": []
   },
   "outputs": [],
   "source": [
    "from sklearn.cluster import AgglomerativeClustering\n",
    "cluster = AgglomerativeClustering(n_clusters=#TODO, affinity='euclidean', linkage='ward')  \n",
    "cluster.fit_predict(data_scaled)"
   ]
  },
  {
   "cell_type": "markdown",
   "id": "204ee99d-0420-4ef7-a26d-2e4bea8a1882",
   "metadata": {},
   "source": [
    "Ahora agrupamos por los atributos `Milk` y `Grocery` para evaluar el comportamiento de los clientes y si podemos establecer grupos en base este par. "
   ]
  },
  {
   "cell_type": "code",
   "execution_count": null,
   "id": "8ad1ee08-2ed4-4b83-b015-147b1e59fec2",
   "metadata": {
    "tags": []
   },
   "outputs": [],
   "source": [
    "plt.figure(figsize=(10, 7))  \n",
    "plt.scatter(data_scaled['Milk'], data_scaled['Grocery'], c=cluster.labels_) "
   ]
  },
  {
   "cell_type": "markdown",
   "id": "cea5f3d7-5c42-4013-9560-d09cb607e88a",
   "metadata": {},
   "source": [
    "Ahora prueba con otro par para evaluar como se agrupan los clientes."
   ]
  },
  {
   "cell_type": "code",
   "execution_count": null,
   "id": "1b21833a-5522-4336-9dc2-357636b7b14b",
   "metadata": {
    "tags": []
   },
   "outputs": [],
   "source": [
    "plt.figure(figsize=(10, 7))  \n",
    "plt.scatter(#TODO, c=cluster.labels_) "
   ]
  },
  {
   "cell_type": "markdown",
   "id": "ab3b5380-b18f-4a42-b819-493ea042eea9",
   "metadata": {},
   "source": [
    "# Ejercicio 3 - Images\n",
    "\n",
    "Se le brinda una imágen en formato RGB. utilizando el algoritmo correspondiente, reducir su tamaño a un espacio de `8 bits` y compararlo con su original."
   ]
  },
  {
   "cell_type": "code",
   "execution_count": null,
   "id": "9f179933-e1b0-43af-aaa0-2ac6dbb2472e",
   "metadata": {
    "tags": []
   },
   "outputs": [],
   "source": [
    "from sklearn.datasets import load_sample_image\n",
    "flower = load_sample_image(\"flower.jpg\")\n",
    "ax = plt.axes(xticks=[], yticks=[])\n",
    "ax.imshow(flower)"
   ]
  },
  {
   "cell_type": "code",
   "execution_count": null,
   "id": "8264bfd6-8e04-4451-aa1b-67a7f055a0c4",
   "metadata": {
    "tags": []
   },
   "outputs": [],
   "source": [
    "flower.shape"
   ]
  },
  {
   "cell_type": "code",
   "execution_count": null,
   "id": "efb25d1d-78dc-4dea-a16a-bb0d4af9d83b",
   "metadata": {
    "tags": []
   },
   "outputs": [],
   "source": [
    "# normalizamos la imagen para que tenga valores entre 0 y 1\n",
    "data = #TODO\n",
    "data = data.reshape() #TODO\n",
    "data.shape"
   ]
  },
  {
   "cell_type": "code",
   "execution_count": null,
   "id": "986e7bbb-e332-481e-823a-57a6db94f556",
   "metadata": {
    "tags": []
   },
   "outputs": [],
   "source": [
    "def plot_pixels(data, title, colors=None, N=10000):\n",
    "    if colors is None:\n",
    "        colors = data\n",
    "    \n",
    "    # choose a random subset\n",
    "    rng = np.random.RandomState(0)\n",
    "    i = rng.permutation(data.shape[0])[:N]\n",
    "    colors = colors[i]\n",
    "    R, G, B = data[i].T\n",
    "    \n",
    "    fig, ax = plt.subplots(1, 2, figsize=(16, 6))\n",
    "    ax[0].scatter(R, G, color=colors, marker='.')\n",
    "    ax[0].set(xlabel='Red', ylabel='Green', xlim=(0, 1), ylim=(0, 1))\n",
    "\n",
    "    ax[1].scatter(R, B, color=colors, marker='.')\n",
    "    ax[1].set(xlabel='Red', ylabel='Blue', xlim=(0, 1), ylim=(0, 1))\n",
    "\n",
    "    fig.suptitle(title, size=20);"
   ]
  },
  {
   "cell_type": "code",
   "execution_count": null,
   "id": "70eae010-4c12-44b2-9cc6-c96023372609",
   "metadata": {
    "tags": []
   },
   "outputs": [],
   "source": [
    "plot_pixels(data, title='Input color space: 16 million possible colors')"
   ]
  },
  {
   "cell_type": "code",
   "execution_count": null,
   "id": "8dd60e4a-d614-4d75-9281-0b7222e645ad",
   "metadata": {
    "tags": []
   },
   "outputs": [],
   "source": [
    "import warnings; warnings.simplefilter('ignore')  # Fix NumPy issues.\n",
    "from sklearn.cluster import MiniBatchKMeans\n",
    "\n",
    "kmeans = #TODO\n",
    "kmeans.fit(data)\n",
    "new_colors = #TODO\n",
    "\n",
    "plot_pixels(data, colors=new_colors, title=\"Reduced color space: 8 colors\")"
   ]
  },
  {
   "cell_type": "code",
   "execution_count": null,
   "id": "9fe59b5a-a58b-4a01-a366-270a0b8e8dab",
   "metadata": {
    "tags": []
   },
   "outputs": [],
   "source": [
    "flower_recolored = new_colors.reshape(flower.shape)\n",
    "\n",
    "fig, ax = plt.subplots(1, 2, figsize=(16, 6), subplot_kw=dict(xticks=[], yticks=[]))\n",
    "fig.subplots_adjust(wspace=0.05)\n",
    "ax[0].imshow(flower)\n",
    "ax[0].set_title('Original Image', size=16)\n",
    "ax[1].imshow(flower_recolored)\n",
    "ax[1].set_title('8-color Image', size=16);"
   ]
  }
 ],
 "metadata": {
  "kernelspec": {
   "display_name": "Python 3 (ipykernel)",
   "language": "python",
   "name": "python3"
  },
  "language_info": {
   "codemirror_mode": {
    "name": "ipython",
    "version": 3
   },
   "file_extension": ".py",
   "mimetype": "text/x-python",
   "name": "python",
   "nbconvert_exporter": "python",
   "pygments_lexer": "ipython3",
   "version": "3.10.12"
  }
 },
 "nbformat": 4,
 "nbformat_minor": 5
}
