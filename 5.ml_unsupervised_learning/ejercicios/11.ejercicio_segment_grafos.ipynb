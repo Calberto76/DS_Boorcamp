{
 "cells": [
  {
   "cell_type": "markdown",
   "id": "7ee9327c-0d68-47f1-b371-a23534471849",
   "metadata": {
    "tags": []
   },
   "source": [
    "# Ejercicio\n",
    "\n",
    "Importar una imágen del repositorio `data` de `skimage` y proceder a realizar su segmentación.\n",
    "\n",
    "[skimage data](https://scikit-image.org/docs/stable/api/skimage.data.html)"
   ]
  },
  {
   "cell_type": "code",
   "execution_count": null,
   "id": "7e329a35-99a0-40be-aa53-73a135b85af1",
   "metadata": {},
   "outputs": [],
   "source": [
    "# TODO importar librerías"
   ]
  },
  {
   "cell_type": "code",
   "execution_count": 1,
   "id": "7c24f889-f7e3-4182-a813-f37d90c4cd3c",
   "metadata": {},
   "outputs": [],
   "source": [
    "# TODO código"
   ]
  }
 ],
 "metadata": {
  "kernelspec": {
   "display_name": "Python 3 (ipykernel)",
   "language": "python",
   "name": "python3"
  },
  "language_info": {
   "codemirror_mode": {
    "name": "ipython",
    "version": 3
   },
   "file_extension": ".py",
   "mimetype": "text/x-python",
   "name": "python",
   "nbconvert_exporter": "python",
   "pygments_lexer": "ipython3",
   "version": "3.10.12"
  }
 },
 "nbformat": 4,
 "nbformat_minor": 5
}
