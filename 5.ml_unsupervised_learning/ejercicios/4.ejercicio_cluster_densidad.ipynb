{
 "cells": [
  {
   "cell_type": "markdown",
   "id": "fe823205-0333-4848-8c7f-910caa398b7e",
   "metadata": {
    "tags": []
   },
   "source": [
    "# Ejercicio\n",
    "\n",
    "En base a los algoritmos visto durante la clase (DBSCAN y Mean Shift), aplicarlos a los diferentes set de datos y evaluar los resultados"
   ]
  },
  {
   "cell_type": "markdown",
   "id": "9ee3208c-9c05-418e-8923-ec004b212364",
   "metadata": {},
   "source": [
    "## DBSCAN"
   ]
  },
  {
   "cell_type": "code",
   "execution_count": 1,
   "id": "68a9e223-f20d-48f7-9880-07436cf2e284",
   "metadata": {
    "tags": []
   },
   "outputs": [],
   "source": [
    "import time\n",
    "import warnings\n",
    "from itertools import cycle, islice\n",
    "import matplotlib.pyplot as plt\n",
    "%matplotlib inline\n",
    "import numpy as np\n",
    "\n",
    "from sklearn import cluster, datasets, mixture\n",
    "from sklearn.neighbors import kneighbors_graph\n",
    "from sklearn.preprocessing import StandardScaler\n",
    "from sklearn.cluster import AgglomerativeClustering\n",
    "from sklearn.cluster import SpectralClustering, KMeans, MiniBatchKMeans\n",
    "from sklearn.datasets import make_blobs, make_s_curve, make_circles\n",
    "from sklearn.cluster import DBSCAN\n",
    "from scipy import stats\n",
    "from sklearn.preprocessing import StandardScaler\n",
    "\n",
    "\n",
    "# use seaborn plotting defaults\n",
    "import seaborn as sns; sns.set()\n",
    "import warnings\n",
    "warnings.filterwarnings(\"ignore\")\n"
   ]
  },
  {
   "cell_type": "code",
   "execution_count": null,
   "id": "4efd81d3-b6be-4dbd-9702-a141c4f34db4",
   "metadata": {
    "tags": []
   },
   "outputs": [],
   "source": [
    "centers = [[1, 1], [-1, -1], [1, -1]]\n",
    "\n",
    "X, labels_true = make_blobs(\n",
    "    n_samples=750, \n",
    "    centers=centers, \n",
    "    cluster_std=0.4, \n",
    "    random_state=42\n",
    ")\n",
    "\n",
    "plt.scatter() #TODO\n",
    "plt.show()"
   ]
  },
  {
   "cell_type": "code",
   "execution_count": null,
   "id": "00204381-4f92-4004-9e17-4970e2b37675",
   "metadata": {
    "tags": []
   },
   "outputs": [],
   "source": [
    "scaler = #TODO\n",
    "X = scaler.fit_transform() #TODO\n",
    "plt.scatter() #TODO\n",
    "plt.show()"
   ]
  },
  {
   "cell_type": "code",
   "execution_count": null,
   "id": "07fd33e5-78f2-4a3f-ac74-63f598cfbbf0",
   "metadata": {
    "tags": []
   },
   "outputs": [],
   "source": [
    "db = DBSCAN(eps=0.3, min_samples=10).fit() #TODO\n",
    "labels = #TODO\n",
    "\n",
    "# Number of clusters in labels, ignoring noise if present.\n",
    "n_clusters_ = len(set(labels)) - (1 if -1 in labels else 0)\n",
    "n_noise_ = list(labels).count(-1)\n",
    "\n",
    "print(\"Estimated number of clusters: %d\" % n_clusters_)\n",
    "print(\"Estimated number of noise points: %d\" % n_noise_)"
   ]
  },
  {
   "cell_type": "code",
   "execution_count": null,
   "id": "6989a3d0-0d03-4c22-b00e-75fc3c2e2391",
   "metadata": {
    "tags": []
   },
   "outputs": [],
   "source": [
    "unique_labels = set(labels)\n",
    "core_samples_mask = np.zeros_like(labels, dtype=bool)\n",
    "core_samples_mask[db.core_sample_indices_] = True\n",
    "\n",
    "colors = [plt.cm.Spectral(each) for each in np.linspace(0, 1, len(unique_labels))]\n",
    "for k, col in zip(unique_labels, colors):\n",
    "    if k == -1:\n",
    "        # Black used for noise.\n",
    "        col = [0, 0, 0, 1]\n",
    "\n",
    "    class_member_mask = labels == k\n",
    "\n",
    "    xy = X[class_member_mask & core_samples_mask]\n",
    "    plt.plot(\n",
    "        xy[:, 0],\n",
    "        xy[:, 1],\n",
    "        \"o\",\n",
    "        markerfacecolor=tuple(col),\n",
    "        markeredgecolor=\"k\",\n",
    "        markersize=14,\n",
    "    )\n",
    "\n",
    "    xy = X[class_member_mask & ~core_samples_mask]\n",
    "    plt.plot(\n",
    "        xy[:, 0],\n",
    "        xy[:, 1],\n",
    "        \"o\",\n",
    "        markerfacecolor=tuple(col),\n",
    "        markeredgecolor=\"k\",\n",
    "        markersize=6,\n",
    "    )\n",
    "\n",
    "plt.title(f\"Estimated number of clusters: {n_clusters_}\")\n",
    "plt.show()"
   ]
  },
  {
   "cell_type": "markdown",
   "id": "1b82fb00-01c4-4ca3-8caf-6b4b0ba168b6",
   "metadata": {},
   "source": [
    "## Mean Shift"
   ]
  },
  {
   "cell_type": "code",
   "execution_count": null,
   "id": "eedfb75d-0882-45e6-b121-eb64658df29a",
   "metadata": {
    "tags": []
   },
   "outputs": [],
   "source": [
    "#!pip install skillsnetwork"
   ]
  },
  {
   "cell_type": "code",
   "execution_count": null,
   "id": "60558027-a7e6-4bba-ba52-403ba9b12a77",
   "metadata": {
    "tags": []
   },
   "outputs": [],
   "source": [
    "import numpy as np\n",
    "import cv2 as cv\n",
    "from sklearn.cluster import MeanShift, estimate_bandwidth\n",
    "from mpl_toolkits import mplot3d\n",
    "import pandas as pd\n",
    "import matplotlib.pyplot as plt\n",
    "import seaborn as sns\n",
    "import math\n",
    "import warnings\n",
    "warnings.filterwarnings(\"ignore\")"
   ]
  },
  {
   "cell_type": "code",
   "execution_count": null,
   "id": "71c3b5c0-711e-4783-87d9-ed7f6ee9b774",
   "metadata": {},
   "outputs": [],
   "source": [
    "import skillsnetwork\n",
    "await skillsnetwork.prepare(\"https://cf-courses-data.s3.us.cloud-object-storage.appdomain.cloud/IBM-ML0187EN-SkillsNetwork/labs/module%202/peppers.jpeg\", overwrite=True)"
   ]
  },
  {
   "cell_type": "code",
   "execution_count": null,
   "id": "c355be2d-cedd-44bb-9691-8e3bd3de39c7",
   "metadata": {
    "tags": []
   },
   "outputs": [],
   "source": [
    "img = cv.imread(\"peppers.jpeg\")\n",
    "plt.imshow(cv.cvtColor(img, cv.COLOR_BGR2RGB))\n",
    "plt.show()"
   ]
  },
  {
   "cell_type": "code",
   "execution_count": null,
   "id": "2e830ccf-43df-43c6-83ba-7c701dd94d24",
   "metadata": {
    "tags": []
   },
   "outputs": [],
   "source": [
    "img = cv.medianBlur(img, 7)\n",
    "plt.imshow(cv.cvtColor(img, cv.COLOR_BGR2RGB))"
   ]
  },
  {
   "cell_type": "code",
   "execution_count": null,
   "id": "4607b8dd-5ab6-4a9e-bd00-85423f717275",
   "metadata": {
    "tags": []
   },
   "outputs": [],
   "source": [
    "# We can plot the Red, Green, Blue (RGB) values as 3D points.\n",
    "\n",
    "ax = plt.axes(projection =\"3d\")\n",
    "ax.scatter3D() #TODO - Imágen se encuentra en espacio 3D\n",
    "ax.set_title('Pixel Values ') \n",
    "plt.show()"
   ]
  },
  {
   "cell_type": "code",
   "execution_count": null,
   "id": "704e0edf-d8a4-4103-a66b-87304b760340",
   "metadata": {
    "tags": []
   },
   "outputs": [],
   "source": [
    "X = img.reshape((-1,3))\n",
    "print(\"shape: \",X.shape)\n",
    "print(\"data type   : \",X.dtype)"
   ]
  },
  {
   "cell_type": "code",
   "execution_count": null,
   "id": "0f2046bc-5180-4fea-9da4-b0fa4c7d849f",
   "metadata": {
    "tags": []
   },
   "outputs": [],
   "source": [
    "bandwidth = estimate_bandwidth(X, quantile=.06, n_samples=3000)\n",
    "bandwidth "
   ]
  },
  {
   "cell_type": "code",
   "execution_count": null,
   "id": "a7a5e94e-acc9-4c0c-90b5-8ce78b8f0806",
   "metadata": {
    "tags": []
   },
   "outputs": [],
   "source": [
    "ms = MeanShift() #TODO\n",
    "ms.fit() #TODO"
   ]
  },
  {
   "cell_type": "code",
   "execution_count": null,
   "id": "405cefdd-4646-418e-a911-2b6991e298a4",
   "metadata": {
    "tags": []
   },
   "outputs": [],
   "source": [
    "labeled=#TODO\n",
    "labeled"
   ]
  },
  {
   "cell_type": "code",
   "execution_count": null,
   "id": "0cf85ee2-9203-4112-8899-f4244f13c87c",
   "metadata": {
    "tags": []
   },
   "outputs": [],
   "source": [
    "cluster_int8=np.uint8(ms.cluster_centers_)\n",
    "cluster_int8"
   ]
  },
  {
   "cell_type": "code",
   "execution_count": null,
   "id": "5b0d8915-ef4f-4811-a0fb-80a03abdd63e",
   "metadata": {
    "tags": []
   },
   "outputs": [],
   "source": [
    "ms.predict() #TODO"
   ]
  },
  {
   "cell_type": "code",
   "execution_count": null,
   "id": "99e0cb26-a877-441e-b54e-edede15dd788",
   "metadata": {
    "tags": []
   },
   "outputs": [],
   "source": [
    "ax = plt.axes(projection =\"3d\")\n",
    "ax.scatter3D() #TODO\n",
    "ax.set_title('Pixel Values ')\n",
    "plt.show()\n",
    "\n",
    "ax = plt.axes(projection =\"3d\")\n",
    "ax.set_title('Pixel Cluster Values  ')\n",
    "ax.scatter3D(cluster_int8[:,0],cluster_int8[:,1],cluster_int8[:,2],color='red')\n",
    "plt.show()"
   ]
  },
  {
   "cell_type": "code",
   "execution_count": null,
   "id": "671dcd61-c62d-4877-b608-b389b3e7dfcb",
   "metadata": {
    "tags": []
   },
   "outputs": [],
   "source": [
    "# We can assign each data point to the cluster value and reshape it back  to a Rectangular image. \n",
    "\n",
    "result=np.zeros(X.shape,dtype=np.uint8)\n",
    "\n",
    "for label in np.unique(labeled):\n",
    "    result[labeled==label,:]=cluster_int8[label,:]    \n",
    "    \n",
    "result=result.reshape(img.shape)"
   ]
  },
  {
   "cell_type": "code",
   "execution_count": null,
   "id": "0cb4ec4d-71df-415a-892d-be7ceb1fcc8a",
   "metadata": {
    "tags": []
   },
   "outputs": [],
   "source": [
    "plt.imshow(cv.cvtColor(result, cv.COLOR_BGR2RGB))\n",
    "plt.show()"
   ]
  },
  {
   "cell_type": "code",
   "execution_count": null,
   "id": "d8eca7e5-ddd8-428a-93b3-5cfb96f4479f",
   "metadata": {
    "tags": []
   },
   "outputs": [],
   "source": [
    "for label in np.unique(labeled):\n",
    "    result=np.zeros(X.shape,dtype=np.uint8)\n",
    "    result[labeled==label,:]=cluster_int8[label,:]  \n",
    "    plt.imshow(cv.cvtColor(result.reshape(img.shape), cv.COLOR_BGR2RGB))\n",
    "    plt.show()"
   ]
  }
 ],
 "metadata": {
  "kernelspec": {
   "display_name": "Python 3 (ipykernel)",
   "language": "python",
   "name": "python3"
  },
  "language_info": {
   "codemirror_mode": {
    "name": "ipython",
    "version": 3
   },
   "file_extension": ".py",
   "mimetype": "text/x-python",
   "name": "python",
   "nbconvert_exporter": "python",
   "pygments_lexer": "ipython3",
   "version": "3.10.12"
  }
 },
 "nbformat": 4,
 "nbformat_minor": 5
}
