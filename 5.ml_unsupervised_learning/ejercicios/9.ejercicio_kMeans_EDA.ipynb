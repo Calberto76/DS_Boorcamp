{
 "cells": [
  {
   "cell_type": "markdown",
   "id": "6e1173d3-5275-47d3-a00c-ee6cf6c70134",
   "metadata": {},
   "source": [
    "# Ejercicio K-Means con EDA\n",
    "\n",
    "Sabemos que `K-Means` Clustering es un algoritmo de aprendizaje automático no supervisado. A diferencia de los algoritmos tradicionales de aprendizaje automático supervisado, K-Means intenta clasificar datos sin haber sido entrenado primero con datos etiquetados. Una vez que se ha ejecutado el algoritmo y se han definido los grupos, cualquier dato nuevo se puede asignar fácilmente al grupo más relevante.\n",
    "\n",
    "Es muy importante tener en cuenta que en realidad **tenemos las etiquetas para este conjunto de datos**, pero **NO** las usaremos para el algoritmo de agrupamiento de `KMeans`, ya que es un algoritmo de aprendizaje no supervisado.\n",
    "\n",
    "Cuando se utiliza el algoritmo Kmeans en circunstancias normales, es porque no tiene etiquetas. En este caso usaremos las etiquetas para tratar de tener una idea de qué tan bien se desempeñó el algoritmo, pero normalmente no se hará esto con `Kmeans`, por lo que el informe de clasificación y la matriz de confusión al final de este proyecto realmente no ¡Tiene sentido en un entorno del mundo real! es solo con propósitos de comparación"
   ]
  },
  {
   "cell_type": "markdown",
   "id": "bcd37a98-10ed-438b-9b97-2b6dc78a7067",
   "metadata": {},
   "source": [
    "## Actividad\n",
    "\n",
    "Se le brinda el dataset `./data/college_data.csv` con información de universidades tanto públicas como privadas. \n",
    "Realizar un análisis exploratorio de los datos, eliminar (de ser necesario) atributos que consideres, e implementar el algoritmo de K-Means para poder clasificar los grupos."
   ]
  },
  {
   "cell_type": "markdown",
   "id": "82c7f7d4-fde8-438c-8273-7f39dc245d60",
   "metadata": {
    "tags": []
   },
   "source": [
    "### Información del dataset\n",
    "\n",
    "- private: factor que representa si una institución es privada o no\n",
    "- apps: número de aplicaciones recibidas\n",
    "- accept: número de aplicaciones aceptadas\n",
    "- enroll: número de nuevos estudiantes\n",
    "- top10perc: Pct de nuevos estudiantes que se encuentran en el top 10%\n",
    "- top25perc: Pct de nuevos estudiantes que se encuentran en el top 25%\n",
    "- f_undergrad: número de no graduados full-time\n",
    "- p_undergrad: número de no graduados part-time \n",
    "- outstate: mátriculas fuera del estado\n",
    "- room_board: costos de alojamiento y adicionales\n",
    "- books: costo estimado de libros\n",
    "- personal: costo estimado de gastos personales\n",
    "- phd: Pct de miembros con Ph.D's\n",
    "- terminal: Pct de facultad con grado finalizado\n",
    "- s_f_ratio: ratio estudiante/miembros facultad\n",
    "- perc_alumni: Pct el alumnado que ha realizado donaciones\n",
    "- expend: gastos de instrucción por estudiante\n",
    "- grad_rate: ratio de graduación"
   ]
  },
  {
   "cell_type": "code",
   "execution_count": null,
   "id": "d6bd19d0-0bf5-4420-a8a9-137893ed3e4e",
   "metadata": {
    "tags": []
   },
   "outputs": [],
   "source": [
    "import pandas as pd\n",
    "import numpy as np\n",
    "import seaborn as sns\n",
    "import matplotlib.pyplot as plt\n",
    "%matplotlib inline\n",
    "sns.set_style('whitegrid')\n",
    "plt.style.use('fivethirtyeight')\n",
    "\n",
    "\n",
    "from sklearn.cluster import KMeans\n",
    "from sklearn.metrics import classification_report, confusion_matrix, accuracy_score \n",
    "from sklearn.preprocessing import StandardScaler\n",
    "\n",
    "import warnings\n",
    "warnings.filterwarnings(\"ignore\")"
   ]
  },
  {
   "cell_type": "code",
   "execution_count": null,
   "id": "83ace1cf-8670-4950-b5e8-29db2400de80",
   "metadata": {
    "tags": []
   },
   "outputs": [],
   "source": [
    "# Carga de datos\n",
    "# TODO "
   ]
  },
  {
   "cell_type": "code",
   "execution_count": null,
   "id": "cc4fd3c5-72a4-498e-aab6-11e6ff872dbd",
   "metadata": {
    "tags": []
   },
   "outputs": [],
   "source": [
    "pd.set_option('display.float', '{:.2f}'.format)\n",
    "data.describe()"
   ]
  },
  {
   "cell_type": "code",
   "execution_count": null,
   "id": "ceceae9a-da05-4170-8bd0-b54df53a8ff0",
   "metadata": {
    "tags": []
   },
   "outputs": [],
   "source": [
    "# Plot de gastos de infrastructura vs el graduation rate discriminando\n",
    "# universidad publica de privada\n",
    "\n",
    "# TODO "
   ]
  },
  {
   "cell_type": "code",
   "execution_count": null,
   "id": "43d9e2df-0320-4552-987e-cce843e3b680",
   "metadata": {
    "tags": []
   },
   "outputs": [],
   "source": [
    "# Plot de gastos de no graduados vs matriculas fuera de estado discriminando\n",
    "# universidad publica de privada\n",
    "\n",
    "# TODO "
   ]
  },
  {
   "cell_type": "code",
   "execution_count": null,
   "id": "f1102532-ea8f-4d1d-aa29-491f1cdb8ab7",
   "metadata": {
    "tags": []
   },
   "outputs": [],
   "source": [
    "# Histograma de graduados vs universidad \n",
    "# publica y privada (Nota: Identificar posible error)\n",
    "\n",
    "# TODO "
   ]
  },
  {
   "cell_type": "code",
   "execution_count": null,
   "id": "ef9e23c2-ef49-43a6-b00a-af5a363daa6b",
   "metadata": {
    "tags": []
   },
   "outputs": [],
   "source": [
    "# TODO Identificar Corregir error\n"
   ]
  },
  {
   "cell_type": "code",
   "execution_count": null,
   "id": "3b764f45-f029-4d61-8c0a-9c2fd79c0710",
   "metadata": {
    "tags": []
   },
   "outputs": [],
   "source": []
  },
  {
   "cell_type": "code",
   "execution_count": null,
   "id": "e125fd95-d0cc-41d2-9018-c142e9eca2b4",
   "metadata": {
    "tags": []
   },
   "outputs": [],
   "source": [
    "# Histograma de graduados vs universidad \n",
    "# publica y privada (Nota: con error corregido)\n",
    "\n",
    "# TODO "
   ]
  },
  {
   "cell_type": "markdown",
   "id": "ebd9d359-baba-4f78-8b99-3afc8b8fd952",
   "metadata": {},
   "source": [
    "## K-Means"
   ]
  },
  {
   "cell_type": "code",
   "execution_count": null,
   "id": "34c6af82-fba0-4a91-95ad-363040f4ba2f",
   "metadata": {
    "tags": []
   },
   "outputs": [],
   "source": [
    "# Preparar datos para entrenar el modelo\n",
    "# realizar drop del atributo que considere correspondiente de evaluar\n",
    "\n",
    "# TODO "
   ]
  },
  {
   "cell_type": "code",
   "execution_count": null,
   "id": "01d350a4-fb7c-4977-8bb2-9eb3928f9029",
   "metadata": {
    "tags": []
   },
   "outputs": [],
   "source": [
    "# Analizar cantidad de posibles clusters\n",
    "\n",
    "kmeans_kwargs = {\n",
    "\"init\": \"random\",\n",
    "\"n_init\": 10,\n",
    "\"random_state\": 1,\n",
    "}\n",
    "\n",
    "#create list to hold SSE values for each k\n",
    "sse = []\n",
    "for k in range(1, 11):\n",
    "    kmeans = KMeans(n_clusters=k, **kmeans_kwargs)\n",
    "    kmeans.fit(X)\n",
    "    sse.append(kmeans.inertia_)\n",
    "\n",
    "#visualize results\n",
    "plt.plot(range(1, 11), sse)\n",
    "plt.xticks(range(1, 11))\n",
    "plt.xlabel(\"Number of Clusters\")\n",
    "plt.ylabel(\"SSE\")\n",
    "plt.show()"
   ]
  },
  {
   "cell_type": "code",
   "execution_count": null,
   "id": "a3229356-ea70-474a-833c-75872a8e0c38",
   "metadata": {
    "tags": []
   },
   "outputs": [],
   "source": [
    "# Implementar el modelo con sus hyper parámetros\n",
    "\n",
    "# TODO "
   ]
  },
  {
   "cell_type": "code",
   "execution_count": null,
   "id": "334470f0-7216-432c-9313-6f534de51f97",
   "metadata": {
    "tags": []
   },
   "outputs": [],
   "source": [
    "# Entrenar el modelo\n",
    "\n",
    "# TODO "
   ]
  },
  {
   "cell_type": "code",
   "execution_count": null,
   "id": "ff048a17-de8c-45e3-b1ee-d803f872b819",
   "metadata": {
    "tags": []
   },
   "outputs": [],
   "source": [
    "data['cluster'] = data.private.astype(\"category\").cat.codes"
   ]
  },
  {
   "cell_type": "code",
   "execution_count": null,
   "id": "a004123b-0b7e-4a05-876e-0ab9b5c71657",
   "metadata": {
    "tags": []
   },
   "outputs": [],
   "source": [
    "# Imprimir matriz de confusión y el reporte de clasificación\n",
    "\n",
    "print(confusion_matrix(data.cluster, kmeans.labels_))\n",
    "print(classification_report(data.cluster, kmeans.labels_))"
   ]
  },
  {
   "cell_type": "code",
   "execution_count": null,
   "id": "3a0284ce-467b-4c76-8464-602525f2e76e",
   "metadata": {
    "tags": []
   },
   "outputs": [],
   "source": [
    "# Implementar StandardScales y entrenar el modelo nuevamente\n",
    "# Imprimir matriz de confusión y el reporte de clasificación\n",
    "# Comparar resultados\n",
    "\n",
    "scalar = # TODO \n",
    "\n",
    "X = # TODO \n",
    "y = # TODO \n",
    "\n",
    "X = # TODO \n",
    "\n",
    "kmeans = # TODO \n",
    "kmeans.fit(X)\n",
    "\n",
    "# print(kmeans.cluster_centers_)\n",
    "\n",
    "print(accuracy_score(y, kmeans.labels_))\n",
    "print(confusion_matrix(y, kmeans.labels_))\n",
    "print(classification_report(y, kmeans.labels_))"
   ]
  }
 ],
 "metadata": {
  "kernelspec": {
   "display_name": "Python 3 (ipykernel)",
   "language": "python",
   "name": "python3"
  },
  "language_info": {
   "codemirror_mode": {
    "name": "ipython",
    "version": 3
   },
   "file_extension": ".py",
   "mimetype": "text/x-python",
   "name": "python",
   "nbconvert_exporter": "python",
   "pygments_lexer": "ipython3",
   "version": "3.10.12"
  }
 },
 "nbformat": 4,
 "nbformat_minor": 5
}
