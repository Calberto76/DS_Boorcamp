{
 "cells": [
  {
   "cell_type": "markdown",
   "id": "01884f93-7a89-451e-8d61-da944652a0f2",
   "metadata": {},
   "source": [
    "# Ejercicio 1\n",
    "\n",
    "En base a un set de datos sintéticos, aplicar el K-Means utilizando el algoritmo para el cálculo de cantidad estimada de clusters (gráfica de codo)"
   ]
  },
  {
   "cell_type": "code",
   "execution_count": null,
   "id": "f8bad29d-94cd-4b7f-9a02-bf4222afa8f7",
   "metadata": {
    "tags": []
   },
   "outputs": [],
   "source": [
    "%matplotlib inline\n",
    "import numpy as np\n",
    "import matplotlib.pyplot as plt\n",
    "from scipy import stats\n",
    "from sklearn.datasets import make_blobs\n",
    "from sklearn.cluster import KMeans\n",
    "# use seaborn plotting defaults\n",
    "import seaborn as sns; sns.set()\n",
    "import warnings\n",
    "warnings.filterwarnings(\"ignore\")"
   ]
  },
  {
   "cell_type": "code",
   "execution_count": null,
   "id": "98fb830c-b911-41ce-b64a-9ce8b9a7da29",
   "metadata": {
    "tags": []
   },
   "outputs": [],
   "source": [
    "X, y = make_blobs(n_samples=300,\n",
    "                  random_state=0, cluster_std=0.80)\n",
    "plt.scatter(X[:, 0], X[:, 1], s=50)"
   ]
  },
  {
   "cell_type": "code",
   "execution_count": null,
   "id": "413110a8-6c94-4e93-8ffa-74aa3e006867",
   "metadata": {
    "tags": []
   },
   "outputs": [],
   "source": [
    "kmeans_kwargs = {\n",
    "\"init\": \"random\",\n",
    "\"n_init\": 10,\n",
    "\"random_state\": 1,\n",
    "}\n",
    "\n",
    "#create list to hold SSE values for each k\n",
    "sse = []\n",
    "for k in range(1, 11):\n",
    "    kmeans = KMeans(n_clusters=k, **kmeans_kwargs)\n",
    "    kmeans.fit(X)\n",
    "    sse.append(kmeans.inertia_)\n",
    "\n",
    "#visualize results\n",
    "plt.plot(range(1, 11), sse)\n",
    "plt.xticks(range(1, 11))\n",
    "plt.xlabel(\"Number of Clusters\")\n",
    "plt.ylabel(\"SSE\")\n",
    "plt.show()"
   ]
  },
  {
   "cell_type": "code",
   "execution_count": null,
   "id": "79a8e04b-af55-4c26-b374-5f55b8f9a92b",
   "metadata": {
    "tags": []
   },
   "outputs": [],
   "source": [
    "kmeans = #TODO\n",
    "kmeans.fit() #TODO\n",
    "y_kmeans = est.predict() #TODO\n",
    "plt.scatter(X[:, 0], X[:, 1], c=y_kmeans, s=50, cmap='rainbow')"
   ]
  }
 ],
 "metadata": {
  "kernelspec": {
   "display_name": "Python 3 (ipykernel)",
   "language": "python",
   "name": "python3"
  },
  "language_info": {
   "codemirror_mode": {
    "name": "ipython",
    "version": 3
   },
   "file_extension": ".py",
   "mimetype": "text/x-python",
   "name": "python",
   "nbconvert_exporter": "python",
   "pygments_lexer": "ipython3",
   "version": "3.10.12"
  }
 },
 "nbformat": 4,
 "nbformat_minor": 5
}
