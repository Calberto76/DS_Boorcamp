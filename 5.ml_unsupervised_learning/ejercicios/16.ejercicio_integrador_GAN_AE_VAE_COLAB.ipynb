{
 "cells": [
  {
   "cell_type": "markdown",
   "id": "247fb4a0-5a21-4d25-a20c-0ebd9b6f8f3f",
   "metadata": {},
   "source": [
    "# Ejercicio 1 - GAN MNIST Dataset\n",
    "\n",
    "Para el siguiente ejemplo, utilizaremos el dataset de MNIST que contiene imagenes de 28x28 pixeles de diferentes dígitos.\n",
    "\n",
    "Implementaremos un Generador y un Discriminador y observaremos los resultados luego de ejectuar 100 epochs (puedes variar la cantidad de ciclos para obtener mejores resultados)\n",
    "\n",
    "Se recomienda ejecutar el notebook completo en COLAB\n",
    "\n",
    ">Note: Debes importar el set de datos utilizando la librería correspondiente."
   ]
  },
  {
   "cell_type": "code",
   "execution_count": null,
   "id": "ad5739ef-1ed6-43db-9236-ff6b35634ccb",
   "metadata": {
    "tags": []
   },
   "outputs": [],
   "source": [
    "import numpy as np # linear algebra\n",
    "import pandas as pd # data processing, CSV file I/O (e.g. pd.read_csv)\n",
    "import matplotlib.pyplot as plt\n",
    "from keras import preprocessing\n",
    "from keras.datasets import mnist\n",
    "from keras.models import Sequential\n",
    "from keras.layers import Conv2D,Dropout,Dense,Flatten,Conv2DTranspose,BatchNormalization,LeakyReLU,Reshape\n",
    "import tensorflow as tf"
   ]
  },
  {
   "cell_type": "code",
   "execution_count": null,
   "id": "10a8ee42-fee2-4270-8da5-4657f2ad6c15",
   "metadata": {
    "tags": []
   },
   "outputs": [],
   "source": [
    "#TODO - Carga de datos"
   ]
  },
  {
   "cell_type": "code",
   "execution_count": null,
   "id": "7ef255ff-2cc2-42ce-824c-cede77c63399",
   "metadata": {
    "tags": []
   },
   "outputs": [],
   "source": [
    "x_train = x_train/255\n",
    "x_train = x_train*2 - 1."
   ]
  },
  {
   "cell_type": "code",
   "execution_count": null,
   "id": "b106d53f-ceea-450f-882d-ad0c01ebfe8a",
   "metadata": {
    "tags": []
   },
   "outputs": [],
   "source": [
    "#TODO Generador\n"
   ]
  },
  {
   "cell_type": "code",
   "execution_count": null,
   "id": "eab4f4ff-6600-48be-8e94-588d3dbfcabe",
   "metadata": {
    "tags": []
   },
   "outputs": [],
   "source": [
    "generator.summary()"
   ]
  },
  {
   "cell_type": "code",
   "execution_count": null,
   "id": "072108e3-4467-473f-9d31-bf01f7b2c74b",
   "metadata": {
    "tags": []
   },
   "outputs": [],
   "source": [
    "#TODO Discriminador\n"
   ]
  },
  {
   "cell_type": "code",
   "execution_count": null,
   "id": "5ae0b8db-f392-4274-8929-f4eefd9f9e1e",
   "metadata": {
    "tags": []
   },
   "outputs": [],
   "source": [
    "discriminator.summary()"
   ]
  },
  {
   "cell_type": "code",
   "execution_count": null,
   "id": "18296ef5-ad09-427a-a38c-c0503d53cf29",
   "metadata": {
    "tags": []
   },
   "outputs": [],
   "source": [
    "GAN =Sequential([generator,discriminator])\n",
    "discriminator.compile(optimizer='',loss='') #TODO optimizer, loss\n",
    "discriminator.trainable = False"
   ]
  },
  {
   "cell_type": "code",
   "execution_count": null,
   "id": "b57c195b-fc95-4e2b-b3eb-9cdb20680e91",
   "metadata": {
    "tags": []
   },
   "outputs": [],
   "source": [
    "GAN.compile(optimizer='',loss='') #TODO optimizer, loss"
   ]
  },
  {
   "cell_type": "code",
   "execution_count": null,
   "id": "8a8816dd-ba6f-4f4d-825b-dad437b6e7b8",
   "metadata": {
    "tags": []
   },
   "outputs": [],
   "source": [
    "epochs = #TODO \n",
    "batch_size = #TODO \n",
    "noise_shape= #TODO "
   ]
  },
  {
   "cell_type": "code",
   "execution_count": null,
   "id": "95584cf0-21df-43a0-a0af-10ae80eb8d09",
   "metadata": {
    "tags": []
   },
   "outputs": [],
   "source": [
    "with tf.device('/gpu:0'):\n",
    " for epoch in range(epochs):\n",
    "    print(f\"Currently on Epoch {epoch+1}\")\n",
    "\n",
    "\n",
    "    for i in range(x_train.shape[0]//batch_size):\n",
    "\n",
    "        if (i+1)%50 == 0:\n",
    "            print(f\"\\tCurrently on batch number {i+1} of {x_train.shape[0]//batch_size}\")\n",
    "\n",
    "        noise=np.random.normal(size=[batch_size,noise_shape])\n",
    "\n",
    "        gen_image = generator.predict_on_batch(noise)\n",
    "\n",
    "        train_dataset = x_train[i*batch_size:(i+1)*batch_size]\n",
    "\n",
    "        #training discriminator on real images\n",
    "        train_label=np.ones(shape=(batch_size,1))\n",
    "        discriminator.trainable = True\n",
    "        d_loss_real=discriminator.train_on_batch(train_dataset,train_label)\n",
    "\n",
    "        #training discriminator on fake images\n",
    "        train_label=np.zeros(shape=(batch_size,1))\n",
    "        d_loss_fake=discriminator.train_on_batch(gen_image,train_label)\n",
    "\n",
    "\n",
    "        #training generator\n",
    "        noise=np.random.normal(size=[batch_size,noise_shape])\n",
    "        train_label=np.ones(shape=(batch_size,1))\n",
    "        discriminator.trainable = False\n",
    "\n",
    "        d_g_loss_batch =GAN.train_on_batch(noise, train_label)\n",
    "\n",
    "\n",
    "\n",
    "\n",
    "    #plotting generated images at the start and then after every 10 epoch\n",
    "    if epoch % 10 == 0:\n",
    "        samples = 10\n",
    "        x_fake = generator.predict(np.random.normal(loc=0, scale=1, size=(samples, 100)))\n",
    "\n",
    "        for k in range(samples):\n",
    "            plt.subplot(2, 5, k+1)\n",
    "            plt.imshow(x_fake[k].reshape(28, 28), cmap='gray')\n",
    "            plt.xticks([])\n",
    "            plt.yticks([])\n",
    "\n",
    "        plt.tight_layout()\n",
    "        plt.show()\n",
    "\n",
    "\n",
    "\n",
    "print('Training is complete')"
   ]
  },
  {
   "cell_type": "code",
   "execution_count": null,
   "id": "44a693f4-390a-40e6-a172-4488004bab5c",
   "metadata": {},
   "outputs": [],
   "source": [
    "fig,axe=plt.subplots(2,5)\n",
    "fig.suptitle('Generated Images from Noise using GANs')\n",
    "idx=0\n",
    "for i in range(2):\n",
    "    for j in range(5):\n",
    "         axe[i,j].imshow(gen_image[idx].reshape(28,28),cmap='gray')\n",
    "         idx+=10"
   ]
  },
  {
   "cell_type": "markdown",
   "id": "e00ae7af-08a9-49c7-b3b9-8f5dccd9671c",
   "metadata": {},
   "source": [
    "# Ejercicio 2 - AE MNIST Dataset\n",
    "\n",
    "Implementar un Autoencoder que tome el fashion dataset de mnist y los reconstruya en su salida.\n",
    "\n",
    "[Link Dataset](https://drive.google.com/file/d/1WX4NfGfx5Bs13qW2yTBbFPCABn6VdXdH/view?usp=sharing)"
   ]
  },
  {
   "cell_type": "markdown",
   "id": "ee34aafc-0a14-4fb3-87ab-3350d359e0e8",
   "metadata": {},
   "source": []
  },
  {
   "cell_type": "code",
   "execution_count": null,
   "id": "504fb454-6e7a-40bd-8a63-47bd64062fff",
   "metadata": {},
   "outputs": [],
   "source": []
  },
  {
   "cell_type": "code",
   "execution_count": null,
   "id": "b406bdab-830e-46b1-b7fa-2d5892257cf1",
   "metadata": {},
   "outputs": [],
   "source": []
  },
  {
   "cell_type": "code",
   "execution_count": null,
   "id": "860b0839-dd25-4e79-ba25-fbd5ef6b0142",
   "metadata": {},
   "outputs": [],
   "source": []
  },
  {
   "cell_type": "code",
   "execution_count": null,
   "id": "f3ad93df-fc50-458d-9355-41f33d1a4e9c",
   "metadata": {},
   "outputs": [],
   "source": []
  },
  {
   "cell_type": "markdown",
   "id": "d3a620dd-c9c9-4253-82f0-533ba5809e96",
   "metadata": {},
   "source": [
    "# Ejercicio 3 - VAE MNIST Dataset\n",
    "\n",
    "Implementar un Varational Autoencoder que tome el fashion dataset de mnist y los reconstruya en su salida.\n",
    "\n",
    "[Link Dataset](https://drive.google.com/file/d/1WX4NfGfx5Bs13qW2yTBbFPCABn6VdXdH/view?usp=sharing)"
   ]
  },
  {
   "cell_type": "code",
   "execution_count": null,
   "id": "e8cc0a65-4b01-40d4-bcc6-5845d6f5fd16",
   "metadata": {},
   "outputs": [],
   "source": []
  },
  {
   "cell_type": "code",
   "execution_count": null,
   "id": "29c158af-6a7e-4870-820c-7fb828018b0b",
   "metadata": {},
   "outputs": [],
   "source": []
  },
  {
   "cell_type": "code",
   "execution_count": null,
   "id": "b9f2838b-cb02-47bc-bd1b-396438b5c06c",
   "metadata": {},
   "outputs": [],
   "source": []
  },
  {
   "cell_type": "code",
   "execution_count": null,
   "id": "fd53b3bf-bc49-4032-a3c2-e9708f2a6a71",
   "metadata": {},
   "outputs": [],
   "source": []
  },
  {
   "cell_type": "code",
   "execution_count": null,
   "id": "be465018-ae61-4efb-819d-5853cc445265",
   "metadata": {},
   "outputs": [],
   "source": []
  }
 ],
 "metadata": {
  "kernelspec": {
   "display_name": "Python 3 (ipykernel)",
   "language": "python",
   "name": "python3"
  },
  "language_info": {
   "codemirror_mode": {
    "name": "ipython",
    "version": 3
   },
   "file_extension": ".py",
   "mimetype": "text/x-python",
   "name": "python",
   "nbconvert_exporter": "python",
   "pygments_lexer": "ipython3",
   "version": "3.9.18"
  }
 },
 "nbformat": 4,
 "nbformat_minor": 5
}
