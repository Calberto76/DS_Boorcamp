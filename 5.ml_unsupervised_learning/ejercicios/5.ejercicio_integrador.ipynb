{
 "cells": [
  {
   "cell_type": "markdown",
   "id": "95f8877a-c192-40c1-9ea6-c9a579cb9f46",
   "metadata": {},
   "source": [
    "# Ejercicio 1\n",
    "\n",
    "Se le brinda el siguiente se de datos `clusterable_data.npy` al cual debe de resolver mediante los métodos de K-Means, DBSCAN y HDBSCAN"
   ]
  },
  {
   "cell_type": "code",
   "execution_count": null,
   "id": "5af6a2fc-9131-445f-a651-186742c0b421",
   "metadata": {
    "tags": []
   },
   "outputs": [],
   "source": [
    "import numpy as np\n",
    "import pandas as pd\n",
    "import matplotlib as plt\n",
    "import seaborn as sns\n",
    "from sklearn.cluster import DBSCAN, KMeans\n",
    "from sklearn.metrics import silhouette_score, calinski_harabasz_score\n",
    "import matplotlib.pyplot as plt\n",
    "from mpl_toolkits import mplot3d\n",
    "import skillsnetwork"
   ]
  },
  {
   "cell_type": "code",
   "execution_count": null,
   "id": "8564640b-2f7f-4c8a-aed0-ed987ad67edb",
   "metadata": {
    "tags": []
   },
   "outputs": [],
   "source": [
    "df_cluster = pd.DataFrame(np.load('./data/clusterable_data.npy'),\n",
    "                          columns=['x', 'y'])\n",
    "df_cluster[:5]"
   ]
  },
  {
   "cell_type": "code",
   "execution_count": null,
   "id": "c605d96a-16ab-48f8-ad93-4b55e3856f4b",
   "metadata": {
    "tags": []
   },
   "outputs": [],
   "source": [
    "df_cluster.plot(kind='scatter',\n",
    "               x='x',\n",
    "               y='y',\n",
    "               figsize=(14,10))"
   ]
  },
  {
   "cell_type": "markdown",
   "id": "cdc0732a-2771-4f39-91e4-f4aad664c3ce",
   "metadata": {},
   "source": [
    "## K-Means"
   ]
  },
  {
   "cell_type": "code",
   "execution_count": null,
   "id": "f49dd772-d2fc-444a-8974-2b5b74704e0d",
   "metadata": {
    "tags": []
   },
   "outputs": [],
   "source": [
    " kmeans_kwargs = {\n",
    "\"init\": \"random\",\n",
    "\"n_init\": 10,\n",
    "\"random_state\": 1,\n",
    "}\n",
    "\n",
    "#create list to hold SSE values for each k\n",
    "sse = []\n",
    "for k in range(1, 11):\n",
    "    kmeans = KMeans(n_clusters=k, **kmeans_kwargs)\n",
    "    kmeans.fit(X)\n",
    "    sse.append(kmeans.inertia_)\n",
    "\n",
    "#visualize results\n",
    "plt.plot(range(1, 11), sse)\n",
    "plt.xticks(range(1, 11))\n",
    "plt.xlabel(\"Number of Clusters\")\n",
    "plt.ylabel(\"SSE\")\n",
    "plt.show()"
   ]
  },
  {
   "cell_type": "code",
   "execution_count": null,
   "id": "ee67d290-e0a0-49f5-bd63-2cb8313a5aaa",
   "metadata": {
    "tags": []
   },
   "outputs": [],
   "source": [
    "kmeans = KMeans() #TODO\n",
    "\n",
    "kmeans.fit() #TODO\n",
    "y_kmeans = kmeans.predict() #TODO\n",
    "df_cluster.plot(kind='scatter', \n",
    "                x='x', \n",
    "                y='y', \n",
    "                c=y_kmeans, \n",
    "                cmap='Accent_r', figsize=(16,10))"
   ]
  },
  {
   "cell_type": "markdown",
   "id": "6383ffe2-6ee0-43c0-b8d1-53d02ad73681",
   "metadata": {},
   "source": [
    "## DBSCAN"
   ]
  },
  {
   "cell_type": "code",
   "execution_count": null,
   "id": "887d47f1-3885-4468-b957-0e7c8c97cee8",
   "metadata": {
    "tags": []
   },
   "outputs": [],
   "source": [
    "dbscan = #TODO - Parámetros eps=0.033, min_samples=22, algorithm='brute', p=0.9\n",
    "preds = dbscan.fit_predict() #TODO "
   ]
  },
  {
   "cell_type": "code",
   "execution_count": null,
   "id": "6dc37174-4afa-47b1-95f1-df30c9ccb83a",
   "metadata": {
    "tags": []
   },
   "outputs": [],
   "source": [
    "df_cluster.plot(kind='scatter', \n",
    "                x='x', \n",
    "                y='y', \n",
    "                c=, \n",
    "                cmap='Accent_r', figsize=(16,10)) #TODO parámetro c="
   ]
  },
  {
   "cell_type": "markdown",
   "id": "c766b5ef-cf6a-44d2-a000-c3022fa6f95f",
   "metadata": {},
   "source": [
    "# HDBSCAN"
   ]
  },
  {
   "cell_type": "code",
   "execution_count": null,
   "id": "6e2a419c-4bea-4ef9-b86f-481711371bce",
   "metadata": {
    "tags": []
   },
   "outputs": [],
   "source": [
    "from hdbscan import HDBSCAN\n",
    "hdbscan = HDBSCAN(min_cluster_size=20,\n",
    "                 min_samples=10)\n",
    "preds_2 = hdbscan.fit_predict(df_cluster)"
   ]
  },
  {
   "cell_type": "code",
   "execution_count": null,
   "id": "6f893f5d-97bd-4f71-9e45-5aca34f1482b",
   "metadata": {
    "tags": []
   },
   "outputs": [],
   "source": [
    "df_cluster.plot(kind='scatter', \n",
    "                x='x', \n",
    "                y='y', \n",
    "                c=, \n",
    "                cmap='Accent_r', \n",
    "                figsize=(16,10)) #TODO parámetro c="
   ]
  },
  {
   "cell_type": "markdown",
   "id": "761c8e92-b303-4042-bec1-043f1b7acf3d",
   "metadata": {},
   "source": [
    "## Conclusiones del algoritmo HDBSCAN.\n",
    "\n",
    "### Ventajas:\n",
    "\n",
    "- Es uno de los algoritmos más potentes para cluster.\n",
    "- Los clústeres (en este algoritmo se llaman componentes) no tienen que ser esféricos\n",
    "- Con los hiperparámetros, el modelo infiere el clúster, no necesitamos pasar una cantidad de clústeres.\n",
    "- Es muy robusto con valores atípicos.\n",
    "- El algoritmo descarta los puntos que no satisfacen las necesidades de densidad y distancia (los puntos grises)\n",
    "- Como puede ver, los grupos tienen diferente densidad.\n",
    "\n",
    "### Contras\n",
    "\n",
    "- No es determinista, las soluciones serán diferentes en cada tren."
   ]
  },
  {
   "cell_type": "markdown",
   "id": "ddc79503-4011-4db8-9fdd-867b6b2e9b68",
   "metadata": {},
   "source": [
    "## Mean shift (Segmentación de imágenes)"
   ]
  },
  {
   "cell_type": "code",
   "execution_count": null,
   "id": "939ca3b8-9f71-486b-b7fd-65ba22069e4e",
   "metadata": {
    "tags": []
   },
   "outputs": [],
   "source": [
    "import requests \n",
    "import warnings\n",
    "warnings.filterwarnings(\"ignore\")\n",
    "\n",
    "import numpy as np\n",
    "import cv2 as cv\n",
    "from sklearn.cluster import MeanShift, estimate_bandwidth\n",
    "from mpl_toolkits import mplot3d\n",
    "import pandas as pd\n",
    "import matplotlib.pyplot as plt\n",
    "import seaborn as sns\n",
    "import math"
   ]
  },
  {
   "cell_type": "code",
   "execution_count": null,
   "id": "6051ca96-1b27-43eb-9b2d-97bc3ec5222f",
   "metadata": {
    "tags": []
   },
   "outputs": [],
   "source": [
    "url='https://www.plastform.ca/wp-content/themes/plastform/images/slider-image-2.jpg'\n",
    "name=\"my_file.jpg\"\n",
    "\n",
    "with open(name, 'wb') as file:\n",
    "    file.write(requests.get(url, stream=True).content)\n",
    "    \n",
    "img = cv.imread(name)\n",
    "plt.imshow(cv.cvtColor(img, cv.COLOR_BGR2RGB))\n",
    "plt.show()"
   ]
  },
  {
   "cell_type": "code",
   "execution_count": null,
   "id": "ca172513-1259-4865-9256-f6869afcfd6a",
   "metadata": {
    "tags": []
   },
   "outputs": [],
   "source": [
    "img = cv.medianBlur(img, 7)\n",
    "plt.imshow(cv.cvtColor(img, cv.COLOR_BGR2RGB))\n",
    "X = img.reshape() #TODO \n",
    "X = np.float32() #TODO "
   ]
  },
  {
   "cell_type": "code",
   "execution_count": null,
   "id": "7fa75605-388c-4f69-b73c-609dd33f0d4c",
   "metadata": {
    "tags": []
   },
   "outputs": [],
   "source": [
    "bandwidth = #TODO \n",
    "ms = #TODO \n",
    "ms.fit() #TODO \n",
    "labeled= #TODO \n",
    "cluster_int8=np.uint8(ms.cluster_centers_)\n",
    "result=np.zeros(X.shape,dtype=np.uint8)"
   ]
  },
  {
   "cell_type": "code",
   "execution_count": null,
   "id": "a0651207-bbfe-4425-b955-335d1b32c41f",
   "metadata": {
    "tags": []
   },
   "outputs": [],
   "source": [
    "for label in np.unique(labeled):\n",
    "    result[labeled==label,:]=cluster_int8[label,:]    \n",
    "    cluster_int8[label]\n",
    "\n",
    "result=result.reshape(img.shape)\n",
    "plt.imshow(cv.cvtColor(result, cv.COLOR_BGR2RGB))\n",
    "\n",
    "for label in np.unique(labeled):\n",
    "    result=np.zeros(X.shape,dtype=np.uint8)\n",
    "    result[labeled==label,:]=cluster_int8[label,:]  \n",
    "    plt.imshow(cv.cvtColor(result.reshape(img.shape), cv.COLOR_BGR2RGB))\n",
    "    plt.show()\n",
    "    "
   ]
  },
  {
   "cell_type": "markdown",
   "id": "854e0687-edaa-4b91-a161-156b1883cbeb",
   "metadata": {},
   "source": [
    "## Mean shift (Dataset Titanic)\n",
    "\n",
    "El 15 de abril de 1912, el Titanic chocó contra un iceberg y se hundió. Cuando el Titanic se hundió, murieron 1.502 de los 2.224 pasajeros y tripulantes. En esta sección, aplicará la agrupación Mean-Shift en características como edad, género, clase, etc. Luego determinaremos si existe una relación entre la supervivencia y los diferentes grupos. La siguiente tabla resume los datos:"
   ]
  },
  {
   "cell_type": "markdown",
   "id": "85bc9795-8bcb-43d1-817a-24396f67a26f",
   "metadata": {
    "tags": []
   },
   "source": [
    "<table>\n",
    "<tbody>\n",
    "<tr><th><b>Variable</b></th><th><b>Definition</b></th><th><b>Key</b></th></tr>\n",
    "<tr>\n",
    "<td>survival</td>\n",
    "<td>Survival</td>\n",
    "<td>0 = No, 1 = Yes</td>\n",
    "</tr>\n",
    "<tr>\n",
    "<td>pclass</td>\n",
    "<td>Ticket class</td>\n",
    "<td>1 = 1st, 2 = 2nd, 3 = 3rd</td>\n",
    "</tr>\n",
    "<tr>\n",
    "<td>sex</td>\n",
    "<td>Sex</td>\n",
    "<td></td>\n",
    "</tr>\n",
    "<tr>\n",
    "<td>Age</td>\n",
    "<td>Age in years</td>\n",
    "<td></td>\n",
    "</tr>\n",
    "<tr>\n",
    "<td>sibsp</td>\n",
    "<td># of siblings / spouses aboard the Titanic</td>\n",
    "<td></td>\n",
    "</tr>\n",
    "<tr>\n",
    "<td>parch</td>\n",
    "<td># of parents / children aboard the Titanic</td>\n",
    "<td></td>\n",
    "</tr>\n",
    "<tr>\n",
    "<td>ticket</td>\n",
    "<td>Ticket number</td>\n",
    "<td></td>\n",
    "</tr>\n",
    "<tr>\n",
    "<td>fare</td>\n",
    "<td>Passenger fare</td>\n",
    "<td></td>\n",
    "</tr>\n",
    "<tr>\n",
    "<td>cabin</td>\n",
    "<td>Cabin number</td>\n",
    "<td></td>\n",
    "</tr>\n",
    "<tr>\n",
    "<td>embarked</td>\n",
    "<td>Port of Embarkation</td>\n",
    "<td>C = Cherbourg, Q = Queenstown, S = Southampton</td>\n",
    "</tr>\n",
    "</tbody>\n",
    "</table>\n"
   ]
  },
  {
   "cell_type": "code",
   "execution_count": null,
   "id": "fdfb1c53-0913-4763-940f-32fa7672eb9b",
   "metadata": {
    "tags": []
   },
   "outputs": [],
   "source": [
    "await skillsnetwork.prepare(\"https://cf-courses-data.s3.us.cloud-object-storage.appdomain.cloud/IBM-ML0187EN-SkillsNetwork/labs/module%202/titanic.csv\", overwrite=True)\n",
    "\n",
    "df = pd.read_csv(\"titanic.csv\")\n",
    "df.head()"
   ]
  },
  {
   "cell_type": "markdown",
   "id": "503de296-bcf5-450d-a922-3ad33d42f3e5",
   "metadata": {},
   "source": [
    "Podemos eliminar las siguientes columnas 'Nombre', 'Boleto', 'Cabina', 'PassengerId', 'Embarked' para simplificar."
   ]
  },
  {
   "cell_type": "code",
   "execution_count": null,
   "id": "c3aedf43-2df3-4dfa-92d8-1a672ef8564b",
   "metadata": {
    "tags": []
   },
   "outputs": [],
   "source": [
    "df=df.drop() #TODO "
   ]
  },
  {
   "cell_type": "markdown",
   "id": "2e99213e-b78e-4bd5-a69a-40dd94d7e288",
   "metadata": {},
   "source": [
    "Asignaremos `0` al sexo `femenino` y `1` al sexo `masculino`, lo que se conoce como binarización de características."
   ]
  },
  {
   "cell_type": "code",
   "execution_count": null,
   "id": "eb83670b-05a3-4392-b8c6-291aa43119f1",
   "metadata": {
    "tags": []
   },
   "outputs": [],
   "source": [
    "#TODO "
   ]
  },
  {
   "cell_type": "markdown",
   "id": "718839d0-c3f9-43ae-8d2b-997105f27269",
   "metadata": {},
   "source": [
    "Comprobaremos si faltan valores."
   ]
  },
  {
   "cell_type": "code",
   "execution_count": null,
   "id": "dfb40e9c-d7ba-4350-bc23-095c17002584",
   "metadata": {
    "tags": []
   },
   "outputs": [],
   "source": [
    "#TODO "
   ]
  },
  {
   "cell_type": "markdown",
   "id": "35ba4590-22ad-45dd-ae3e-0e2c9593130c",
   "metadata": {},
   "source": [
    "Aquí, reemplazamos los valores faltantes en edad, con la edad promedio."
   ]
  },
  {
   "cell_type": "code",
   "execution_count": null,
   "id": "b9e61b0a-9207-4cec-8b06-99d573cd5f7a",
   "metadata": {
    "tags": []
   },
   "outputs": [],
   "source": [
    "#TODO "
   ]
  },
  {
   "cell_type": "markdown",
   "id": "c57cdc22-f95b-4a01-b504-1e894f21be9e",
   "metadata": {},
   "source": [
    "Asignaremos el marco de datos a `X`, para agruparlo, y eliminaremos nuestro objetivo, la columna `Survived`."
   ]
  },
  {
   "cell_type": "code",
   "execution_count": null,
   "id": "6aa2426b-e803-48a8-808a-6970aaf25f3c",
   "metadata": {
    "tags": []
   },
   "outputs": [],
   "source": [
    "X=df.drop(columns=['Survived'])"
   ]
  },
  {
   "cell_type": "markdown",
   "id": "f4b17fc2-b6e5-4f27-99f8-45bb42c0845f",
   "metadata": {},
   "source": [
    "Ahora estandarizaremos los datos X."
   ]
  },
  {
   "cell_type": "code",
   "execution_count": null,
   "id": "0e2e78b2-e77e-487b-a267-72f0fdb2df30",
   "metadata": {
    "tags": []
   },
   "outputs": [],
   "source": [
    "X=df.apply(lambda x: (x-x.mean())/(x.std()+0.0000001), axis=0)"
   ]
  },
  {
   "cell_type": "markdown",
   "id": "8c120274-2f67-40d8-b925-947ec5cca1b9",
   "metadata": {},
   "source": [
    "Para aplicar el algoritmo de desplazamiento medio a X, primero use la función `estimate_bandwidth()` para estimar el valor del parámetro de ancho de banda. Luego crea un objeto `MeanShift` y ajústalo a `X`:"
   ]
  },
  {
   "cell_type": "code",
   "execution_count": null,
   "id": "ec44daba-94ea-4991-a576-4b5dc48a544c",
   "metadata": {
    "tags": []
   },
   "outputs": [],
   "source": [
    "bandwidth = #TODO \n",
    "ms = #TODO \n",
    "ms.fit() #TODO "
   ]
  },
  {
   "cell_type": "markdown",
   "id": "d1ce701a-f324-4849-be96-44b4c82bdc9a",
   "metadata": {
    "tags": []
   },
   "source": [
    "A continuación, agregamos los grupos al conjunto de datos para su análisis."
   ]
  },
  {
   "cell_type": "code",
   "execution_count": null,
   "id": "101c4c86-e3f7-4f9c-b150-7c7039132e34",
   "metadata": {
    "tags": []
   },
   "outputs": [],
   "source": [
    "df['cluster']=ms.labels_"
   ]
  },
  {
   "cell_type": "markdown",
   "id": "3ad1f1bc-2f41-4050-962d-3b9f87f21eb1",
   "metadata": {},
   "source": [
    "Ahora, agrupamos por grupos para ver que ciertos grupos tienen mayores posibilidades de sobrevivir."
   ]
  },
  {
   "cell_type": "code",
   "execution_count": null,
   "id": "0a03c368-2eee-4e3b-ba21-44c43c92ca10",
   "metadata": {
    "tags": []
   },
   "outputs": [],
   "source": [
    "df.groupby('cluster').mean().sort_values(by=['Survived'], ascending=False)"
   ]
  },
  {
   "cell_type": "markdown",
   "id": "08fa2920-f275-46ac-91c4-bfe9578c744f",
   "metadata": {},
   "source": [
    "En la tabla anterior, vemos que hay `7` grupos generados por el análisis de cambio medio, cada grupo contiene el porcentaje promedio de sobrevivientes.\n",
    "\n",
    "Por ejemplo, el cluster `5`, tiene el `100 %` de supervivientes, con una edad media de `35,3` años, pasajeros pertenecientes a `1ª clase` y los pasajeros que pagaron la tarifa más alta, `512,33` por billete. Curiosamente, el Clúster `6`, tiene un `0 %` de supervivientes, con una edad media de `61 años`, pertenecientes también a la `1ª clase` y en la tarifa media del billete. No es sorprendente que las mayores probabilidades de supervivencia las tuvieran los grupos de pasajeros más jóvenes y ricos."
   ]
  }
 ],
 "metadata": {
  "kernelspec": {
   "display_name": "Python 3 (ipykernel)",
   "language": "python",
   "name": "python3"
  },
  "language_info": {
   "codemirror_mode": {
    "name": "ipython",
    "version": 3
   },
   "file_extension": ".py",
   "mimetype": "text/x-python",
   "name": "python",
   "nbconvert_exporter": "python",
   "pygments_lexer": "ipython3",
   "version": "3.10.12"
  }
 },
 "nbformat": 4,
 "nbformat_minor": 5
}
