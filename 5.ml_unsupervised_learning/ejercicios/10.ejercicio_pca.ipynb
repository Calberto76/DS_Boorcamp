{
 "cells": [
  {
   "cell_type": "markdown",
   "id": "fd916fc0-9f55-44ff-ab76-e5ff62f79ca9",
   "metadata": {},
   "source": [
    "\n",
    "# Ejercicio\n",
    "\n",
    "Carga los datos de diabetes del paquete sklearn.datasets, extrae n componentes principales y representa los datos transformados en un grafica. Reporta el porcentaje de varianza obtenido.\n",
    "\n",
    "Información del dataset:\n",
    "\n",
    "El dataset contiene datos sobre la evolución de la enfermedad en una muestra de pacientes. Cada registro contiene diez variables fisiológicas (edad, sexo, peso, presión arterial) y la progresión de la enfermedad después de un año.\n"
   ]
  },
  {
   "cell_type": "code",
   "execution_count": null,
   "id": "2ed4bafc-a640-4df9-945f-121da55a5322",
   "metadata": {
    "tags": []
   },
   "outputs": [],
   "source": [
    "## Diabetes dataset\n",
    "## ----------------\n",
    "## \n",
    "## Ten baseline variables, age, sex, body mass index, average blood\n",
    "## pressure, and six blood serum measurements were obtained for each of n =\n",
    "## 442 diabetes patients, as well as the response of interest, a\n",
    "## quantitative measure of disease progression one year after baseline.\n",
    "## \n",
    "## **Data Set Characteristics:**\n",
    "## \n",
    "##   :Number of Instances: 442\n",
    "## \n",
    "##   :Number of Attributes: First 10 columns are numeric predictive values\n",
    "## \n",
    "##   :Target: Column 11 is a quantitative measure of disease progression one year after baseline\n",
    "## \n",
    "##   :Attribute Information:\n",
    "##       - age     age in years\n",
    "##       - sex\n",
    "##       - bmi     body mass index\n",
    "##       - bp      average blood pressure\n",
    "##       - s1      tc, total serum cholesterol\n",
    "##       - s2      ldl, low-density lipoproteins\n",
    "##       - s3      hdl, high-density lipoproteins\n",
    "##       - s4      tch, total cholesterol / HDL\n",
    "##       - s5      ltg, possibly log of serum triglycerides level\n",
    "##       - s6      glu, blood sugar level\n",
    "## \n",
    "## Note: Each of these 10 feature variables have been mean centered and scaled by the standard deviation times `n_samples` (i.e. the sum of squares of each column totals 1).\n",
    "## \n",
    "## Source URL:\n",
    "## https://www4.stat.ncsu.edu/~boos/var.select/diabetes.html"
   ]
  },
  {
   "cell_type": "code",
   "execution_count": null,
   "id": "de29e253-f635-4ba6-a5c8-0ce6e578b7b1",
   "metadata": {
    "tags": []
   },
   "outputs": [],
   "source": [
    "import numpy as np\n",
    "import pandas as pd\n",
    "from sklearn import datasets\n",
    "from sklearn.decomposition import PCA\n",
    "import matplotlib.pyplot as plt\n",
    "from mpl_toolkits.mplot3d import Axes3D\n",
    "import warnings\n",
    "warnings.filterwarnings(\"ignore\")\n",
    "\n",
    "diabetes = # TODO"
   ]
  },
  {
   "cell_type": "code",
   "execution_count": null,
   "id": "27f8fb12-7e11-4b8f-bb86-412b87395608",
   "metadata": {
    "tags": []
   },
   "outputs": [],
   "source": [
    "# TODO"
   ]
  },
  {
   "cell_type": "code",
   "execution_count": null,
   "id": "540a5142-3e09-45cb-a7e0-6ec2f6ae655a",
   "metadata": {
    "tags": []
   },
   "outputs": [],
   "source": [
    "pca = # TODO\n",
    "pca.fit() # TODO"
   ]
  },
  {
   "cell_type": "code",
   "execution_count": null,
   "id": "76d1769c-cbff-4038-80dd-2f9a6f083dd9",
   "metadata": {
    "tags": []
   },
   "outputs": [],
   "source": [
    "pca.explained_variance_ratio_"
   ]
  },
  {
   "cell_type": "code",
   "execution_count": null,
   "id": "748d113e-5669-439b-9969-fead0320225f",
   "metadata": {
    "tags": []
   },
   "outputs": [],
   "source": [
    "plt.plot(range(1,11),pca.explained_variance_ratio_)\n",
    "plt.bar(range(1,11),np.cumsum(pca.explained_variance_ratio_), alpha=.3)\n",
    "plt.title(\"Explained variance and pareto\")\n",
    "plt.show()"
   ]
  },
  {
   "cell_type": "code",
   "execution_count": null,
   "id": "d5d0560b-ce7f-4cb0-a93a-6430c206d1ad",
   "metadata": {
    "tags": []
   },
   "outputs": [],
   "source": [
    "print ('Percentage of variance explained (2 components): ', np.cumsum(pca.explained_variance_ratio_)[1]*100)\n",
    "print ('Percentage of variance explained (3 components): ', np.cumsum(pca.explained_variance_ratio_)[2]*100)\n",
    "print ('Percentage of variance explained (4 components): ', np.cumsum(pca.explained_variance_ratio_)[3]*100)\n",
    "print ('Percentage of variance explained (5 components): ', np.cumsum(pca.explained_variance_ratio_)[4]*100)\n",
    "print ('Percentage of variance explained (6 components): ', np.cumsum(pca.explained_variance_ratio_)[5]*100)\n",
    "print ('Percentage of variance explained (7 components): ', np.cumsum(pca.explained_variance_ratio_)[6]*100)\n",
    "print ('Percentage of variance explained (8 components): ', np.cumsum(pca.explained_variance_ratio_)[7]*100)"
   ]
  },
  {
   "cell_type": "code",
   "execution_count": null,
   "id": "39824b8a-aac6-4204-915d-6f2433360f07",
   "metadata": {
    "tags": []
   },
   "outputs": [],
   "source": [
    "from sklearn.decomposition import PCA\n",
    "\n",
    "# We transform the data using the three principal components\n",
    "\n",
    "pca6 = # TODO\n",
    "features_reduced_6 = # TODO\n",
    "\n",
    "print (features_reduced_6.shape)"
   ]
  },
  {
   "cell_type": "code",
   "execution_count": null,
   "id": "7fb817c0-1e2d-4c4f-a877-78f6e0c4df3e",
   "metadata": {
    "tags": []
   },
   "outputs": [],
   "source": [
    "fig = plt.figure(1, figsize=(8, 6))\n",
    "ax = plt.axes(projection =\"3d\")\n",
    "ax.scatter(features_reduced_6[:, 0], features_reduced_6[:, 1], features_reduced_6[:, 2], c=label)\n",
    "ax.set_title(\"First three principal components\")\n",
    "ax.set_xlabel(\"1st eigenvector\")\n",
    "ax.set_ylabel(\"2nd eigenvector\")\n",
    "ax.set_zlabel(\"3rd eigenvector\")\n",
    "plt.show()"
   ]
  },
  {
   "cell_type": "code",
   "execution_count": null,
   "id": "0ed3dc20-6bc1-4eac-b451-fb8c8b4aefe2",
   "metadata": {
    "tags": []
   },
   "outputs": [],
   "source": [
    "pca2 = # TODO\n",
    "pca2.fit() # TODO\n",
    "features_reduced_2 = # TODO\n",
    "\n",
    "print (features_reduced_2.shape)"
   ]
  },
  {
   "cell_type": "code",
   "execution_count": null,
   "id": "8cd7545a-83d4-4af5-95ec-80430e041e2f",
   "metadata": {
    "tags": []
   },
   "outputs": [],
   "source": [
    "import matplotlib.pyplot as plt\n",
    "plt.scatter(features_reduced_2[:, 0], features_reduced_2[:, 1], c=label)"
   ]
  }
 ],
 "metadata": {
  "kernelspec": {
   "display_name": "Python 3 (ipykernel)",
   "language": "python",
   "name": "python3"
  },
  "language_info": {
   "codemirror_mode": {
    "name": "ipython",
    "version": 3
   },
   "file_extension": ".py",
   "mimetype": "text/x-python",
   "name": "python",
   "nbconvert_exporter": "python",
   "pygments_lexer": "ipython3",
   "version": "3.10.12"
  }
 },
 "nbformat": 4,
 "nbformat_minor": 5
}
