{
 "cells": [
  {
   "cell_type": "markdown",
   "metadata": {},
   "source": [
    "# Árboles de decisión\n",
    "\n",
    "Un árbol de decisión es un tipo de modelo de conocimiento que puede\n",
    "generarse a partir de datos y que puede usarse tanto para clasificación como regresión.\n",
    "\n",
    "En este último caso, se denomina árbol de regresión, aunque su construcción es análoga a la del árbol de decisión.\n",
    "\n",
    ">Note: La idea conceptual de los árboles de decisión es dividir el conjunto de datos de forma jerárquica en trozos cada vez menores hasta llegar a trozos donde los ejemplos son todos, o prácticamente todos, de la misma clase. La forma de dividir los datos en trozos se hace a partir de los valores de los atributos.\n",
    "\n",
    "En concreto, cada vez que se divide un conjunto de datos en dos o más trozos (y, así, de forma recursiva), suele ser un único atributo el que se usa. Dependiendo del valor del atributo, se aplican filtros a los datos para generar trozos de datos menores cuyas filas han sido filtradas para que tengan únicamente ciertos valores del atributo en cuestión.\n",
    "\n",
    "Para construir un árbol de decisión, el algoritmo de construcción debe asignar a cada nodo del árbol el atributo más apropiado en cada caso. El atributo más apropiado debería ser aquel que, mediante sus valores posibles, mejor distingue las instancias de una clase o varias clases con respecto a las demás, esto es, el atributo que mejor discrimine las clases de los ejemplos.\n",
    "\n",
    "Existen diferentes algoritmos de árboles de decisión, particularmente estudiaremos `CART` (classification and regression trees en inglés). Como su propio nombre indica, permite realizar tanto clasificación como regresión usando árboles como modelo. A diferencia de otros modelos `CART` produce únicamente árboles binarios; esto\n",
    "es, desde cada nodo parten a lo sumo dos aristas. La librería `scikit-learn` implementa una versión optimizada del algoritmo `CART`, pero no admite atributos categóricos, tan solo numéricos."
   ]
  },
  {
   "cell_type": "markdown",
   "metadata": {},
   "source": [
    "## Ejemplo\n",
    "\n",
    "En el Programa, se muestra un ejemplo de aplicación del algoritmo CART de la librería `scikit-learn` para la construcción de árboles de decisión mediante validación cruzada con 10 bolsas. El algoritmo se ha aplicado a tres conjuntos de datos distintos: `iris`, `wine` y `breast-cancer`.\n",
    "\n"
   ]
  },
  {
   "cell_type": "code",
   "execution_count": null,
   "metadata": {
    "tags": []
   },
   "outputs": [],
   "source": [
    "from sklearn import tree\n",
    "from sklearn import datasets\n",
    "import sklearn.metrics as metrics\n",
    "from sklearn.model_selection import KFold\n",
    "from sklearn.model_selection import cross_val_predict\n",
    "from sklearn import preprocessing\n",
    "from evaluacion_funciones import *\n",
    "import warnings\n",
    "warnings.filterwarnings(\"ignore\")"
   ]
  },
  {
   "cell_type": "code",
   "execution_count": null,
   "metadata": {
    "tags": []
   },
   "outputs": [],
   "source": [
    "seed=42"
   ]
  },
  {
   "cell_type": "code",
   "execution_count": null,
   "metadata": {
    "tags": []
   },
   "outputs": [],
   "source": [
    "# Cargamos el conjunto de datos\n",
    "datos_iris = datasets.load_iris()\n",
    "datos_wine = datasets.load_wine()\n",
    "datos_breast = datasets.load_breast_cancer()\n",
    "\n",
    "X = {\n",
    "    'IRIS': datos_iris.data,\n",
    "    'WINE': datos_wine.data,\n",
    "    'BREAST': datos_breast.data\n",
    "}\n",
    "\n",
    "y = {\n",
    "    'IRIS': datos_iris.target,\n",
    "    'WINE': datos_wine.target,\n",
    "    'BREAST': datos_breast.target\n",
    "}\n",
    "\n"
   ]
  },
  {
   "cell_type": "code",
   "execution_count": null,
   "metadata": {
    "tags": []
   },
   "outputs": [],
   "source": [
    "# 5) Construcción del algoritmo de aprendizaje.\n",
    "algoritmos = {'DT': tree.DecisionTreeClassifier(criterion='gini', random_state=seed)}"
   ]
  },
  {
   "cell_type": "code",
   "execution_count": null,
   "metadata": {
    "tags": []
   },
   "outputs": [],
   "source": [
    "# Métricas de evaluación.\n",
    "metricas = {\n",
    "  'ACC':    metrics.accuracy_score,\n",
    "  'PREC':   lambda y_true, y_pred:\n",
    "            metrics.precision_score(y_true, y_pred, average='micro'),\n",
    "  'RECALL': lambda y_true, y_pred:\n",
    "            metrics.recall_score(y_true, y_pred, average='micro'),\n",
    "  'F1':     lambda y_true, y_pred:\n",
    "            metrics.f1_score(y_true, y_pred, average='micro')\n",
    "}"
   ]
  },
  {
   "cell_type": "code",
   "execution_count": null,
   "metadata": {
    "tags": []
   },
   "outputs": [],
   "source": [
    "# 1) Partición externa\n",
    "# 2) Extracción de características (en caso de trabajar con imágenes)\n",
    "\n",
    "# 3) Estandarizacion de los datos\n",
    "standardizer = preprocessing.StandardScaler()\n",
    "for nombre, exp in X.items():\n",
    "    X[nombre] = standardizer.fit_transform(X[nombre])\n",
    "\n",
    "# 4) Selección de atributos"
   ]
  },
  {
   "cell_type": "code",
   "execution_count": null,
   "metadata": {
    "tags": []
   },
   "outputs": [],
   "source": [
    "# 5.1) Validación cruzada interna y Optimización de los hiperparámetros\n",
    "y_pred = {}\n",
    "for nombre, exp in X.items():\n",
    "    y_pred[nombre] = cross_val_predict(algoritmos['DT'], X[nombre], y[nombre], \n",
    "                                       cv=KFold(n_splits=5, shuffle=True, random_state=seed))"
   ]
  },
  {
   "cell_type": "code",
   "execution_count": null,
   "metadata": {
    "scrolled": true,
    "tags": []
   },
   "outputs": [],
   "source": [
    "# Mostramos el resultado de varias métricas\n",
    "results={}\n",
    "for nombre, exp in X.items():\n",
    "    results[nombre] = evaluacion(y[nombre], y_pred[nombre], metricas)\n",
    "    print(\"Matriz de confusión (%s):\\n%s\" % (nombre, metrics.confusion_matrix(y[nombre], y_pred[nombre])))\n",
    "    print(\"Tabla de métricas (%s):\\n%s\" % (nombre, metrics.classification_report(y[nombre], y_pred[nombre], digits=3)))"
   ]
  },
  {
   "cell_type": "code",
   "execution_count": null,
   "metadata": {
    "tags": []
   },
   "outputs": [],
   "source": [
    "# 5.2) Entrenamiento del modelo definitivo (usamos 2 atributos para poder obtener gráficos en 2D)\n",
    "for nombre, exp in X.items():\n",
    "    modelo_definitivo = algoritmos['DT'].fit(X[nombre][:,:2], y[nombre])\n",
    "    mapa_modelo_clasif_2d(X[nombre][:,:2], y[nombre], modelo_definitivo, results[nombre], nombre)"
   ]
  },
  {
   "cell_type": "code",
   "execution_count": null,
   "metadata": {
    "tags": []
   },
   "outputs": [],
   "source": [
    "# 5.3) Ploteamos el árbol con todos los datos para visualización árbol.\n",
    "for nombre, exp in X.items():\n",
    "    modelo_completo = algoritmos['DT'].fit(X[nombre], y[nombre])\n",
    "    plt.figure()\n",
    "    tree.plot_tree(modelo_completo,filled=True)  \n",
    "    plt.savefig('tree_' + nombre + '.pdf',format='pdf',bbox_inches = \"tight\")"
   ]
  },
  {
   "cell_type": "markdown",
   "metadata": {},
   "source": [
    "En concreto, en el Programa se han definido tres experimentos, en los que se aplica el algoritmo `CART` (implementado en la clase DecisionTreeClassifier del paquete tree de la librería `scikit-learn`) a los tres conjuntos de datos antes mencionados: `iris`, `wine` y `breast-cancer`. Una vez definidos los experimentos, en el paso 5 del Programa  se realiza la validación cruzada mediante la función `cross_val_predict()` de\n",
    "`scikit-learn`, tal como hemos procedido en anteriores programas."
   ]
  },
  {
   "cell_type": "markdown",
   "metadata": {},
   "source": [
    "Los resultados producidos por el Programa son los siguientes:\n",
    "\n",
    "- Mapa de regiones de clasificación del modelo generado en el experimento con el conjunto de datos “iris”.\n",
    "\n",
    "- Mapa de regiones de clasificación del modelo generado en el experimento con el conjunto de datos “wine”.\n",
    "\n",
    "- Mapa de regiones de clasificación del modelo generado en el experimento con el conjunto de datos “breast-cancer”.\n",
    "\n",
    "- Árbol de decisión generado por CART para el conjunto “iris”.\n",
    "\n",
    "- Árbol de decisión generado por CART para el conjunto “wine”.\n",
    "\n",
    "- Árbol de decisión generado por CART para el conjunto “breast-cancer”.\n",
    "\n",
    "- Matrices de confusión y tablas de métricas de los 3 experimentos."
   ]
  }
 ],
 "metadata": {
  "kernelspec": {
   "display_name": "Python 3 (ipykernel)",
   "language": "python",
   "name": "python3"
  },
  "language_info": {
   "codemirror_mode": {
    "name": "ipython",
    "version": 3
   },
   "file_extension": ".py",
   "mimetype": "text/x-python",
   "name": "python",
   "nbconvert_exporter": "python",
   "pygments_lexer": "ipython3",
   "version": "3.10.12"
  }
 },
 "nbformat": 4,
 "nbformat_minor": 4
}
