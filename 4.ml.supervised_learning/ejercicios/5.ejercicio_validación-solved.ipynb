{
 "cells": [
  {
   "cell_type": "markdown",
   "id": "b0132cb5-2864-4073-ac49-2d4836fc009a",
   "metadata": {},
   "source": [
    "# Ejercicio validación\n",
    "\n",
    "Para el siguiente ejemplo, se solicita importar los datos del dataset `housing_data.csv` y realizar el proceso de validación utilizando los siguientes mecanismos \n",
    "\n",
    "- Validación Hold-out\n",
    "- Validación Cruzada\n",
    "\n",
    ">Note: No realizar predicciones, solo las validaciones. Recordar hacer las validaciones internas. "
   ]
  },
  {
   "cell_type": "code",
   "execution_count": null,
   "id": "c14e55d3-6bf2-4f93-9bc8-fa6f825cbaf1",
   "metadata": {
    "tags": []
   },
   "outputs": [],
   "source": [
    "import numpy as np\n",
    "import pandas as pd\n",
    "from sklearn.linear_model import LinearRegression\n",
    "from sklearn.model_selection import train_test_split\n",
    "from sklearn.model_selection import cross_val_score\n",
    "from sklearn.preprocessing import StandardScaler\n",
    "from sklearn.model_selection import KFold\n",
    "import warnings\n",
    "warnings.filterwarnings('ignore')"
   ]
  },
  {
   "cell_type": "markdown",
   "id": "cf7527b9-b121-446c-b3ee-b08e542f2464",
   "metadata": {},
   "source": [
    "## Importar datos"
   ]
  },
  {
   "cell_type": "code",
   "execution_count": null,
   "id": "e5060e0f-ffcb-4fad-a9a7-51a0bb2f5842",
   "metadata": {
    "tags": []
   },
   "outputs": [],
   "source": [
    "df = pd.read_csv('student-mat.csv', sep=';')\n",
    "df"
   ]
  },
  {
   "cell_type": "code",
   "execution_count": null,
   "id": "888f4184-20ae-4606-a0d5-ad059f4d3446",
   "metadata": {
    "tags": []
   },
   "outputs": [],
   "source": [
    "df = df[['age', \n",
    "           'Medu', \n",
    "           'Fedu', \n",
    "           'traveltime', \n",
    "           'studytime', \n",
    "           'failures',\n",
    "           'famrel',\n",
    "           'freetime',\n",
    "           'goout',\n",
    "           'Dalc',\n",
    "           'Walc',\n",
    "           'health',\n",
    "           'absences',\n",
    "           'G1',\n",
    "           'G2',\n",
    "           'G3']]\n",
    "\n",
    "df.info()"
   ]
  },
  {
   "cell_type": "code",
   "execution_count": null,
   "id": "0d15ae3d-521d-4179-bba6-729c185346a4",
   "metadata": {
    "tags": []
   },
   "outputs": [],
   "source": [
    "df_train=df.drop(labels='G3',axis=1)\n",
    "df_label=df['G3']"
   ]
  },
  {
   "cell_type": "markdown",
   "id": "254ecb11-c2d4-4639-bee9-25bcea8930f1",
   "metadata": {},
   "source": [
    "## Validación Hold-out"
   ]
  },
  {
   "cell_type": "code",
   "execution_count": null,
   "id": "1e7dd8f0-e8e1-409f-932a-f996a2747567",
   "metadata": {
    "tags": []
   },
   "outputs": [],
   "source": [
    "# Test: hold-out split 80-20%. # Partición externa\n",
    "X_training, X_test, y_training, y_test = train_test_split(df.drop(labels='G3',axis=1), \n",
    "                                                          df.G3, \n",
    "                                                          test_size=0.2, \n",
    "                                                          random_state=42) \n",
    "\n",
    "valores_test, ocur_test = np.unique(y_test, return_counts=True)\n",
    "\n",
    "print('Test: ', 'clases:', valores_test)\n",
    "print('\\n')\n",
    "print('ocurrencias: ', ocur_test)"
   ]
  },
  {
   "cell_type": "code",
   "execution_count": null,
   "id": "9912c6ac-a5c3-4e88-be19-c896270b29d5",
   "metadata": {
    "tags": []
   },
   "outputs": [],
   "source": [
    "# Estandarizar las características de entrenamiento y de test\n",
    "standardizer = StandardScaler()\n",
    "X_training = standardizer.fit_transform(X_training)\n",
    "X_test = standardizer.transform(X_test)"
   ]
  },
  {
   "cell_type": "code",
   "execution_count": null,
   "id": "609dcabe-99bf-48f4-9e4f-485db30ead4b",
   "metadata": {
    "tags": []
   },
   "outputs": [],
   "source": [
    "# Validación: hold-out split 80-20%. # Partición interna\n",
    "X_train, X_val, y_train, y_val = train_test_split(X_training, \n",
    "                                                  y_training, \n",
    "                                                  test_size=0.2, \n",
    "                                                  random_state=42)\n",
    "\n",
    "valores_train, ocur_train = np.unique(y_train, return_counts=True)\n",
    "print('Entrenamiento: ', ' clases:', valores_train)\n",
    "print('\\n')\n",
    "print('ocurrencias:', ocur_train)\n",
    "print('\\n')\n",
    "\n",
    "\n",
    "valores_val, ocur_val = np.unique(y_val, return_counts=True)\n",
    "\n",
    "print('Test: ', 'clases:', valores_val)\n",
    "print('\\n')\n",
    "print('ocurrencias: ', ocur_val)"
   ]
  },
  {
   "cell_type": "code",
   "execution_count": null,
   "id": "7c2c8c39-40d7-4c1c-b971-6cb5bf1eeebb",
   "metadata": {
    "tags": []
   },
   "outputs": [],
   "source": [
    "# Construcción del objeto que contiene el algoritmo de aprendizaje.\n",
    "# Utilizamos un algoritmo de regresión lineal\n",
    "lm = LinearRegression()"
   ]
  },
  {
   "cell_type": "code",
   "execution_count": null,
   "id": "09c64ff3-4293-45b4-9d22-bd78aa47d10e",
   "metadata": {
    "tags": []
   },
   "outputs": [],
   "source": [
    "lm.fit(X_train, y_train) # Entrenamos modelo\n",
    "\n",
    "val_accuracy = lm.score(X_val, y_val) # Evaluamos modelo en validación\n",
    "print('Exactitud en validación ', np.round(val_accuracy*100, 2), '%')\n",
    "\n",
    "test_accuracy = lm.score(X_test, y_test) # Evaluamos modelo en test\n",
    "print('Exactitud en test ', np.round(test_accuracy*100, 2), '%')"
   ]
  },
  {
   "cell_type": "markdown",
   "id": "96dc9f5c-4c1d-4b2e-b18b-55fe765672ec",
   "metadata": {},
   "source": [
    "## Validación Cruzada"
   ]
  },
  {
   "cell_type": "code",
   "execution_count": null,
   "id": "cd1b72e1-0f52-4d3c-8889-676d3d1e8076",
   "metadata": {
    "tags": []
   },
   "outputs": [],
   "source": [
    "# Test: hold-out split 80-20%. PARTICIÓN EXTERNA\n",
    "X_training, X_test, y_training, y_test = train_test_split(df.drop(labels='G3',axis=1), \n",
    "                                                          df.G3, \n",
    "                                                          test_size=0.2, \n",
    "                                                          random_state=42) \n",
    "\n",
    "valores_test, ocur_test = np.unique(y_test, return_counts=True)\n",
    "print('Test: ', 'clases:', valores_test, ' ocurrencias: ', ocur_test)\n",
    "\n",
    "valores_train, ocur_train = np.unique(y_train, return_counts=True)\n",
    "print('Entrenamiento: ', ' clases:', valores_train, '  ocurrencias:', ocur_train)"
   ]
  },
  {
   "cell_type": "code",
   "execution_count": null,
   "id": "b5d98268-2943-43bc-97f5-77b22161655e",
   "metadata": {
    "tags": []
   },
   "outputs": [],
   "source": [
    "# Construcción del objeto que contiene el algoritmo de aprendizaje.\n",
    "# Utilizamos un algoritmo de regresión lineal\n",
    "lm = LinearRegression()"
   ]
  },
  {
   "cell_type": "code",
   "execution_count": null,
   "id": "3f8d0984-89a9-482e-abc6-2fd4966149b6",
   "metadata": {
    "tags": []
   },
   "outputs": [],
   "source": [
    "# Validación, entrenamiento y evaluación del algoritmo de aprendizaje.\n",
    "# en \"cv = KFold(n_splits=5)\" estamos haciendo un cross-validation INTERNO!\n",
    "\n",
    "\"\"\"\n",
    "En results se hace la validación cruzada\n",
    "\"\"\"\n",
    "\n",
    "results = cross_val_score(lm, \n",
    "                          X_train, \n",
    "                          y_train, \n",
    "                          cv = KFold(n_splits=5, shuffle = True, random_state = 42))\n",
    "\n",
    "print(\"Resultados por bolsa: \", results)\n",
    "print(\"Accuracy (media +/- desv.): %0.4f +/- %0.4f\" % (results.mean(), results.std()))"
   ]
  },
  {
   "cell_type": "code",
   "execution_count": null,
   "id": "06fdadfb-59e1-483d-9a69-4d0d77606e08",
   "metadata": {
    "tags": []
   },
   "outputs": [],
   "source": [
    "# Una vez entrenado y validado el modelo para seleccionar los mejores hyperparameters, \n",
    "# utilizamos todos los datos de \"train\" y \"val\" para entrenar el modelo definitivo\n",
    "\n",
    "lm = lm.fit(X_train, y_train) # Entrenamiento\n",
    "test_results = lm.score(X_test, y_test) # Evaluación en test\n",
    "print('Exactitud en test: ', test_results*100, '%')\n",
    "print('\\n')\n",
    "# También podemos extraer las predicciones, en lugar de directamente la accuracy\n",
    "y_pred = lm.predict(X_test)\n",
    "y=pd.Series(y_pred)\n",
    "print('Predicciones:\\n', y)\n",
    "print('\\n')\n",
    "print('Etiquetas reales:\\n', y_test)"
   ]
  }
 ],
 "metadata": {
  "kernelspec": {
   "display_name": "Python 3 (ipykernel)",
   "language": "python",
   "name": "python3"
  },
  "language_info": {
   "codemirror_mode": {
    "name": "ipython",
    "version": 3
   },
   "file_extension": ".py",
   "mimetype": "text/x-python",
   "name": "python",
   "nbconvert_exporter": "python",
   "pygments_lexer": "ipython3",
   "version": "3.10.12"
  }
 },
 "nbformat": 4,
 "nbformat_minor": 5
}
