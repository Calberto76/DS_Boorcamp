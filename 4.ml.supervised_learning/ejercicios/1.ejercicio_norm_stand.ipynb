{
 "cells": [
  {
   "cell_type": "markdown",
   "id": "5dda9033-0ca2-4ea8-ade2-94272c12c91c",
   "metadata": {},
   "source": [
    "# Ejercicio Normalización / Estandarización de datos\n",
    "\n",
    "Importar el dataset `Salary_dataset.csv` y aplicar los dos metodos de preprocesamiento de datos.\n",
    "De los datos importados crear dos Datasets, uno con 25 valores que llamaremos `X_train` y uno con 5 valores que llamaremos `X_test`. "
   ]
  },
  {
   "cell_type": "markdown",
   "id": "374416e1-a3eb-4b95-a75d-ec04a42c636f",
   "metadata": {},
   "source": [
    "## Normalización"
   ]
  },
  {
   "cell_type": "code",
   "execution_count": null,
   "id": "419a13ac-307b-41dc-9fe1-45a5ec2bf63d",
   "metadata": {
    "tags": []
   },
   "outputs": [],
   "source": [
    "from sklearn import preprocessing\n",
    "import numpy as np\n",
    "import pandas as pd"
   ]
  },
  {
   "cell_type": "code",
   "execution_count": null,
   "id": "af6156ea-fce8-4705-bf53-687fbcfc7c1d",
   "metadata": {
    "tags": []
   },
   "outputs": [],
   "source": [
    "df = "
   ]
  },
  {
   "cell_type": "code",
   "execution_count": null,
   "id": "5888025a-8835-4986-8ecd-97348776a1cc",
   "metadata": {
    "tags": []
   },
   "outputs": [],
   "source": [
    "df_train = \n",
    "df_test = \n",
    "X_train = \n",
    "X_test = \n",
    "display (X_train)\n",
    "display (X_test)"
   ]
  },
  {
   "cell_type": "code",
   "execution_count": null,
   "id": "73dde2c7-7967-4b87-9372-09e9c9999d47",
   "metadata": {
    "tags": []
   },
   "outputs": [],
   "source": [
    "# Limpieza de datos: normalización.\n",
    "normalizer = \n",
    "X_train_norm = \n",
    "print(X_train_norm)"
   ]
  },
  {
   "cell_type": "markdown",
   "id": "37413412-5d61-4380-81b5-94f28dbd9400",
   "metadata": {
    "tags": []
   },
   "source": [
    "## Estandarización"
   ]
  },
  {
   "cell_type": "code",
   "execution_count": null,
   "id": "c717e3fe-13c8-4bf5-9fac-69a09dc78f79",
   "metadata": {},
   "outputs": [],
   "source": [
    "from sklearn import preprocessing\n",
    "import numpy as np\n",
    "import pandas as pd"
   ]
  },
  {
   "cell_type": "code",
   "execution_count": null,
   "id": "1494f71d-53be-450b-9f28-bc9ab4e79f91",
   "metadata": {},
   "outputs": [],
   "source": [
    "df = "
   ]
  },
  {
   "cell_type": "code",
   "execution_count": null,
   "id": "40b0822c-2d82-4d3c-be7c-95453d2b730f",
   "metadata": {},
   "outputs": [],
   "source": [
    "df_train = \n",
    "df_test = \n",
    "X_train = \n",
    "X_test = \n",
    "display (X_train)\n",
    "display (X_test)"
   ]
  },
  {
   "cell_type": "code",
   "execution_count": null,
   "id": "ff021fad-a30d-4499-a9cc-b6d18708623d",
   "metadata": {
    "tags": []
   },
   "outputs": [],
   "source": [
    "# Limpieza de datos: estandarización.\n",
    "standardizer = \n",
    "X_train_std = \n",
    "print(X_train_std)"
   ]
  }
 ],
 "metadata": {
  "kernelspec": {
   "display_name": "Python 3 (ipykernel)",
   "language": "python",
   "name": "python3"
  },
  "language_info": {
   "codemirror_mode": {
    "name": "ipython",
    "version": 3
   },
   "file_extension": ".py",
   "mimetype": "text/x-python",
   "name": "python",
   "nbconvert_exporter": "python",
   "pygments_lexer": "ipython3",
   "version": "3.10.12"
  }
 },
 "nbformat": 4,
 "nbformat_minor": 5
}
