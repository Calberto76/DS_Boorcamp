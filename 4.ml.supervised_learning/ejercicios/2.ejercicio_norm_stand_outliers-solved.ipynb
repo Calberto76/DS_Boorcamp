{
 "cells": [
  {
   "cell_type": "code",
   "execution_count": null,
   "id": "a9bfa170-5c9a-4b72-aa94-868f7ef264ac",
   "metadata": {
    "tags": []
   },
   "outputs": [],
   "source": [
    "import pandas as pd\n",
    "import numpy as np\n",
    "from sklearn import preprocessing"
   ]
  },
  {
   "cell_type": "code",
   "execution_count": null,
   "id": "12e4afc0-3cd0-46a1-a767-42e41ac94082",
   "metadata": {
    "tags": []
   },
   "outputs": [],
   "source": [
    "df = pd.read_csv('outliers.csv',sep=';') # Visualizar dataset previo importar para pasar los parámetros correctos\n",
    "df.head()"
   ]
  },
  {
   "cell_type": "markdown",
   "id": "9e375f93-9e1d-4672-bc0c-ce6f573baa33",
   "metadata": {},
   "source": [
    "## Ejercicio Normalización\n",
    "\n",
    "Se les brinda un dataset con 500 valores (`outliers.csv`) que deben ser preprocesados previo entrar en la etapa de modelado de datos.\n",
    "\n",
    "- Realizar un split de datos del 80/20. Pueden realizar el split utilizando una función desarrollada por ustedes, o en cuyo caso, utilizar la librería `from sklearn.model_selection import train_test_split` Para mayor información de como utilizarla [Tran Test Split sklearn](https://scikit-learn.org/stable/modules/generated/sklearn.model_selection.train_test_split.html). Seleccionar `h` como atributo label/target\n",
    "\n",
    "- Aplicar el proceso de normalización\n"
   ]
  },
  {
   "cell_type": "code",
   "execution_count": null,
   "id": "d488fddf-6c9b-4e08-96bc-986899e8c9e0",
   "metadata": {},
   "outputs": [],
   "source": [
    "# from sklearn.model_selection import train_test_split\n",
    "# X_train, X_test, y_train, y_test ="
   ]
  },
  {
   "cell_type": "code",
   "execution_count": null,
   "id": "a29cbaaa-ec6e-471c-8804-de29c3c079fc",
   "metadata": {},
   "outputs": [],
   "source": [
    "# Split manual\n",
    "df_train = \n",
    "df_test = \n",
    "X_train = \n",
    "X_test = \n",
    "display (X_train)\n",
    "display (X_test)"
   ]
  },
  {
   "cell_type": "code",
   "execution_count": null,
   "id": "733ab981-c624-49c9-852c-c38605db02d8",
   "metadata": {},
   "outputs": [],
   "source": [
    "# Limpieza de datos: normalización.\n",
    "normalizer = \n",
    "X_train_norm = \n",
    "print(X_train_norm)"
   ]
  },
  {
   "cell_type": "markdown",
   "id": "ff8c78fe-3ee7-46af-ad00-5582d62b4435",
   "metadata": {},
   "source": [
    "## Ejercicio Estandarización\n",
    "\n",
    "Se les brinda un dataset con 500 valores (`outliers.csv`) que deben ser preprocesados previo entrar en la etapa de modelado de datos.\n",
    "\n",
    "- Realizar un split de datos del 80/20. Pueden realizar el split utilizando una función desarrollada por ustedes, o en cuyo caso, utilizar la librería `from sklearn.model_selection import train_test_split` Para mayor información de como utilizarla [Tran Test Split sklearn](https://scikit-learn.org/stable/modules/generated/sklearn.model_selection.train_test_split.html). Seleccionar `h` como atributo label/target\n",
    "\n",
    "- Aplicar el proceso de estandarización\n"
   ]
  },
  {
   "cell_type": "code",
   "execution_count": null,
   "id": "ca528a26-a285-4285-a7e4-c378e1bba4dc",
   "metadata": {},
   "outputs": [],
   "source": [
    "# from sklearn.model_selection import train_test_split\n",
    "# X_train, X_test, y_train, y_test ="
   ]
  },
  {
   "cell_type": "code",
   "execution_count": null,
   "id": "00e4b94d-5941-4c35-a0c1-c1246648a767",
   "metadata": {},
   "outputs": [],
   "source": [
    "# Split manual\n",
    "df_train = \n",
    "df_test = \n",
    "X_train = \n",
    "X_test = \n",
    "display (X_train)\n",
    "display (X_test)"
   ]
  },
  {
   "cell_type": "code",
   "execution_count": null,
   "id": "0d88f670-82e2-4407-95c3-7728dd5eac73",
   "metadata": {
    "tags": []
   },
   "outputs": [],
   "source": [
    "# Limpieza de datos: estandarización.\n",
    "standardizer = \n",
    "X_train_std = \n",
    "print(X_train_std)"
   ]
  },
  {
   "cell_type": "markdown",
   "id": "7e76f431-a737-4fcc-9929-1e2933ef6bed",
   "metadata": {
    "tags": []
   },
   "source": [
    "## Ejercicio \n",
    "\n",
    "Se les brinda un dataset de las estadísticas de youtube del año 2023 (`global_youtube_statistics.csv`) que deben ser preprocesados previo entrar en la etapa de modelado de datos.\n",
    "\n",
    "- Crear un nuevo dataframe con los siguientes atributos `suscribers`, `video views`, `uploads`, `created_year`, `channel_type` \n",
    "- Realizar un split de datos del 80/20. Pueden realizar el split utilizando una función desarrollada por ustedes, o en cuyo caso, utilizar la librería `from sklearn.model_selection import train_test_split` Para mayor información de como utilizarla [Tran Test Split sklearn](https://scikit-learn.org/stable/modules/generated/sklearn.model_selection.train_test_split.html). Seleccionar `channel_type`  como atributo label/target\n",
    "- Aplicar el método de preprocesamiento que considere apropiado"
   ]
  },
  {
   "cell_type": "code",
   "execution_count": null,
   "id": "b8a5c5fd-fdb0-45fc-971e-d31e689371e0",
   "metadata": {
    "tags": []
   },
   "outputs": [],
   "source": [
    "df = pd.read_csv('global_youtube_statistics.csv', sep=';', encoding='unicode_escape')\n",
    "df"
   ]
  },
  {
   "cell_type": "code",
   "execution_count": null,
   "id": "37c393ef-e8c1-4c3d-a274-324db8db070c",
   "metadata": {
    "tags": []
   },
   "outputs": [],
   "source": [
    "df_2 = df[['subscribers', 'video views', 'uploads', 'created_year', 'channel_type']]\n",
    "df_2.isnull().sum().sum()"
   ]
  },
  {
   "cell_type": "code",
   "execution_count": null,
   "id": "20d0a6fd-aa36-4352-bf93-857de1ceafe9",
   "metadata": {
    "tags": []
   },
   "outputs": [],
   "source": [
    "from sklearn.model_selection import train_test_split\n",
    "\n",
    "X_train, X_test, y_train, y_test = train_test_split(df_2[['subscribers', 'video views', 'uploads', 'created_year']], \n",
    "                                                    df_2['channel_type'], \n",
    "                                                    test_size=0.2, \n",
    "                                                    random_state=42)\n",
    "print(\"Display Train/Test data\")\n",
    "print(\"-----------------------------\")\n",
    "display (X_train.head())\n",
    "print(\"-----------------------------\")\n",
    "display (X_test.head())\n",
    "print(\"-----------------------------\")\n",
    "display (y_train.head())\n",
    "print(\"-----------------------------\")\n",
    "display (y_test.head())"
   ]
  },
  {
   "cell_type": "code",
   "execution_count": null,
   "id": "87134ff8-1953-49b2-8399-a3de1b38761e",
   "metadata": {
    "tags": []
   },
   "outputs": [],
   "source": [
    "normalizer = preprocessing.MinMaxScaler() #Normalización - Instanciamos normalizador\n",
    "X_train_norm = normalizer.fit_transform(X_train) #Al normalizador le aplico el método fit_transform para poder normalizar los datos\n",
    "print(X_train_norm)"
   ]
  },
  {
   "cell_type": "markdown",
   "id": "3767a753-e58c-433a-8c93-4fd8bf4a7721",
   "metadata": {},
   "source": [
    "## Ejercicio outliers \n",
    "\n",
    "Se les brinda un dataset con 500 valores (`outliers.csv`) que deben ser preprocesados previo entrar en la etapa de modelado de datos.\n",
    "\n",
    "- Realizar un split de datos del 80/20. Pueden realizar el split utilizando una función desarrollada por ustedes, o en cuyo caso, utilizar la librería `from sklearn.model_selection import train_test_split` Para mayor información de como utilizarla [Tran Test Split sklearn](https://scikit-learn.org/stable/modules/generated/sklearn.model_selection.train_test_split.html). Seleccionar `h` como atributo label/target\n",
    "\n",
    "- Identificar los posibles outliers usando los algoritmos de `EllipticEnvelope`, `OneClassSVM`, y utilizando el método `IQR`"
   ]
  },
  {
   "cell_type": "code",
   "execution_count": null,
   "id": "ba5bc9d0-6065-42dd-91b9-78282411bd79",
   "metadata": {
    "tags": []
   },
   "outputs": [],
   "source": [
    "from scipy import stats\n",
    "from sklearn.covariance import EllipticEnvelope\n",
    "from sklearn.svm import OneClassSVM\n",
    "from numpy import quantile, where, random\n",
    "import matplotlib.pyplot as plt\n",
    "df = pd.read_csv('outliers.csv',sep=';') # Visualizar dataset previo importar para pasar los parámetros correctos\n",
    "df.head()"
   ]
  },
  {
   "cell_type": "markdown",
   "id": "00607281-5c11-4c29-bf77-6c784bc3dd8f",
   "metadata": {
    "tags": []
   },
   "source": [
    "### EllipticEnvelope"
   ]
  },
  {
   "cell_type": "code",
   "execution_count": null,
   "id": "7f12e451-a62f-491c-9a1e-a9c5b5305d0f",
   "metadata": {
    "tags": []
   },
   "outputs": [],
   "source": [
    "# EllipticEnvelope\n",
    "algorithm = EllipticEnvelope(support_fraction=None, \n",
    "                             contamination=0.25, \n",
    "                             random_state=42) \n",
    "\n",
    "outlier_method = algorithm.fit(X_train)\n",
    "# Aplicamos el método de detección de outliers entrenado sobre nuesto dataset\n",
    "df_outliers = outlier_method.predict(X_train)\n",
    "print(df_outliers)\n",
    "\n",
    "# Determinar la posición de los outliers\n",
    "pos_outliers = np.where(df_outliers==-1)[0] #En este arreglo, donde tengo -1, esos son los outliers.\n",
    "\"\"\"\n",
    "In simple terms, np.where(array==x)[0] returns a list of indices where the conditions have been met. I'm guessing this is a result of designing numpy for extensively broad applications.\n",
    "\"\"\"\n",
    "\n",
    "print('\\nOutliers en la posición: \\n', pos_outliers)\n",
    "\n",
    "# Determinar el número de outliers\n",
    "print('\\nNúmero de outliers: \\n', len(pos_outliers))"
   ]
  },
  {
   "cell_type": "markdown",
   "id": "ade9e1b9-4dcb-4c5e-97a5-f31040658308",
   "metadata": {},
   "source": [
    "### OneClassSVM"
   ]
  },
  {
   "cell_type": "code",
   "execution_count": null,
   "id": "83ce1c5e-d52e-4fec-8f60-629cbde5b84a",
   "metadata": {
    "tags": []
   },
   "outputs": [],
   "source": [
    "# OneClassSVM\n",
    "svm = OneClassSVM(kernel='rbf', gamma=0.001, nu=0.03)\n",
    "print(svm)"
   ]
  },
  {
   "cell_type": "code",
   "execution_count": null,
   "id": "bec665d7-2d7b-4136-876c-5e5e65777f71",
   "metadata": {
    "tags": []
   },
   "outputs": [],
   "source": [
    "svm.fit(X_train)\n",
    "df_outliers = svm.predict(X_train)\n",
    "print(df_outliers)\n",
    "\n",
    "# Determinar la posición de los outliers\n",
    "pos_outliers = np.where(df_outliers==-1)[0] #En este arreglo, donde tengo -1, esos son los outliers.\n",
    "\"\"\"\n",
    "In simple terms, np.where(array==x)[0] returns a list of indices where the conditions have been met. I'm guessing this is a result of designing numpy for extensively broad applications.\n",
    "\"\"\"\n",
    "\n",
    "print('\\nOutliers en la posición: \\n', pos_outliers)\n",
    "\n",
    "# Determinar el número de outliers\n",
    "print('\\nNúmero de outliers: \\n', len(pos_outliers))"
   ]
  },
  {
   "cell_type": "markdown",
   "id": "4790654f-6b22-45fa-a7bb-3e081a6c6088",
   "metadata": {},
   "source": [
    "### IQR"
   ]
  },
  {
   "cell_type": "code",
   "execution_count": 87,
   "id": "13ad687a-6364-471b-be83-b9bc74eb3353",
   "metadata": {
    "tags": []
   },
   "outputs": [],
   "source": [
    "def find_limits_BP(df):\n",
    "    # Seleccionamos el atributo que vamos a medir\n",
    "    b = df\n",
    "\n",
    "    # Seleccionamos los umbrales a partir de los cuales vamos a considerar outliers\n",
    "    Q1 = stats.scoreatpercentile(b, 25)\n",
    "    Q3 = stats.scoreatpercentile(b, 75)\n",
    "    RIC = Q3 - Q1\n",
    "    li = Q1 - 1.5*RIC #xmin\n",
    "    ls = Q3 + 1.5*RIC #xmax\n",
    "\n",
    "    # Observamos los límites inferior y superior\n",
    "    print('limite inferior: ', li)\n",
    "    print('limite superior: ', ls)\n",
    "\n",
    "    # Buscamos la posición de los outliers\n",
    "    pos_i = np.where(b<li)[0]\n",
    "    pos_s = np.where(b>ls)[0]\n",
    "    pos_outliers = np.concatenate((pos_i, pos_s))\n",
    "    print('Posición de outliers: ', pos_outliers)\n",
    "    print('Número de outliers: ', len(pos_outliers))\n",
    "\n",
    "    # Dibujamos el diagrama de caja y bigotes\n",
    "    prop = plt.boxplot(b)\n",
    "    plt.boxplot(b)\n",
    "    plt.show()"
   ]
  },
  {
   "cell_type": "code",
   "execution_count": 89,
   "id": "d50aabf5-c873-4cff-a705-6b85715118fa",
   "metadata": {
    "tags": []
   },
   "outputs": [
    {
     "name": "stdout",
     "output_type": "stream",
     "text": [
      "limite inferior:  -141294975.0\n",
      "limite superior:  235496985.0\n",
      "Posición de outliers:  [  0   0   2   3   4   6   7   8   9  10  11  13  14  15  16  17  19  20\n",
      "  21  22  23  24  25  26  27  28  29  30  31  32  33  34  35  36  37  38\n",
      "  39  40  41  42  43  44  45  46  47  48  49  50  51  52  53  54  55  56\n",
      "  57  58  59  60  61  62  63  64  65  66  67  68  69  70  71  72  73  74\n",
      "  75  76  77  78  79  80  81  82  83  84  85  86  87  88  89  90  91  92\n",
      "  93  94  95  96  97  98  99 100 101 103 104 105 106 107 108 109 110 111\n",
      " 112 113 114 115 116 117 118 119 120 121 122 123 124 125 126 127 128 129\n",
      " 130 131 132 133 134 135 136 137 138 139 140 141 142 143 144 145 146 147\n",
      " 148 149 150 151 152 153 154 155 156 157 158 159 160 161 162 163 164 165\n",
      " 166 167 168 169 170 171 172 174 175 176 177 178 179 180 181 182 183 184\n",
      " 185 186 187 188 189 190 191 192 193 194 195 196 197 198 199 200 201 202\n",
      " 203 204 205 206 207 208 209 210 211 212 213 214 215 216 217 218 219 220\n",
      " 221 222 223 224 225 226 227 228 229 230 231 232 233 234 235 236 237 238\n",
      " 239 240 241 242 243 244 245 246 247 248 249 250 251 252 253 254 255 256\n",
      " 257 258 259 260 261 262 263 264 265 266 267 268 269 270 271 272 273 274\n",
      " 275 276 277 278 279 280 281 282 283 284 286 287 288 289 290 291 292 293\n",
      " 294 295 296 297 298 299 300 301 302 303 304 305 306 307 308 309 310 311\n",
      " 312 313 314 315 316 317 318 319 320 321 322 323 324 325 326 327 328 329\n",
      " 330 331 332 333 334 335 336 337 338 339 340 341 342 343 344 345 346 347\n",
      " 348 349 350 351 352 353 354 355 356 357 358 360 361 362 363 364 365 366\n",
      " 367 368 369 370 371 372 373 374 375 376 377 378 379 380 381 382 383 384\n",
      " 385 386 387 388 389 390 391 392 393 394 395 396 397 398 399 400 401 402\n",
      " 403 404 405 406 407 408 409 410 411 412 413 414 415 416 417 418 419 420\n",
      " 421 422 423 424 425 426 427 428 429 430 431 432 433 434 435 436 437 438\n",
      " 439 440 441 442 443 444 445 446 447 448 449 450 451 452 453 454 455 456\n",
      " 457 458 459 460 461 462 463 464 465 466 467 468 469 470 471 472 473 474\n",
      " 475 476 477 478 479 480 481 482 483 484 485 486 487 488 489 490 491 492\n",
      " 493 494 495 496 497 498 499 500 501 502 503 504 505 506 507 508 509 510\n",
      " 511 512 513 514 515 516 517 518 519 520 521 522 523 524 525 526 527 528\n",
      " 529 530 531 532 533 534 535 536 537 538 539 540 541 542 543 544 545 546\n",
      " 547 548 549 550 551 552 553 554 555 556 557 558 559 560 561 562 563 564\n",
      " 565 566 567 568 569 570 571 572 573 574 575 576 577 578 579 580 581 582\n",
      " 583 584 585 586 587 588 590 591 592 593 594 595 596 597 598 599 600 601\n",
      " 602 603 604 605 606 607 608 609 610 611 612 613 614 615 616 617 618 619\n",
      " 620 621 622 623 624 625 626 627 628 629 630 631 632 633 634 635 636 637\n",
      " 638 639 640 641 642 643 644 645 646 647 648 649 650 651 652 653 654 655\n",
      " 656 657 658 659 660 661 662 663 664 665 666 667 668 669 670 671 672 673\n",
      " 674 675 676 677 678 679 680 681 682 683 684 685 686 687 688 689 690 691\n",
      " 692 693 694 695 696 698 699 700 701 702 703 704 705 706 707 708 709 710\n",
      " 711 712 713 714 715 716 717 718 719 720 721 722 723 724 725 726 727 728\n",
      " 729 730 731 732 733 734 735 736 737 738 739 740 741 742 743 744 745 746\n",
      " 747 748 749 750 751 752 753 754 755 756 757 758 759 760 761 762 763 764\n",
      " 765 766 767 768 769 770 771 772 773 774 775 776 777 778 779 780 781 782\n",
      " 783 784 785 786 787 788 789 790 791 792 793 794 795 796 797 798 799 800\n",
      " 801 802 803 804 805 806 807 808 809 810 811 812 813 814 815 816 817 818\n",
      " 819 820 821 822 823 824 825 826 827 828 829 830 831 832 833 834 835 836\n",
      " 837 838 839 840 841 842 843 844 845 846 847 849 850 851 852 853 854 855\n",
      " 856 857 858 859 860 861 862 863 864 865 866 867 868 869 870 871 872 873\n",
      " 874 875 876 877 878 879 880 881 882 883 884 885 886 887 888 889 890 891\n",
      " 892 893 894 895 896 897 899 900 901 902 903 904 905 906 907 909 910 911\n",
      " 912 913 914 915 916 917 918 919 920 921 922 923 924 925 926 927 928 929\n",
      " 930 931 932 933 934 935 936 937 938 939 940 941 942 943 944 945 947 948\n",
      " 949 950 951 952 953 954 955 956 957 958 959 960 961 962 963 964 965 966\n",
      " 967 968 969 970 971 972 973 974 975 976 977 978 979 980 981 982 983 984\n",
      " 985 986 987 988 989 990]\n",
      "Número de outliers:  978\n"
     ]
    },
    {
     "data": {
      "image/png": "[encoded data removed]",
      "text/plain": [
       "<Figure size 640x480 with 1 Axes>"
      ]
     },
     "metadata": {},
     "output_type": "display_data"
    }
   ],
   "source": [
    "find_limits_BP(df_2[['subscribers', 'video views', 'uploads', 'created_year']]) #Tener en cuenta los atributos numéricos"
   ]
  }
 ],
 "metadata": {
  "kernelspec": {
   "display_name": "Python 3 (ipykernel)",
   "language": "python",
   "name": "python3"
  },
  "language_info": {
   "codemirror_mode": {
    "name": "ipython",
    "version": 3
   },
   "file_extension": ".py",
   "mimetype": "text/x-python",
   "name": "python",
   "nbconvert_exporter": "python",
   "pygments_lexer": "ipython3",
   "version": "3.10.12"
  }
 },
 "nbformat": 4,
 "nbformat_minor": 5
}
