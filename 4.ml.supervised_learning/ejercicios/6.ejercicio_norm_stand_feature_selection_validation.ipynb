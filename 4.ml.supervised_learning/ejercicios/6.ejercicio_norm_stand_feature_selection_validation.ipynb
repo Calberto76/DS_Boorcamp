{
 "cells": [
  {
   "cell_type": "markdown",
   "id": "f90b98da-c387-4bb9-8a76-eb4ab1ea5c69",
   "metadata": {},
   "source": [
    "# Ejercicio\n",
    "\n",
    "Implementar los procesos de preparación de datos, selección de atributos, estandarización, y validación/evaluación del modelo predictivo.\n",
    "\n",
    "Para el siguiente ejemplo utilizaremos un dataset sobre prestamos otorgados (`loan_data_set.csv`).\n",
    "\n",
    "Luego de realizar el proceso de selección de atributos comparar los resultados y explicar el resultado asociado a cada método."
   ]
  },
  {
   "cell_type": "markdown",
   "id": "d89cf5f4-a0f3-402b-a6f3-3a849a248d18",
   "metadata": {},
   "source": [
    "## Importar librerías"
   ]
  },
  {
   "cell_type": "code",
   "execution_count": null,
   "id": "9fbfe787-04c0-4102-bb1d-548cf85c1452",
   "metadata": {
    "tags": []
   },
   "outputs": [],
   "source": [
    "from sklearn.model_selection import train_test_split\n",
    "from sklearn import preprocessing\n",
    "from sklearn import metrics\n",
    "from sklearn import preprocessing\n",
    "from sklearn.preprocessing import LabelEncoder\n",
    "from sklearn.tree import DecisionTreeClassifier\n",
    "from sklearn.ensemble import RandomForestClassifier, GradientBoostingClassifier\n",
    "from sklearn.metrics import accuracy_score,f1_score, confusion_matrix , recall_score , precision_score\n",
    "from sklearn import tree\n",
    "from sklearn.tree import export_graphviz\n",
    "from sklearn.covariance import EllipticEnvelope\n",
    "from sklearn.feature_selection import f_regression, mutual_info_regression\n",
    "from matplotlib import pyplot as plt\n",
    "import warnings\n",
    "import os\n",
    "warnings.filterwarnings('ignore')"
   ]
  },
  {
   "cell_type": "markdown",
   "id": "8e95377c-99a4-4512-9f94-9c8b5d326dad",
   "metadata": {},
   "source": [
    "## Importar dataset"
   ]
  },
  {
   "cell_type": "markdown",
   "id": "82be9f8d-fc8d-4a9e-90fb-e52af9ebd608",
   "metadata": {},
   "source": [
    "### Comprendiendo los datos\n",
    "\n",
    "`ID` =  Unique record ID  \n",
    "`Gender` = Male/ Female  \n",
    "`Married` = Applicant married (Y/N)  \n",
    "`Dependents` = Number of dependents  \n",
    "`Education` = Applicant Education (Graduate/ Under Graduate)  \n",
    "`Self_Employed` = Self employed (Y/N)  \n",
    "`ApplicantIncome` = Applicant income  \n",
    "`CoapplicantIncome` = Coapplicant income  \n",
    "`Credit_History` = Credit history meets guidelines(0- No, 1- Yes)  \n",
    "`Property_Area` = Urban/ Semi Urban/ Rural  \n",
    "`Loan_Applied` = Loan applied (Y/N)  "
   ]
  },
  {
   "cell_type": "code",
   "execution_count": null,
   "id": "d38082e8-bd3e-4339-8e54-b1cfe9dcf187",
   "metadata": {
    "tags": []
   },
   "outputs": [],
   "source": [
    "file = os.path.join() #TODO\n",
    "df_loan_data=pd.read_csv(file)\n",
    "df_loan_data.head()"
   ]
  },
  {
   "cell_type": "code",
   "execution_count": null,
   "id": "5dd3b001-81b5-4dde-aa50-e229d618d4e7",
   "metadata": {
    "tags": []
   },
   "outputs": [],
   "source": [
    "df_loan_data.shape"
   ]
  },
  {
   "cell_type": "code",
   "execution_count": null,
   "id": "820930b9-790a-4f65-b329-f075767b1e09",
   "metadata": {
    "tags": []
   },
   "outputs": [],
   "source": [
    "df_loan_data.dtypes"
   ]
  },
  {
   "cell_type": "code",
   "execution_count": null,
   "id": "c2de7738-de28-41f7-8f75-44a96f569ca8",
   "metadata": {
    "tags": []
   },
   "outputs": [],
   "source": [
    "## Incluir todos los atributos no solo los númericos\n",
    "df_loan_data.describe() #TODO"
   ]
  },
  {
   "cell_type": "markdown",
   "id": "d2d42442-fe7b-45f5-8095-1a01857743a4",
   "metadata": {},
   "source": [
    "## Limpieza/Transformación dataset"
   ]
  },
  {
   "cell_type": "code",
   "execution_count": null,
   "id": "4fca06e4-69d7-4dba-a881-a42d4dcc0419",
   "metadata": {
    "tags": []
   },
   "outputs": [],
   "source": [
    "# Calculamos los valores `ausentes` por columna\n",
    "# Total de valores ausentes\n",
    "mis_val = # TODO\n",
    "        \n",
    "# Porcentaje de valores ausentes\n",
    "mis_val_percent = 100 * df_loan_data.isnull().sum() / len(df_loan_data)\n",
    "        \n",
    "# Tabla con los resultados\n",
    "mis_val_table = pd.concat([mis_val, mis_val_percent], axis=1)\n",
    "        \n",
    "# Renombramos columnas\n",
    "mis_val_table_ren_columns = mis_val_table.rename(\n",
    "columns = {0 : 'Missing Values', \n",
    "           1 : '% of Total Values'})\n",
    "        \n",
    "# Ordenamos por porcentajes\n",
    "mis_val_table_ren_columns = mis_val_table_ren_columns[\n",
    "    mis_val_table_ren_columns.iloc[:,1] != 0].sort_values(\n",
    "     '% of Total Values', ascending=False).round(1)\n",
    "        \n",
    "# Impresión de resultado\n",
    "print (\"El dataframe posee \" + str(df_loan_data.shape[1]) + \" columnas.\\n\"      \n",
    "       \"Existen\" + \" \" + str(mis_val_table_ren_columns.shape[0]) +\n",
    "       \" columnas con datos ausentes\")"
   ]
  },
  {
   "cell_type": "code",
   "execution_count": null,
   "id": "9f5b8bfb-724b-48cd-a099-df6cb2c4044c",
   "metadata": {
    "tags": []
   },
   "outputs": [],
   "source": [
    "mis_val_table_ren_columns"
   ]
  },
  {
   "cell_type": "markdown",
   "id": "918713df-b993-49d7-b1be-1d002475d763",
   "metadata": {},
   "source": [
    "### Ignorar/eliminar valores categóricos\n",
    ">Si a una columna le faltan menos del 10% de sus valores, puede ignorarlo. Aunque esto es subjetivo al tamaño del conjunto de datos y al planteamiento del problema.\n",
    "\n",
    "### Reemplace los valores numéricos con:\n",
    ">1. Reemplazar con un valor arbitrario\n",
    ">2. Reemplazar con la media: este es el método más común para imputar valores faltantes de columnas numéricas. Si hay valores atípicos, entonces la media no será apropiada. En tales casos, es necesario tratar primero los valores atípicos.\n",
    ">3. Reemplazar con la moda: la moda es el valor que aparece con más frecuencia. Se utiliza en el caso de características categóricas.\n",
    ">4. Reemplazar con la mediana: la mediana es el valor más intermedio. Es mejor utilizar el valor mediano para la imputación en el caso de valores atípicos."
   ]
  },
  {
   "cell_type": "code",
   "execution_count": null,
   "id": "bb083935-f751-492a-b3e3-2f318a753e40",
   "metadata": {
    "tags": []
   },
   "outputs": [],
   "source": [
    "df_loan_data[df_loan_data['CoapplicantIncome'].isnull()]"
   ]
  },
  {
   "cell_type": "markdown",
   "id": "367355fb-8b5d-4e93-97d1-c14196137947",
   "metadata": {},
   "source": [
    ">Note: Para CoapplicantIncome, la media se utiliza para completar los valores de las columnas que faltan, ya que son los valores más utilizados para las columnas numéricas. Completar con valor promedio es una buena representación de la columna."
   ]
  },
  {
   "cell_type": "code",
   "execution_count": null,
   "id": "c57ea8a3-4ec1-4560-bfb8-659f64592a5d",
   "metadata": {
    "tags": []
   },
   "outputs": [],
   "source": [
    "df_loan_data.CoapplicantIncome.fillna() #TODO"
   ]
  },
  {
   "cell_type": "code",
   "execution_count": null,
   "id": "196d12dd-0e1f-4fff-a880-71627bd908bc",
   "metadata": {
    "tags": []
   },
   "outputs": [],
   "source": [
    "df_loan_data[df_loan_data['ID'] == 'LP001041']"
   ]
  },
  {
   "cell_type": "code",
   "execution_count": null,
   "id": "affe6b5e-65ec-43c0-a035-fd4629782d76",
   "metadata": {
    "tags": []
   },
   "outputs": [],
   "source": [
    "df_loan_data.dropna() # TODO eliminamos todos los na"
   ]
  },
  {
   "cell_type": "markdown",
   "id": "ea96d060-1fca-49eb-b3f4-2c344c459a38",
   "metadata": {},
   "source": [
    "La columna `ID` es un número de autogenerador que no contiene información viable. Es específico para cada cliente y no afecta el estado de solicitud del préstamo. Las secuencias automáticas generalmente se eliminan con fines de modelado para evitar introducir datos que no tienen significado o peso para el resultado final."
   ]
  },
  {
   "cell_type": "code",
   "execution_count": null,
   "id": "dacd3fc5-cfec-42ea-bd25-60e44b5d4de7",
   "metadata": {
    "tags": []
   },
   "outputs": [],
   "source": [
    "df_loan_data.drop() #TODO"
   ]
  },
  {
   "cell_type": "markdown",
   "id": "39ba6b8b-6d29-46a9-9f88-5327aa32630c",
   "metadata": {},
   "source": [
    "### ¿Qué es la codificación de etiquetas?\n",
    "\n",
    "Es una forma sencilla y eficaz de convertir variables categóricas en forma numérica. Al utilizar la clase LabelEncoder de scikit-learn, puede codificar fácilmente sus datos categóricos y prepararlos para análisis posteriores o ingresarlos en algoritmos de aprendizaje automático.\n",
    "\n",
    "Supongamos que tenemos una altura de columna en algún conjunto de datos que tiene elementos como Alto, Medio y Corto. Para convertir esta columna categórica en una columna numérica, aplicaremos codificación de etiqueta a esta columna. Después de aplicar la codificación de etiquetas, la columna Altura se convierte en una columna numérica que tiene los elementos 0,1 y 2, donde 0 es la etiqueta para alto, 1 es la etiqueta para mediano y 2 es la etiqueta para alto bajo.\n",
    "\n",
    "#### Valor de altura\n",
    "- alto 2\n",
    "- Medio 1\n",
    "- Corto 0"
   ]
  },
  {
   "cell_type": "code",
   "execution_count": null,
   "id": "3b1cea11-a87a-4137-beb4-dc2b8fd40983",
   "metadata": {
    "tags": []
   },
   "outputs": [],
   "source": [
    "le = LabelEncoder()\n",
    "df_loan_data[\"Gender\"] = le.fit_transform(df_loan_data[\"Gender\"])\n",
    "df_loan_data[\"Married\"] = le.fit_transform(df_loan_data[\"Married\"])\n",
    "df_loan_data[\"Dependents\"] = le.fit_transform(df_loan_data[\"Dependents\"])\n",
    "df_loan_data[\"Self_Employed\"] = le.fit_transform(df_loan_data[\"Self_Employed\"])\n",
    "df_loan_data[\"Education\"] = le.fit_transform(df_loan_data[\"Education\"])\n",
    "df_loan_data[\"Property_Area\"] = le.fit_transform(df_loan_data[\"Property_Area\"])\n",
    "df_loan_data[\"Loan_Applied\"] = le.fit_transform(df_loan_data[\"Loan_Applied\"])"
   ]
  },
  {
   "cell_type": "code",
   "execution_count": null,
   "id": "82c4a7ee-450c-4134-b2b3-4ecedba423b0",
   "metadata": {
    "tags": []
   },
   "outputs": [],
   "source": [
    "df_loan_data.dtypes"
   ]
  },
  {
   "cell_type": "markdown",
   "id": "d85e68f0-b6f4-4bd6-bd7e-a2212ead19c0",
   "metadata": {},
   "source": [
    "## Eliminación de outliers\n",
    "\n",
    "En este paso determinar si es óptimo eliminar los outliers, ya sea por la cantidad respecto el dataset total, o si realmente pueden inferir negativamente en la clasificación."
   ]
  },
  {
   "cell_type": "code",
   "execution_count": null,
   "id": "e36da217-c1b0-49d0-9109-dd3c5896c639",
   "metadata": {
    "tags": []
   },
   "outputs": [],
   "source": [
    "# TODO"
   ]
  },
  {
   "cell_type": "code",
   "execution_count": null,
   "id": "01475ba9-047b-4e12-921d-174f48a9c918",
   "metadata": {
    "tags": []
   },
   "outputs": [],
   "source": [
    "df_loan_data_wo_outliers = # TODO"
   ]
  },
  {
   "cell_type": "code",
   "execution_count": null,
   "id": "5f3cc414-6dc1-4d6f-a3a3-99dea86b8e51",
   "metadata": {},
   "outputs": [],
   "source": []
  },
  {
   "cell_type": "markdown",
   "id": "c98b6c5e-ddf5-41f4-b944-a53d7f163994",
   "metadata": {},
   "source": [
    "## Partición externa"
   ]
  },
  {
   "cell_type": "code",
   "execution_count": null,
   "id": "32e3c474-6569-4e56-a4a7-908c2195789e",
   "metadata": {
    "tags": []
   },
   "outputs": [],
   "source": [
    "X=df_loan_data_wo_outliers.drop(['Loan_Applied'],axis=1)\n",
    "y=df_loan_data_wo_outliers['Loan_Applied']"
   ]
  },
  {
   "cell_type": "code",
   "execution_count": null,
   "id": "02721472-a003-4e9c-9c5d-c79d695a0edb",
   "metadata": {
    "tags": []
   },
   "outputs": [],
   "source": [
    "X_train,X_test,y_train,y_test=train_test_split(X,y,\n",
    "                                           test_size=0.25,\n",
    "                                           random_state=0)"
   ]
  },
  {
   "cell_type": "markdown",
   "id": "b4da6df6-2313-4aaa-b215-249a29fd48c3",
   "metadata": {},
   "source": [
    "## Selección de atributos (Feature selection)"
   ]
  },
  {
   "cell_type": "code",
   "execution_count": null,
   "id": "c39f1d36-7309-410b-96e0-0af4e715e5b6",
   "metadata": {
    "tags": []
   },
   "outputs": [],
   "source": [
    "mutual_info = mutual_info_regression(X_train, y_train)\n",
    "print(mutual_info)\n",
    "print(mutual_info.shape)"
   ]
  },
  {
   "cell_type": "code",
   "execution_count": null,
   "id": "5482f0a8-4ec5-431f-86d9-1f054c53db64",
   "metadata": {
    "tags": []
   },
   "outputs": [],
   "source": [
    "mutual_info = pd.Series(mutual_info)\n",
    "mutual_info.index = X_train.columns\n",
    "mutual_info.sort_values(ascending=False)\n",
    "mutual_info.sort_values(ascending=False).plot.bar(figsize=(15,5))"
   ]
  },
  {
   "cell_type": "markdown",
   "id": "f88168aa-4275-4c47-83f1-00d29fe03860",
   "metadata": {},
   "source": [
    "## Normalización/Estandarización"
   ]
  },
  {
   "cell_type": "code",
   "execution_count": null,
   "id": "df5eecb5-dc90-421a-8f4e-f6d428c11a4a",
   "metadata": {
    "tags": []
   },
   "outputs": [],
   "source": [
    "standardizer = preprocessing.StandardScaler() #TODO\n",
    "X_train_std = standardizer.fit_transform(X_train) #TODO\n",
    "print(X_train_std) "
   ]
  },
  {
   "cell_type": "markdown",
   "id": "4dc2a910-b11a-4572-8aa8-4ddb3f979c5c",
   "metadata": {},
   "source": [
    "## Validación y evaluación del modelo\n",
    "\n",
    ">Note: Evaluar el problema y utilizar un modelo basado en clasificación. En este caso recomendamos [DecisionTreeClassifier](https://scikit-learn.org/stable/modules/generated/sklearn.tree.DecisionTreeClassifier.html)"
   ]
  },
  {
   "cell_type": "code",
   "execution_count": null,
   "id": "5bff771d-e6c2-4ab6-800b-67a154229172",
   "metadata": {
    "tags": []
   },
   "outputs": [],
   "source": [
    "model= #TODO"
   ]
  },
  {
   "cell_type": "code",
   "execution_count": null,
   "id": "45bfcb57-9311-4bea-9cd8-33946d9bb31c",
   "metadata": {},
   "outputs": [],
   "source": [
    "\"\"\"\n",
    "En results se hace la validación cruzada\n",
    "\"\"\"\n",
    "\n",
    "results = cross_val_score() #TODO\n",
    "\n",
    "print(\"Resultados por bolsa: \", results)\n",
    "print(\"Accuracy (media +/- desv.): %0.4f +/- %0.4f\" % (results.mean(), results.std()))"
   ]
  },
  {
   "cell_type": "code",
   "execution_count": null,
   "id": "dd173e8c-ab6c-4f2c-bde6-4dd8512038b6",
   "metadata": {
    "tags": []
   },
   "outputs": [],
   "source": [
    "# Para este ejemplo utilizaremos el algoritmo clasificador DecisionTreeClassifier\n",
    "model.fit() #TODO\n",
    "plt.figure(figsize=(20,20))\n",
    "tree.plot_tree(model.fit(X_train,y_train))\n",
    "plt.savefig(\"results/output.png\")"
   ]
  },
  {
   "cell_type": "code",
   "execution_count": null,
   "id": "e87699ff-3ea4-479e-946a-ce441bdd7919",
   "metadata": {
    "tags": []
   },
   "outputs": [],
   "source": [
    "# Evaluación del modelo en test\n",
    "dt_predict = model.predict() #TODO\n",
    "print ('Accuracy:', accuracy_score(y_test, dt_predict)*100,\"%\")\n",
    "print ('Precision:', precision_score(y_test, dt_predict,average='weighted')*100,\"%\")\n",
    "print ('Recall:', recall_score(y_test, dt_predict,average='weighted')*100,\"%\")\n",
    "print ('F1 score:', f1_score(y_test, dt_predict,average='weighted')*100,\"%\")"
   ]
  }
 ],
 "metadata": {
  "kernelspec": {
   "display_name": "Python 3 (ipykernel)",
   "language": "python",
   "name": "python3"
  },
  "language_info": {
   "codemirror_mode": {
    "name": "ipython",
    "version": 3
   },
   "file_extension": ".py",
   "mimetype": "text/x-python",
   "name": "python",
   "nbconvert_exporter": "python",
   "pygments_lexer": "ipython3",
   "version": "3.10.12"
  }
 },
 "nbformat": 4,
 "nbformat_minor": 5
}
