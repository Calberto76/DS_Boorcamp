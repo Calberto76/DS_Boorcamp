{
 "cells": [
  {
   "cell_type": "markdown",
   "id": "e31f863f-12e6-4343-9647-e19691473be7",
   "metadata": {},
   "source": [
    "# Ejercicio\n",
    "\n",
    "Realizar las transformaciones básicas comentadas en clase sobre la imagen `img/google_logo.png`"
   ]
  },
  {
   "cell_type": "code",
   "execution_count": null,
   "id": "5306e1e5-aafb-40e9-bb93-8dc1c79f50f6",
   "metadata": {
    "tags": []
   },
   "outputs": [],
   "source": [
    "# READ AN IMAGE\n",
    "# pip install opencv-python\n",
    "import matplotlib.pyplot as plt\n",
    "import cv2\n",
    "import numpy as np\n",
    "import warnings\n",
    "warnings.filterwarnings(\"ignore\")\n",
    "\n",
    "img = #TODO\n",
    "print('Image dimensions: ', np.shape(img))"
   ]
  },
  {
   "cell_type": "code",
   "execution_count": null,
   "id": "809a49f5-4c5b-4ca6-9ad4-cc012312ef3b",
   "metadata": {
    "tags": []
   },
   "outputs": [],
   "source": [
    "plt.imshow(img, cmap='gray')\n",
    "plt.show()"
   ]
  },
  {
   "cell_type": "markdown",
   "id": "01eddd04-8483-43b4-9ee0-3e34cd276734",
   "metadata": {},
   "source": [
    "## Extraer por separado la imagen de grises de cada canal (B G R)"
   ]
  },
  {
   "cell_type": "code",
   "execution_count": null,
   "id": "b666d7e2-f806-441e-b77c-d8af0b776e3c",
   "metadata": {
    "tags": []
   },
   "outputs": [],
   "source": [
    "R = #TODO #Tercer Canal R\n",
    "G = #TODO #Segundo Canal G\n",
    "B = #TODO #Primer Canal B"
   ]
  },
  {
   "cell_type": "markdown",
   "id": "f0b7ec9d-d33d-43d8-b0be-5f5068ddb47b",
   "metadata": {},
   "source": [
    "## Visualizar los canales en un subplot"
   ]
  },
  {
   "cell_type": "code",
   "execution_count": null,
   "id": "179b23e8-d374-40a6-b964-5385d9a5d349",
   "metadata": {
    "tags": []
   },
   "outputs": [],
   "source": [
    "fig, ax = plt.subplots(1,3)\n",
    "ax[0].imshow(R, cmap='gray'), ax[0].set_title('Red')\n",
    "ax[1].imshow(G, cmap='gray'), ax[1].set_title('Green')\n",
    "ax[2].imshow(B, cmap='gray'), ax[2].set_title('Blue')\n",
    "plt.show()"
   ]
  },
  {
   "cell_type": "code",
   "execution_count": null,
   "id": "3621a5e6-47ae-499c-819e-704749dd843d",
   "metadata": {
    "tags": []
   },
   "outputs": [],
   "source": [
    "## Convertir BGR en RGB"
   ]
  },
  {
   "cell_type": "code",
   "execution_count": null,
   "id": "daf77680-3bcd-4ce9-a53d-d8a93ee7f89b",
   "metadata": {
    "tags": []
   },
   "outputs": [],
   "source": [
    "RGB_img = #TODO\n",
    "plt.imshow(RGB_img, cmap='gray')\n",
    "plt.show()"
   ]
  },
  {
   "cell_type": "markdown",
   "id": "50189a20-f130-419c-b311-414a1a1f5e63",
   "metadata": {},
   "source": [
    "## Conversiones del espacio de color RGB a CMYK\n",
    "Importar la imagen `img/cmyktiger.jpg` y realizar la conversión RGB a CMYK"
   ]
  },
  {
   "cell_type": "code",
   "execution_count": null,
   "id": "85cd9afb-4811-4b8c-99f9-836223c1e960",
   "metadata": {
    "tags": []
   },
   "outputs": [],
   "source": [
    "# RGB to CMYK\n",
    "import numpy as np\n",
    "#from skimage import io\n",
    "from skimage import io\n",
    "\n",
    "img = io.imread('img/cmyktiger.jpg')\n",
    "rgb = img.copy()\n",
    "rgb_p = rgb.astype('uint8')/255\n",
    "\n",
    "with np.errstate(invalid='ignore', divide='ignore'):\n",
    "    K = #TODO\n",
    "    # Extrae los canales de acuerdo con la ecuación del power point (RGB)\n",
    "    \n",
    "    C = #TODO   # C = (1 - R' - K) / (1-K) - Donde R' = img[:,:,0]/255\n",
    "    M = #TODO   # M = (1 - G' - K) / (1-K) - Donde G' = img[:,:,1]/255\n",
    "    Y = #TODO   # Y = (1 - B' - K) / (1-K) - Donde B' = img[:,:,2]/255\n",
    "\n",
    "CMYK = (np.dstack((C,M,Y,K)))\n",
    "C,M,Y,K = cv2.split(CMYK)\n",
    "\n",
    "fig, ax = plt.subplots(2,3)\n",
    "ax[0,0].imshow(img, cmap='gray'), ax[0,0].set_title('original')\n",
    "ax[0,1].imshow(CMYK.astype('uint8'), cmap='gray'), ax[0,1].set_title('CMYK')\n",
    "ax[0,2].imshow(C.astype('uint8'), cmap='gray'), ax[0,2].set_title('cyan')\n",
    "ax[1,0].imshow(M.astype('uint8'), cmap='gray'), ax[1,0].set_xlabel('magenta')\n",
    "ax[1,1].imshow(Y.astype('uint8'), cmap='gray'), ax[1,1].set_xlabel('yellow')\n",
    "ax[1,2].imshow(K.astype('uint8'), cmap='gray'), ax[1,2].set_xlabel('black')\n",
    "plt.show()"
   ]
  },
  {
   "cell_type": "markdown",
   "id": "8af009a5-71bb-4bd9-828a-ac56667f1c36",
   "metadata": {},
   "source": [
    "# Traslación, cropping, y rotación\n",
    "\n",
    "Sobre la misma imagen `img/cmyktiger.jpg` realizar traslación, cropping, y rotación"
   ]
  },
  {
   "cell_type": "code",
   "execution_count": null,
   "id": "b5f4dd88-da0c-44e2-9c37-c361f931f536",
   "metadata": {
    "tags": []
   },
   "outputs": [],
   "source": [
    "# Traslación\n",
    "rows, cols, ch = img.shape\n",
    " \n",
    "M = np.float32([[1,0,280],[0,1,-100]]) # Defino la matriz de transformación\n",
    "new_img = #TODO # Aplico la transformación\n",
    "\n",
    "figs, ax = plt.subplots(1,2)\n",
    "ax[0].imshow(img, cmap='gray'), ax[0].set_title('original')\n",
    "ax[1].imshow(new_img, cmap='gray'), ax[1].set_title('traslación')\n",
    "plt.show()"
   ]
  },
  {
   "cell_type": "code",
   "execution_count": null,
   "id": "0d8176f5-04ac-4cbb-82f5-2c94d68bd2bd",
   "metadata": {
    "tags": []
   },
   "outputs": [],
   "source": [
    "# CROPPING\n",
    "new_img = #TODO\n",
    "\n",
    "figs, ax = plt.subplots(1,2)\n",
    "ax[0].imshow(img, cmap='gray'), ax[0].set_title('original')\n",
    "ax[1].imshow(new_img, cmap='gray'), ax[1].set_title('crop')\n",
    "plt.show()"
   ]
  },
  {
   "cell_type": "code",
   "execution_count": null,
   "id": "61786357-518f-425f-a743-f690cb3c3a4d",
   "metadata": {
    "tags": []
   },
   "outputs": [],
   "source": [
    "# Rotación\n",
    "rows, cols, ch = img.shape\n",
    "\n",
    "M = #TODO # Defino la matriz de transformación\n",
    "new_img = #TODO # Aplico la transformación\n",
    "\n",
    "figs, ax = plt.subplots(1,2)\n",
    "ax[0].imshow(img, cmap='gray'), ax[0].set_title('original')\n",
    "ax[1].imshow(new_img, cmap='gray'), ax[1].set_title('rotación')\n",
    "plt.show()"
   ]
  }
 ],
 "metadata": {
  "kernelspec": {
   "display_name": "Python 3 (ipykernel)",
   "language": "python",
   "name": "python3"
  },
  "language_info": {
   "codemirror_mode": {
    "name": "ipython",
    "version": 3
   },
   "file_extension": ".py",
   "mimetype": "text/x-python",
   "name": "python",
   "nbconvert_exporter": "python",
   "pygments_lexer": "ipython3",
   "version": "3.10.12"
  }
 },
 "nbformat": 4,
 "nbformat_minor": 5
}
