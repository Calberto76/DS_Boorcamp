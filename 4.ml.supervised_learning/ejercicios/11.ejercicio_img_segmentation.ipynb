{
 "cells": [
  {
   "cell_type": "markdown",
   "id": "2aa44fa9-a87d-4a68-80f0-4994ec3fbd03",
   "metadata": {},
   "source": [
    "# EJERCICIO\n",
    "\n",
    "Utilizando los métodos de `segmentación de imágenes` visto en clase, aplicar las diferentes técnicas y evaluar los resultados."
   ]
  },
  {
   "cell_type": "code",
   "execution_count": null,
   "id": "e48f60e5-e059-4e6c-a6f2-ed1277c59df7",
   "metadata": {
    "tags": []
   },
   "outputs": [],
   "source": [
    "import matplotlib.pyplot as plt\n",
    "import cv2\n",
    "import numpy as np\n",
    "from scipy.ndimage.morphology import binary_fill_holes as bfh\n",
    "from skimage import io\n",
    "import warnings\n",
    "warnings.filterwarnings(\"ignore\")"
   ]
  },
  {
   "cell_type": "markdown",
   "id": "3f20df4e-ce44-4117-b706-fa8c7507314b",
   "metadata": {},
   "source": [
    "### SEGMENTACIÓN MEDIANTE THRESHOLDING"
   ]
  },
  {
   "cell_type": "code",
   "execution_count": null,
   "id": "c47f27af-2321-4aca-af98-b59bda759eff",
   "metadata": {
    "tags": []
   },
   "outputs": [],
   "source": [
    "# Carcar la imagen `img/color_picker.png`\n",
    "img = #TODO\n",
    "img_rgb = #TODO - Convertirla a RGB\n",
    "\n",
    "#TODO - Display"
   ]
  },
  {
   "cell_type": "code",
   "execution_count": null,
   "id": "14ef86bc-0724-4b92-b258-67f9654583b6",
   "metadata": {
    "tags": []
   },
   "outputs": [],
   "source": [
    "# Convertimos la imagen a escala de grises\n",
    "import numpy as np\n",
    "gray_img = #TODO - Pasarlo a escala de grises\n",
    "\n",
    "#TODO - Display"
   ]
  },
  {
   "cell_type": "code",
   "execution_count": null,
   "id": "197ea65d-3582-4e9e-bd79-b53cc4f4da83",
   "metadata": {
    "tags": []
   },
   "outputs": [],
   "source": [
    "hist = #TODO - Plotear histograma\n",
    "\n",
    "plt.plot(hist)\n",
    "plt.grid()\n",
    "plt.title('Histograma')\n",
    "plt.show()"
   ]
  },
  {
   "cell_type": "code",
   "execution_count": null,
   "id": "9eb62773-1512-430d-85a7-bbfb6a8f4990",
   "metadata": {
    "tags": []
   },
   "outputs": [],
   "source": [
    "# Fijamos el umbral en base al histograma anterior\n",
    "t = 200 # Definir un umbral de 100\n",
    "\n",
    "# TODO - Extreaemos la máscara binaria\n",
    "\n",
    "\n",
    "# TODO - Visualizamos para corroborar\n"
   ]
  },
  {
   "cell_type": "markdown",
   "id": "dcd9cd2c-0a26-4c0c-a428-5db8749c0442",
   "metadata": {},
   "source": [
    "### SEGMENTACIÓN UTILIZANDO EL MÉTODO `OTSU`"
   ]
  },
  {
   "cell_type": "code",
   "execution_count": null,
   "id": "003fb041-03fa-41c4-8ded-7dbbe5170cc2",
   "metadata": {
    "tags": []
   },
   "outputs": [],
   "source": [
    "# Fijamos el umbral con el método de OTSU\n",
    "t, mask = #TODO \n",
    "\n",
    "# #TODO - Visualizamos para corroborar que se obtiene el mismo resultado\n"
   ]
  },
  {
   "cell_type": "markdown",
   "id": "5965358d-6313-454f-985d-e78cedc7a1ec",
   "metadata": {
    "tags": []
   },
   "source": [
    "### SEGMENTACIÓN MEDIANTE CONVERSIONES DE COLOR"
   ]
  },
  {
   "cell_type": "code",
   "execution_count": null,
   "id": "5d2ce113-be0a-491c-9af3-9e101d4edbfa",
   "metadata": {
    "tags": []
   },
   "outputs": [],
   "source": [
    "# Imaginamos que queremos segmentar únicamente el círculo Negro\n",
    "img = #TODO\n",
    "img_rgb = #TODO - convertir a RGB\n",
    "\n",
    "#TODO - Display"
   ]
  },
  {
   "cell_type": "code",
   "execution_count": null,
   "id": "9cb29f9e-27d4-4d57-849e-2a45c2ecb5ec",
   "metadata": {
    "tags": []
   },
   "outputs": [],
   "source": [
    "def convert_to_CMYK(rgb_p):\n",
    "    with np.errstate(invalid='ignore', divide='ignore'):\n",
    "        K = 1 - np.max(rgb_p, axis=2)\n",
    "        C = (1-rgb_p[:,:,0] - K)/(1-K)\n",
    "        M = (1-rgb_p[:,:,1] - K)/(1-K)\n",
    "        Y = (1-rgb_p[:,:,2] - K)/(1-K)\n",
    "    CMYK = (np.dstack((C,M,Y,K)))\n",
    "    return CMYK"
   ]
  },
  {
   "cell_type": "code",
   "execution_count": null,
   "id": "b68fffc0-8813-4c06-8a42-3a17c8cc8396",
   "metadata": {
    "tags": []
   },
   "outputs": [],
   "source": [
    "# Extraer los colores secundarios\n",
    "rgb_p = img_rgb.astype('uint8')/255 \n",
    "CMYK = convert_to_CMYK(rgb_p)\n",
    "\n",
    "# Extraer los canales por separado\n",
    "C,M,Y,K = cv2.split(CMYK)\n",
    "K = #TODO\n",
    "\n",
    "# Calcular la máscara de la figura del rayo\n",
    "_, mask = cv2.threshold(K,0,1,cv2.THRESH_OTSU)\n",
    "\n",
    "t= #TODO - Umbral\n",
    "mask = K.copy()\n",
    "mask[mask<t] = 0\n",
    "\n",
    "# Visualizar la máscara\n",
    "plt.imshow(K, cmap='gray')\n",
    "plt.title('ROI segmentada')\n",
    "plt.show()"
   ]
  },
  {
   "cell_type": "markdown",
   "id": "55e5bbaa-b176-464e-8313-f89f9b26be44",
   "metadata": {},
   "source": [
    "### SEGMENTACIÓN SEMÁNTICA CON DETECCIÓN DE BORDES"
   ]
  },
  {
   "cell_type": "code",
   "execution_count": null,
   "id": "18430274-643f-440b-949e-0e7495ba4e55",
   "metadata": {
    "tags": []
   },
   "outputs": [],
   "source": [
    "# Importar la imagen `img/bunnies.png`\n",
    "\n",
    "img = #TODO\n",
    "img_rgb = #TODO - convertir a rgb\n",
    "\n",
    "plt.imshow(img_rgb)\n",
    "plt.title('Imagen original')\n",
    "plt.show()"
   ]
  },
  {
   "cell_type": "code",
   "execution_count": null,
   "id": "f7d8fc81-aa6a-401d-9231-ce1a893ff1b5",
   "metadata": {
    "tags": []
   },
   "outputs": [],
   "source": [
    "# Aplicamos un filtro gaussiano para emborronar las altas frecuencias\n",
    "img_gaus = #TODO - Aplicar filtro \n",
    "plt.imshow(img_gaus, cmap='gray')\n",
    "plt.show()"
   ]
  },
  {
   "cell_type": "code",
   "execution_count": null,
   "id": "3527a4d0-a94f-4c30-8451-9ebf340431e7",
   "metadata": {
    "tags": []
   },
   "outputs": [],
   "source": [
    "# Detección de bordes de Canny\n",
    "canny = #TODO # minValue and maxValue. Canny recomienda que minValue sea 3 veces mayor que maxValue\n",
    "\n",
    "kernel = #TODO\n",
    "canny = #TODO ## Me permite hacer más gruesos los bordes\n",
    "canny = #TODO ## Me permite hacer afinar los bordes\n",
    "\n",
    "plt.imshow(canny, cmap='gray')\n",
    "plt.show()"
   ]
  },
  {
   "cell_type": "code",
   "execution_count": null,
   "id": "026cd399-883f-4c89-9072-bca6fd34a9ff",
   "metadata": {
    "tags": []
   },
   "outputs": [],
   "source": [
    "bordes = canny.copy()\n",
    "filled_bordes = #TODO - Rellenar bordes\n",
    "\n",
    "plt.imshow(filled_bordes.astype('uint8'), cmap='gray')\n",
    "plt.title('cleaned lumen mask')\n",
    "plt.show()"
   ]
  }
 ],
 "metadata": {
  "kernelspec": {
   "display_name": "Python 3 (ipykernel)",
   "language": "python",
   "name": "python3"
  },
  "language_info": {
   "codemirror_mode": {
    "name": "ipython",
    "version": 3
   },
   "file_extension": ".py",
   "mimetype": "text/x-python",
   "name": "python",
   "nbconvert_exporter": "python",
   "pygments_lexer": "ipython3",
   "version": "3.10.12"
  }
 },
 "nbformat": 4,
 "nbformat_minor": 5
}
