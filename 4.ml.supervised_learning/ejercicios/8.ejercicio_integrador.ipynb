{
 "cells": [
  {
   "cell_type": "markdown",
   "id": "0c636b70-2c89-4bb1-88c4-36fdb6d1e0e9",
   "metadata": {},
   "source": [
    "# Ejercicio integrador\n",
    "\n",
    "El objetivo del siguiente ejercicio es aplicar los conocimientos obtenidos sobre los algoritmos más utilizados en aprendizaje supervisado.\n",
    "\n",
    "Para ello se les brinda un dataset al cual deberán realizar las transformaciones necesarias, definir la variable objetivo, tipo de problema (Regresión/Clasificación) y entrenar un modelo en base al problema.\n",
    "\n",
    "**Dataset**: `heart_2020.csv`"
   ]
  },
  {
   "cell_type": "markdown",
   "id": "962f4483-d2b3-4a5e-82df-b97ba4f023e7",
   "metadata": {},
   "source": [
    "## Importar Librerias"
   ]
  },
  {
   "cell_type": "code",
   "execution_count": null,
   "id": "c15957f5-365e-4939-aeed-2403e3380c98",
   "metadata": {
    "tags": []
   },
   "outputs": [],
   "source": [
    "import numpy as np\n",
    "import pandas as pd\n",
    "import matplotlib.pyplot as plt\n",
    "import seaborn as sns\n",
    "import warnings\n",
    "warnings.filterwarnings(\"ignore\")\n",
    "\n",
    "#TODO"
   ]
  },
  {
   "cell_type": "code",
   "execution_count": null,
   "id": "11be0e9c-6fe1-43b8-836d-39f1b1b56c3e",
   "metadata": {},
   "outputs": [],
   "source": []
  },
  {
   "cell_type": "code",
   "execution_count": null,
   "id": "2cf07bdd-3370-4caa-b525-0012b53eecc7",
   "metadata": {},
   "outputs": [],
   "source": []
  },
  {
   "cell_type": "markdown",
   "id": "2a9c25dc-896a-4876-aabd-ed66331b76cb",
   "metadata": {},
   "source": [
    "## Carga de datos"
   ]
  },
  {
   "cell_type": "code",
   "execution_count": null,
   "id": "e9660757-115c-450a-9052-d95203d76488",
   "metadata": {
    "tags": []
   },
   "outputs": [],
   "source": [
    "df=pd.read_csv() #TODO\n",
    "df.head()"
   ]
  },
  {
   "cell_type": "code",
   "execution_count": null,
   "id": "0b2ea735-3a74-4e7f-9824-30e37ce7aa94",
   "metadata": {},
   "outputs": [],
   "source": []
  },
  {
   "cell_type": "code",
   "execution_count": null,
   "id": "764e65b7-f97c-4e38-894d-58d6725f36c8",
   "metadata": {},
   "outputs": [],
   "source": []
  },
  {
   "cell_type": "markdown",
   "id": "21e9af32-16f1-4e47-92fa-a0488ed710d4",
   "metadata": {},
   "source": [
    "## Preparación y análisis de datos (EDA)"
   ]
  },
  {
   "cell_type": "code",
   "execution_count": null,
   "id": "b4423da5-39b1-43b5-b28d-fb659a014e17",
   "metadata": {},
   "outputs": [],
   "source": []
  },
  {
   "cell_type": "code",
   "execution_count": null,
   "id": "1b90af79-42b8-4de9-a3bd-a917fce3d0a6",
   "metadata": {},
   "outputs": [],
   "source": []
  },
  {
   "cell_type": "code",
   "execution_count": null,
   "id": "ae7a635a-687d-4e16-8a3a-d706d783ca89",
   "metadata": {},
   "outputs": [],
   "source": []
  },
  {
   "cell_type": "markdown",
   "id": "b59b8f7a-66ea-4bfb-a95f-5c50d91d295d",
   "metadata": {
    "tags": []
   },
   "source": [
    "## Data split"
   ]
  },
  {
   "cell_type": "code",
   "execution_count": null,
   "id": "21540ace-cb24-418d-9b31-22012307e15e",
   "metadata": {},
   "outputs": [],
   "source": []
  },
  {
   "cell_type": "code",
   "execution_count": null,
   "id": "9c53a61b-4c45-4b18-a838-4907217153ac",
   "metadata": {},
   "outputs": [],
   "source": []
  },
  {
   "cell_type": "code",
   "execution_count": null,
   "id": "d09b055a-72f9-4763-bc78-0f0573f474d3",
   "metadata": {},
   "outputs": [],
   "source": []
  },
  {
   "cell_type": "markdown",
   "id": "6595d1de-25f4-46a7-bae6-fdb8c81aeb31",
   "metadata": {},
   "source": [
    "## Selección de atributos"
   ]
  },
  {
   "cell_type": "code",
   "execution_count": null,
   "id": "f2bca906-d53b-4ef0-be51-ce6d75eba78e",
   "metadata": {},
   "outputs": [],
   "source": []
  },
  {
   "cell_type": "code",
   "execution_count": null,
   "id": "4c407d8d-098a-4c31-a1a0-084a32eb4a12",
   "metadata": {},
   "outputs": [],
   "source": []
  },
  {
   "cell_type": "code",
   "execution_count": null,
   "id": "c4dd6971-07a0-41c4-8f53-5a880e9204a4",
   "metadata": {},
   "outputs": [],
   "source": []
  },
  {
   "cell_type": "markdown",
   "id": "a53ee563-2057-4743-b046-bdeeeffbc68b",
   "metadata": {},
   "source": [
    "## Estandarización"
   ]
  },
  {
   "cell_type": "code",
   "execution_count": null,
   "id": "c807ab0e-bb52-4224-b177-63c5e850f947",
   "metadata": {},
   "outputs": [],
   "source": []
  },
  {
   "cell_type": "code",
   "execution_count": null,
   "id": "ceca78a6-9e1c-4a3f-a1a5-e5fef75bfb56",
   "metadata": {},
   "outputs": [],
   "source": []
  },
  {
   "cell_type": "code",
   "execution_count": null,
   "id": "17b6e9fb-e3a6-4f1e-bd58-443ab90de03f",
   "metadata": {},
   "outputs": [],
   "source": []
  },
  {
   "cell_type": "markdown",
   "id": "c03a8a38-03ef-443a-86c8-1a6635a91ce8",
   "metadata": {
    "tags": []
   },
   "source": [
    "## Cross-Validation"
   ]
  },
  {
   "cell_type": "code",
   "execution_count": null,
   "id": "a33cb93b-24ba-46d6-8aa7-e80cde893344",
   "metadata": {},
   "outputs": [],
   "source": []
  },
  {
   "cell_type": "code",
   "execution_count": null,
   "id": "ad779dff-e655-47d2-bac1-2006b2586d44",
   "metadata": {},
   "outputs": [],
   "source": []
  },
  {
   "cell_type": "code",
   "execution_count": null,
   "id": "e36dc299-a991-4ed1-9a1f-17f51cbf279c",
   "metadata": {},
   "outputs": [],
   "source": []
  },
  {
   "cell_type": "markdown",
   "id": "2139337b-6068-470c-a74d-c209345e061d",
   "metadata": {
    "tags": []
   },
   "source": [
    "## Entrenamiento modelo definitivo"
   ]
  },
  {
   "cell_type": "code",
   "execution_count": null,
   "id": "adf80e20-dd02-4ee9-ba7f-40255d35a537",
   "metadata": {},
   "outputs": [],
   "source": []
  },
  {
   "cell_type": "code",
   "execution_count": null,
   "id": "6be2feed-529a-4cf0-80df-cfef1858d490",
   "metadata": {},
   "outputs": [],
   "source": []
  },
  {
   "cell_type": "code",
   "execution_count": null,
   "id": "14a080d2-708d-4258-81bb-72cf51801476",
   "metadata": {},
   "outputs": [],
   "source": []
  },
  {
   "cell_type": "markdown",
   "id": "ed5e561e-974e-4d5a-a054-19e71122d1e4",
   "metadata": {
    "tags": []
   },
   "source": [
    "## Evaluación modelo"
   ]
  },
  {
   "cell_type": "code",
   "execution_count": null,
   "id": "cc231f73-0b62-42ac-b326-6c09369ec887",
   "metadata": {},
   "outputs": [],
   "source": []
  },
  {
   "cell_type": "code",
   "execution_count": null,
   "id": "16023b0d-fa11-457c-b803-aada6d6516cd",
   "metadata": {},
   "outputs": [],
   "source": []
  },
  {
   "cell_type": "code",
   "execution_count": null,
   "id": "e200aa09-3ff9-494f-9ebc-bc55afc0d898",
   "metadata": {},
   "outputs": [],
   "source": []
  }
 ],
 "metadata": {
  "kernelspec": {
   "display_name": "Python 3 (ipykernel)",
   "language": "python",
   "name": "python3"
  },
  "language_info": {
   "codemirror_mode": {
    "name": "ipython",
    "version": 3
   },
   "file_extension": ".py",
   "mimetype": "text/x-python",
   "name": "python",
   "nbconvert_exporter": "python",
   "pygments_lexer": "ipython3",
   "version": "3.10.12"
  }
 },
 "nbformat": 4,
 "nbformat_minor": 5
}
