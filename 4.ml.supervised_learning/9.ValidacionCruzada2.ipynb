{
 "cells": [
  {
   "cell_type": "markdown",
   "metadata": {},
   "source": [
    "## Ejemplo 2\n",
    "\n",
    "En el Programa a continuación mostramos un ejemplo de aplicación de la validación cruzada en el problema de clasificación del conjunto “iris” mediante el clasificador `DummyClassifier` introducido anteriormente."
   ]
  },
  {
   "cell_type": "code",
   "execution_count": null,
   "metadata": {
    "tags": []
   },
   "outputs": [],
   "source": [
    "import numpy as np\n",
    "from sklearn import datasets\n",
    "from sklearn.dummy import DummyClassifier\n",
    "from sklearn.model_selection import cross_val_score\n",
    "from sklearn.model_selection import KFold\n",
    "from sklearn.model_selection import train_test_split"
   ]
  },
  {
   "cell_type": "code",
   "execution_count": null,
   "metadata": {
    "tags": []
   },
   "outputs": [],
   "source": [
    "# Carga de datos.\n",
    "iris = datasets.load_iris()\n",
    "print(iris.target_names)"
   ]
  },
  {
   "cell_type": "code",
   "execution_count": null,
   "metadata": {
    "tags": []
   },
   "outputs": [],
   "source": [
    "# Mostrar características de la tabla de datos.\n",
    "print(\"Tabla de datos: %d instancias y %d atributos\" % (iris.data.shape[0], iris.data.shape[1]))\n",
    "print(\"Valores de la clase:\", set(iris.target))"
   ]
  },
  {
   "cell_type": "code",
   "execution_count": null,
   "metadata": {
    "tags": []
   },
   "outputs": [],
   "source": [
    "# Test: hold-out split 80-20%. PARTICIÓN EXTERNA\n",
    "X_train, X_test, y_train, y_test = train_test_split(iris.data, \n",
    "                                                    iris.target, \n",
    "                                                    test_size=0.2, \n",
    "                                                    random_state=42)\n",
    "\n",
    "valores_test, ocur_test = np.unique(y_test, return_counts=True)\n",
    "print('Test: ', 'clases:', valores_test, ' ocurrencias: ', ocur_test)\n",
    "\n",
    "valores_train, ocur_train = np.unique(y_train, return_counts=True)\n",
    "print('Entrenamiento: ', ' clases:', valores_train, '  ocurrencias:', ocur_train)"
   ]
  },
  {
   "cell_type": "code",
   "execution_count": null,
   "metadata": {
    "tags": []
   },
   "outputs": [],
   "source": [
    "print(X_train.shape)"
   ]
  },
  {
   "cell_type": "code",
   "execution_count": null,
   "metadata": {
    "tags": []
   },
   "outputs": [],
   "source": [
    "# Construcción del objeto que contiene el algoritmo de aprendizaje.\n",
    "clf = DummyClassifier(strategy='prior', random_state=42)"
   ]
  },
  {
   "cell_type": "markdown",
   "metadata": {},
   "source": [
    "Para realizar la validación cruzada de un algoritmo de aprendizaje supervisado, hemos usado en el Programa la función `cross_val_score()` del paquete `model_selection` de `scikit-learn`. Para ello, le indicamos a la función el objeto que implementa el algoritmo de predicción (en este caso `DummyClassifier`), la matriz de atributos de entrenamiento (iris.data), el vector de clases de entrenamiento (iris.target) y el objeto que implementa el algoritmo de validación (`KFold`, el mismo que hemos usado anteriormente en el Programa anterior). En este caso, hemos usado `K = 5` bolsas para la validación cruzada."
   ]
  },
  {
   "cell_type": "code",
   "execution_count": null,
   "metadata": {
    "tags": []
   },
   "outputs": [],
   "source": [
    "# Validación, entrenamiento y evaluación del algoritmo de aprendizaje.\n",
    "# en \"cv = KFold(n_splits=5)\" estamos haciendo un cross-validation INTERNO!\n",
    "\n",
    "\"\"\"\n",
    "En results se hace la validación cruzada\n",
    "\"\"\"\n",
    "\n",
    "results = cross_val_score(clf, \n",
    "                          X_train, \n",
    "                          y_train, \n",
    "                          cv = KFold(n_splits=5, shuffle = True, random_state = 42))\n",
    "\n",
    "print(\"Resultados por bolsa: \", results)\n",
    "print(\"Accuracy (media +/- desv.): %0.4f +/- %0.4f\" % (results.mean(), results.std()))"
   ]
  },
  {
   "cell_type": "code",
   "execution_count": null,
   "metadata": {
    "tags": []
   },
   "outputs": [],
   "source": [
    "# Una vez entrenado y validado el modelo, utilizamos todos los datos \n",
    "# de \"train\" y \"val\" para entrenar el modelo definitivo\n",
    "\n",
    "clf = clf.fit(X_train, y_train) # Entrenamiento\n",
    "test_results = clf.score(X_test, y_test) # Evaluación en test\n",
    "print('Exactitud en test: ', test_results*100, '%')"
   ]
  },
  {
   "cell_type": "markdown",
   "metadata": {},
   "source": [
    "## Ejemplo 3 con SVC"
   ]
  },
  {
   "cell_type": "code",
   "execution_count": null,
   "metadata": {
    "tags": []
   },
   "outputs": [],
   "source": [
    "# Veamos qué ocurre con un modelo más complejo que \"dummyclassifier\"\n",
    "# Hacemos el cross-validation interno para seleccionar los mejores hiperparámetros\n",
    "from sklearn.svm import SVC\n",
    "svc = SVC(C=0.5)\n",
    "results = cross_val_score(svc, \n",
    "                          X_train, \n",
    "                          y_train, \n",
    "                          cv = KFold(n_splits=5))\n",
    "\n",
    "print(\"Resultados por bolsa: \", results)\n",
    "print(\"Accuracy (media +/- desv.): %0.4f +/- %0.4f\" % (results.mean(), results.std()))"
   ]
  },
  {
   "cell_type": "code",
   "execution_count": null,
   "metadata": {
    "tags": []
   },
   "outputs": [],
   "source": [
    "# Una vez entrenado y validado el modelo para seleccionar los mejores hyperparameters, \n",
    "# utilizamos todos los datos de \"train\" y \"val\" para entrenar el modelo definitivo\n",
    "\n",
    "svc = svc.fit(X_train, y_train) # Entrenamiento\n",
    "test_results = svc.score(X_test, y_test) # Evaluación en test\n",
    "print('Exactitud en test: ', test_results*100, '%')\n",
    "\n",
    "# También podemos extraer las predicciones, en lugar de directamente la accuracy\n",
    "y_pred = svc.predict(X_test)\n",
    "print('Predicciones:     ', y_pred)\n",
    "print('Etiquetas reales: ', y_test)"
   ]
  }
 ],
 "metadata": {
  "kernelspec": {
   "display_name": "Python 3 (ipykernel)",
   "language": "python",
   "name": "python3"
  },
  "language_info": {
   "codemirror_mode": {
    "name": "ipython",
    "version": 3
   },
   "file_extension": ".py",
   "mimetype": "text/x-python",
   "name": "python",
   "nbconvert_exporter": "python",
   "pygments_lexer": "ipython3",
   "version": "3.10.12"
  }
 },
 "nbformat": 4,
 "nbformat_minor": 4
}
