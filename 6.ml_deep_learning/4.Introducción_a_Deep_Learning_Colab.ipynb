{
 "cells": [
  {
   "cell_type": "markdown",
   "metadata": {
    "id": "e-Xr73DZ8CGE"
   },
   "source": [
    "## **NUESTRA PRIMERA RED NEURONAL: MNIST DATASET**"
   ]
  },
  {
   "cell_type": "code",
   "execution_count": null,
   "metadata": {
    "id": "AMjhP1vDde1e"
   },
   "outputs": [],
   "source": [
    "!pip freeze"
   ]
  },
  {
   "cell_type": "markdown",
   "metadata": {
    "id": "BGr4or3pd8Ql"
   },
   "source": [
    "Hola voy a ejecutar el comando ```!pip freeze``` para cotillear a Google Colab"
   ]
  },
  {
   "cell_type": "code",
   "execution_count": 1,
   "metadata": {
    "colab": {
     "base_uri": "https://localhost:8080/",
     "height": 36
    },
    "id": "76L_IBAfwr5y",
    "outputId": "ab5e53d6-cc93-46d4-bfde-1cf3fac6de46"
   },
   "outputs": [
    {
     "data": {
      "application/vnd.google.colaboratory.intrinsic+json": {
       "type": "string"
      },
      "text/plain": [
       "'2.9.2'"
      ]
     },
     "execution_count": 1,
     "metadata": {},
     "output_type": "execute_result"
    }
   ],
   "source": [
    "#Importemos TensorFlow 2.X y Numpy\n",
    "import numpy as np\n",
    "import tensorflow as tf\n",
    "tf.__version__"
   ]
  },
  {
   "cell_type": "markdown",
   "metadata": {
    "id": "Cm6TBi8k8pnq"
   },
   "source": [
    "#### **- Cargando el conjunto de datos**"
   ]
  },
  {
   "cell_type": "code",
   "execution_count": 8,
   "metadata": {
    "colab": {
     "base_uri": "https://localhost:8080/"
    },
    "id": "Q97EgDoewMWu",
    "outputId": "01983a59-a19c-4595-cc82-f88bc04d7664"
   },
   "outputs": [
    {
     "name": "stdout",
     "output_type": "stream",
     "text": [
      "(60000, 28, 28)\n",
      "(60000,)\n",
      "(10000, 28, 28)\n",
      "(10000,)\n"
     ]
    }
   ],
   "source": [
    "# Importamos el dataset MNIST y cargamos los datos\n",
    "mnist = tf.keras.datasets.mnist\n",
    "(x_train, y_train), (x_test, y_test) = mnist.load_data()\n",
    "print(x_train.shape)\n",
    "print(y_train.shape)\n",
    "print(x_test.shape)\n",
    "print(y_test.shape)"
   ]
  },
  {
   "cell_type": "markdown",
   "metadata": {
    "id": "UHWTjTJe80h7"
   },
   "source": [
    "#### **- Inspeccionando el conjunto de datos**"
   ]
  },
  {
   "cell_type": "code",
   "execution_count": 9,
   "metadata": {
    "colab": {
     "base_uri": "https://localhost:8080/",
     "height": 809
    },
    "id": "yQydjXExS1hI",
    "outputId": "5efd2cdf-da71-4d2f-a600-ba12d1014bcc"
   },
   "outputs": [
    {
     "data": {
      "image/png": "[encoded data removed]",
      "text/plain": [
       "<Figure size 432x288 with 1 Axes>"
      ]
     },
     "metadata": {
      "needs_background": "light"
     },
     "output_type": "display_data"
    },
    {
     "data": {
      "image/png": "[encoded data removed]",
      "text/plain": [
       "<Figure size 432x288 with 1 Axes>"
      ]
     },
     "metadata": {
      "needs_background": "light"
     },
     "output_type": "display_data"
    },
    {
     "data": {
      "image/png": "[encoded data removed]",
      "text/plain": [
       "<Figure size 432x288 with 1 Axes>"
      ]
     },
     "metadata": {
      "needs_background": "light"
     },
     "output_type": "display_data"
    }
   ],
   "source": [
    "import matplotlib.pyplot as plt\n",
    "# Función auxiliar para visualizar datos de entrenamiento de manera aleatoria\n",
    "def display_digit(num):\n",
    "  # Seleccionar la imagen num de mnist.train.images y hacer un reshape al tamaño de la imagen\n",
    "  image = x_train[num,:,:] \n",
    "  # Seleccionar el target num de mnist.train.labels\n",
    "  label = y_train[num] \n",
    "  # Mostrar\n",
    "  plt.title('Example: %d  Label: %d' % (num, label))\n",
    "  plt.imshow(image, cmap=plt.get_cmap('gray_r'))\n",
    "  plt.show()\n",
    "\n",
    "# Mostramos algunos ejemplos\n",
    "display_digit(np.random.randint(0, x_train.shape[0]))\n",
    "display_digit(np.random.randint(0, x_train.shape[0]))\n",
    "display_digit(np.random.randint(0, x_train.shape[0]))"
   ]
  },
  {
   "cell_type": "markdown",
   "metadata": {
    "id": "meo3FjAr85We"
   },
   "source": [
    "#### **- Acondicionando el conjunto de datos**"
   ]
  },
  {
   "cell_type": "code",
   "execution_count": 4,
   "metadata": {
    "colab": {
     "base_uri": "https://localhost:8080/"
    },
    "id": "dgSOya1_8rsu",
    "outputId": "11484be5-45d2-4c19-c872-1761960b183f"
   },
   "outputs": [
    {
     "name": "stdout",
     "output_type": "stream",
     "text": [
      "4\n"
     ]
    }
   ],
   "source": [
    "print(y_train[25555])"
   ]
  },
  {
   "cell_type": "code",
   "execution_count": 5,
   "metadata": {
    "colab": {
     "base_uri": "https://localhost:8080/"
    },
    "id": "PrtVcOxow_JA",
    "outputId": "7c0e654f-4916-4b4b-e393-21eed1cc765c"
   },
   "outputs": [
    {
     "name": "stdout",
     "output_type": "stream",
     "text": [
      "(60000, 10)\n",
      "(54000, 10)\n"
     ]
    }
   ],
   "source": [
    "# Pre-procesado obligatorio cuando trabajo con redes neuronales\n",
    "from tensorflow.keras.utils import to_categorical\n",
    "from sklearn.model_selection import train_test_split\n",
    "\n",
    "x_train, x_te = x_train / 255.0, x_test / 255.0 #Cambio al rango 0-1 -> Disminuyo CC\n",
    "y_train = to_categorical(y_train, num_classes=10) #One-hot encoding para minimizar error\n",
    "print(y_train.shape)\n",
    "y_te = to_categorical(y_test, num_classes=10)\n",
    "x_tr, x_val, y_tr, y_val = train_test_split(x_train, y_train, test_size=0.1, random_state=42) # 3 subconjuntos es de vital importancia\n",
    "print(y_tr.shape)\n",
    "# print(y_tr[0])"
   ]
  },
  {
   "cell_type": "code",
   "execution_count": null,
   "metadata": {
    "colab": {
     "base_uri": "https://localhost:8080/"
    },
    "id": "erZKA-oWj85E",
    "outputId": "2eead58c-cd80-4049-85d1-b60890c325aa"
   },
   "outputs": [
    {
     "name": "stdout",
     "output_type": "stream",
     "text": [
      "[0. 0. 0. 0. 0. 1. 0. 0. 0. 0.]\n"
     ]
    }
   ],
   "source": [
    "print(y_tr[36])"
   ]
  },
  {
   "cell_type": "code",
   "execution_count": null,
   "metadata": {
    "colab": {
     "base_uri": "https://localhost:8080/"
    },
    "id": "q010WRGbLI5P",
    "outputId": "878edde6-5b6d-486e-ed13-4f5b4a2b8462"
   },
   "outputs": [
    {
     "name": "stdout",
     "output_type": "stream",
     "text": [
      "5\n"
     ]
    }
   ],
   "source": [
    "print(y_tr[36].argmax(axis=0))"
   ]
  },
  {
   "cell_type": "markdown",
   "metadata": {
    "id": "YBO56FZh89P3"
   },
   "source": [
    "#### **- Creando la topología de Red Neuronal (MLP) y entrenándola**"
   ]
  },
  {
   "cell_type": "code",
   "execution_count": 11,
   "metadata": {
    "id": "7O8gSDXgyo4-"
   },
   "outputs": [],
   "source": [
    "# Voy a necesitar importar una serie de modulos para programar mi red neuronal\n",
    "from tensorflow.keras.models import Sequential\n",
    "from tensorflow.keras.layers import Dense, Flatten\n",
    "# Vamos a codificar la topología de nuestra primera red neuronal!!!\n",
    "model = Sequential()\n",
    "model.add(Flatten(input_shape=(28,28)))#Capa de entrada de 784\n",
    "model.add(Dense(512, input_shape=(28*28,), activation=\"relu\")) #Al haber aplanado nos queda un vector de 784\n",
    "model.add(Dense(10, activation=\"softmax\")) #Capa salida -> Mismo número de neuronas que de clases objetivo\n",
    "\n",
    "# Ahí tenemos nuestro primer MLP con una única capa oculta de 512 neuronas"
   ]
  },
  {
   "cell_type": "code",
   "execution_count": 12,
   "metadata": {
    "id": "y0x4icp30SGE"
   },
   "outputs": [],
   "source": [
    "#Traigamos nuestro optimizador\n",
    "from tensorflow.keras.optimizers import SGD\n",
    "# Ahora que tengo definida la arquitectura, la compilo\n",
    "model.compile(loss=\"categorical_crossentropy\", optimizer=SGD(0.005), metrics=[\"accuracy\"]) #0.005 es el LR"
   ]
  },
  {
   "cell_type": "code",
   "execution_count": 16,
   "metadata": {
    "colab": {
     "base_uri": "https://localhost:8080/"
    },
    "id": "EnqLK3MIig_8",
    "outputId": "5715b50c-c1d0-456a-c1a5-3029a23eca61"
   },
   "outputs": [
    {
     "name": "stdout",
     "output_type": "stream",
     "text": [
      "Model: \"sequential_1\"\n",
      "_________________________________________________________________\n",
      " Layer (type)                Output Shape              Param #   \n",
      "=================================================================\n",
      " flatten_1 (Flatten)         (None, 784)               0         \n",
      "                                                                 \n",
      " dense (Dense)               (None, 512)               401920    \n",
      "                                                                 \n",
      " dense_1 (Dense)             (None, 10)                5130      \n",
      "                                                                 \n",
      "=================================================================\n",
      "Total params: 407,050\n",
      "Trainable params: 407,050\n",
      "Non-trainable params: 0\n",
      "_________________________________________________________________\n",
      "None\n"
     ]
    }
   ],
   "source": [
    "print(model.summary())"
   ]
  },
  {
   "cell_type": "code",
   "execution_count": 13,
   "metadata": {
    "colab": {
     "base_uri": "https://localhost:8080/"
    },
    "id": "iSWwUUWM1W7a",
    "outputId": "328930fd-e3cd-4b3d-e7f3-d80231dbc454"
   },
   "outputs": [
    {
     "name": "stdout",
     "output_type": "stream",
     "text": [
      "[INFO]: Entrenando red neuronal...\n",
      "Epoch 1/50\n",
      "422/422 [==============================] - 4s 3ms/step - loss: 1.4732 - accuracy: 0.6859 - val_loss: 0.9735 - val_accuracy: 0.8155\n",
      "Epoch 2/50\n",
      "422/422 [==============================] - 1s 3ms/step - loss: 0.7800 - accuracy: 0.8410 - val_loss: 0.6537 - val_accuracy: 0.8572\n",
      "Epoch 3/50\n",
      "422/422 [==============================] - 1s 3ms/step - loss: 0.5854 - accuracy: 0.8648 - val_loss: 0.5334 - val_accuracy: 0.8723\n",
      "Epoch 4/50\n",
      "422/422 [==============================] - 2s 4ms/step - loss: 0.4996 - accuracy: 0.8769 - val_loss: 0.4698 - val_accuracy: 0.8840\n",
      "Epoch 5/50\n",
      "422/422 [==============================] - 2s 4ms/step - loss: 0.4505 - accuracy: 0.8850 - val_loss: 0.4303 - val_accuracy: 0.8897\n",
      "Epoch 6/50\n",
      "422/422 [==============================] - 2s 4ms/step - loss: 0.4180 - accuracy: 0.8908 - val_loss: 0.4025 - val_accuracy: 0.8940\n",
      "Epoch 7/50\n",
      "422/422 [==============================] - 1s 3ms/step - loss: 0.3945 - accuracy: 0.8959 - val_loss: 0.3820 - val_accuracy: 0.8970\n",
      "Epoch 8/50\n",
      "422/422 [==============================] - 1s 3ms/step - loss: 0.3765 - accuracy: 0.8994 - val_loss: 0.3662 - val_accuracy: 0.8988\n",
      "Epoch 9/50\n",
      "422/422 [==============================] - 1s 3ms/step - loss: 0.3619 - accuracy: 0.9021 - val_loss: 0.3528 - val_accuracy: 0.9033\n",
      "Epoch 10/50\n",
      "422/422 [==============================] - 1s 3ms/step - loss: 0.3499 - accuracy: 0.9047 - val_loss: 0.3417 - val_accuracy: 0.9072\n",
      "Epoch 11/50\n",
      "422/422 [==============================] - 1s 3ms/step - loss: 0.3396 - accuracy: 0.9068 - val_loss: 0.3315 - val_accuracy: 0.9092\n",
      "Epoch 12/50\n",
      "422/422 [==============================] - 1s 3ms/step - loss: 0.3306 - accuracy: 0.9089 - val_loss: 0.3229 - val_accuracy: 0.9115\n",
      "Epoch 13/50\n",
      "422/422 [==============================] - 1s 3ms/step - loss: 0.3225 - accuracy: 0.9106 - val_loss: 0.3155 - val_accuracy: 0.9133\n",
      "Epoch 14/50\n",
      "422/422 [==============================] - 1s 3ms/step - loss: 0.3153 - accuracy: 0.9126 - val_loss: 0.3093 - val_accuracy: 0.9153\n",
      "Epoch 15/50\n",
      "422/422 [==============================] - 1s 3ms/step - loss: 0.3087 - accuracy: 0.9142 - val_loss: 0.3028 - val_accuracy: 0.9172\n",
      "Epoch 16/50\n",
      "422/422 [==============================] - 1s 3ms/step - loss: 0.3026 - accuracy: 0.9157 - val_loss: 0.2969 - val_accuracy: 0.9183\n",
      "Epoch 17/50\n",
      "422/422 [==============================] - 1s 3ms/step - loss: 0.2969 - accuracy: 0.9173 - val_loss: 0.2915 - val_accuracy: 0.9198\n",
      "Epoch 18/50\n",
      "422/422 [==============================] - 1s 3ms/step - loss: 0.2916 - accuracy: 0.9192 - val_loss: 0.2865 - val_accuracy: 0.9200\n",
      "Epoch 19/50\n",
      "422/422 [==============================] - 1s 3ms/step - loss: 0.2867 - accuracy: 0.9200 - val_loss: 0.2819 - val_accuracy: 0.9227\n",
      "Epoch 20/50\n",
      "422/422 [==============================] - 1s 3ms/step - loss: 0.2819 - accuracy: 0.9214 - val_loss: 0.2776 - val_accuracy: 0.9232\n",
      "Epoch 21/50\n",
      "422/422 [==============================] - 1s 3ms/step - loss: 0.2775 - accuracy: 0.9229 - val_loss: 0.2733 - val_accuracy: 0.9225\n",
      "Epoch 22/50\n",
      "422/422 [==============================] - 1s 3ms/step - loss: 0.2732 - accuracy: 0.9238 - val_loss: 0.2692 - val_accuracy: 0.9248\n",
      "Epoch 23/50\n",
      "422/422 [==============================] - 1s 3ms/step - loss: 0.2691 - accuracy: 0.9252 - val_loss: 0.2655 - val_accuracy: 0.9258\n",
      "Epoch 24/50\n",
      "422/422 [==============================] - 1s 3ms/step - loss: 0.2652 - accuracy: 0.9261 - val_loss: 0.2615 - val_accuracy: 0.9268\n",
      "Epoch 25/50\n",
      "422/422 [==============================] - 1s 3ms/step - loss: 0.2614 - accuracy: 0.9270 - val_loss: 0.2579 - val_accuracy: 0.9290\n",
      "Epoch 26/50\n",
      "422/422 [==============================] - 1s 3ms/step - loss: 0.2577 - accuracy: 0.9282 - val_loss: 0.2545 - val_accuracy: 0.9292\n",
      "Epoch 27/50\n",
      "422/422 [==============================] - 1s 3ms/step - loss: 0.2543 - accuracy: 0.9294 - val_loss: 0.2516 - val_accuracy: 0.9310\n",
      "Epoch 28/50\n",
      "422/422 [==============================] - 1s 3ms/step - loss: 0.2509 - accuracy: 0.9306 - val_loss: 0.2483 - val_accuracy: 0.9325\n",
      "Epoch 29/50\n",
      "422/422 [==============================] - 1s 3ms/step - loss: 0.2475 - accuracy: 0.9317 - val_loss: 0.2452 - val_accuracy: 0.9335\n",
      "Epoch 30/50\n",
      "422/422 [==============================] - 1s 3ms/step - loss: 0.2444 - accuracy: 0.9324 - val_loss: 0.2427 - val_accuracy: 0.9330\n",
      "Epoch 31/50\n",
      "422/422 [==============================] - 1s 3ms/step - loss: 0.2413 - accuracy: 0.9337 - val_loss: 0.2393 - val_accuracy: 0.9343\n",
      "Epoch 32/50\n",
      "422/422 [==============================] - 1s 3ms/step - loss: 0.2383 - accuracy: 0.9345 - val_loss: 0.2368 - val_accuracy: 0.9358\n",
      "Epoch 33/50\n",
      "422/422 [==============================] - 1s 3ms/step - loss: 0.2354 - accuracy: 0.9352 - val_loss: 0.2342 - val_accuracy: 0.9357\n",
      "Epoch 34/50\n",
      "422/422 [==============================] - 1s 3ms/step - loss: 0.2326 - accuracy: 0.9357 - val_loss: 0.2317 - val_accuracy: 0.9370\n",
      "Epoch 35/50\n",
      "422/422 [==============================] - 1s 3ms/step - loss: 0.2299 - accuracy: 0.9365 - val_loss: 0.2289 - val_accuracy: 0.9378\n",
      "Epoch 36/50\n",
      "422/422 [==============================] - 1s 3ms/step - loss: 0.2273 - accuracy: 0.9371 - val_loss: 0.2265 - val_accuracy: 0.9385\n",
      "Epoch 37/50\n",
      "422/422 [==============================] - 1s 3ms/step - loss: 0.2246 - accuracy: 0.9382 - val_loss: 0.2245 - val_accuracy: 0.9393\n",
      "Epoch 38/50\n",
      "422/422 [==============================] - 1s 3ms/step - loss: 0.2221 - accuracy: 0.9383 - val_loss: 0.2219 - val_accuracy: 0.9397\n",
      "Epoch 39/50\n",
      "422/422 [==============================] - 1s 3ms/step - loss: 0.2197 - accuracy: 0.9392 - val_loss: 0.2201 - val_accuracy: 0.9407\n",
      "Epoch 40/50\n",
      "422/422 [==============================] - 1s 3ms/step - loss: 0.2173 - accuracy: 0.9399 - val_loss: 0.2174 - val_accuracy: 0.9402\n",
      "Epoch 41/50\n",
      "422/422 [==============================] - 1s 3ms/step - loss: 0.2149 - accuracy: 0.9406 - val_loss: 0.2149 - val_accuracy: 0.9415\n",
      "Epoch 42/50\n",
      "422/422 [==============================] - 1s 3ms/step - loss: 0.2126 - accuracy: 0.9414 - val_loss: 0.2134 - val_accuracy: 0.9423\n",
      "Epoch 43/50\n",
      "422/422 [==============================] - 2s 4ms/step - loss: 0.2104 - accuracy: 0.9422 - val_loss: 0.2111 - val_accuracy: 0.9427\n",
      "Epoch 44/50\n",
      "422/422 [==============================] - 1s 3ms/step - loss: 0.2082 - accuracy: 0.9426 - val_loss: 0.2089 - val_accuracy: 0.9427\n",
      "Epoch 45/50\n",
      "422/422 [==============================] - 1s 3ms/step - loss: 0.2061 - accuracy: 0.9435 - val_loss: 0.2071 - val_accuracy: 0.9440\n",
      "Epoch 46/50\n",
      "422/422 [==============================] - 1s 3ms/step - loss: 0.2040 - accuracy: 0.9442 - val_loss: 0.2055 - val_accuracy: 0.9442\n",
      "Epoch 47/50\n",
      "422/422 [==============================] - 1s 3ms/step - loss: 0.2020 - accuracy: 0.9444 - val_loss: 0.2033 - val_accuracy: 0.9448\n",
      "Epoch 48/50\n",
      "422/422 [==============================] - 1s 3ms/step - loss: 0.2000 - accuracy: 0.9451 - val_loss: 0.2016 - val_accuracy: 0.9457\n",
      "Epoch 49/50\n",
      "422/422 [==============================] - 2s 4ms/step - loss: 0.1980 - accuracy: 0.9452 - val_loss: 0.2000 - val_accuracy: 0.9463\n",
      "Epoch 50/50\n",
      "422/422 [==============================] - 2s 4ms/step - loss: 0.1961 - accuracy: 0.9459 - val_loss: 0.1982 - val_accuracy: 0.9478\n"
     ]
    }
   ],
   "source": [
    "# Por fin podemos entrenar nuestra primera red neuronal\n",
    "print(\"[INFO]: Entrenando red neuronal...\")\n",
    "H = model.fit(x_tr, y_tr, validation_data=(x_val, y_val), epochs=50, batch_size=128)"
   ]
  },
  {
   "cell_type": "markdown",
   "metadata": {
    "id": "EtR8fpxq9JRG"
   },
   "source": [
    "#### **- Observando el proceso de entrenamiento para tomar decisiones**"
   ]
  },
  {
   "cell_type": "code",
   "execution_count": 14,
   "metadata": {
    "colab": {
     "base_uri": "https://localhost:8080/",
     "height": 317
    },
    "id": "R7OoJts-122A",
    "outputId": "28f1fe1e-ee6f-4d35-c34c-9235d57fd09e"
   },
   "outputs": [
    {
     "data": {
      "text/plain": [
       "<matplotlib.legend.Legend at 0x7f7952301e20>"
      ]
     },
     "execution_count": 14,
     "metadata": {},
     "output_type": "execute_result"
    },
    {
     "data": {
      "image/png": "[encoded data removed]",
      "text/plain": [
       "<Figure size 432x288 with 1 Axes>"
      ]
     },
     "metadata": {},
     "output_type": "display_data"
    }
   ],
   "source": [
    "# Muestro gráfica de accuracy y losses\n",
    "plt.style.use(\"ggplot\")\n",
    "plt.figure()\n",
    "plt.plot(np.arange(0, 50), H.history[\"loss\"], label=\"train_loss\")\n",
    "plt.plot(np.arange(0, 50), H.history[\"val_loss\"], label=\"val_loss\")\n",
    "plt.plot(np.arange(0, 50), H.history[\"accuracy\"], label=\"train_acc\")\n",
    "plt.plot(np.arange(0, 50), H.history[\"val_accuracy\"], label=\"val_acc\")\n",
    "plt.title(\"Training Loss and Accuracy\")\n",
    "plt.xlabel(\"Epoch #\")\n",
    "plt.ylabel(\"Loss/Accuracy\")\n",
    "plt.legend()"
   ]
  },
  {
   "cell_type": "markdown",
   "metadata": {
    "id": "7ll4EzHI9Of5"
   },
   "source": [
    "#### **- Probando el conjunto de datos en el subset de test y evaluando el performance del modelo**"
   ]
  },
  {
   "cell_type": "code",
   "execution_count": 17,
   "metadata": {
    "colab": {
     "base_uri": "https://localhost:8080/"
    },
    "id": "7J38sfBN742h",
    "outputId": "aa290db6-36ec-49b8-a8fc-d3cf9ddc03dc"
   },
   "outputs": [
    {
     "name": "stdout",
     "output_type": "stream",
     "text": [
      "[INFO]: Evaluando red neuronal...\n",
      "79/79 [==============================] - 0s 2ms/step\n",
      "[0. 0. 0. 0. 0. 0. 0. 1. 0. 0.]\n",
      "[9.99657132e-05 1.17608174e-07 3.63813015e-04 1.82715617e-03\n",
      " 1.21794949e-06 8.13510342e-05 7.55782352e-08 9.97194886e-01\n",
      " 2.50220255e-05 4.06237843e-04]\n",
      "              precision    recall  f1-score   support\n",
      "\n",
      "           0       0.96      0.98      0.97       980\n",
      "           1       0.98      0.98      0.98      1135\n",
      "           2       0.95      0.94      0.94      1032\n",
      "           3       0.92      0.95      0.94      1010\n",
      "           4       0.94      0.95      0.95       982\n",
      "           5       0.95      0.92      0.93       892\n",
      "           6       0.95      0.95      0.95       958\n",
      "           7       0.95      0.93      0.94      1028\n",
      "           8       0.93      0.92      0.92       974\n",
      "           9       0.94      0.92      0.93      1009\n",
      "\n",
      "    accuracy                           0.95     10000\n",
      "   macro avg       0.94      0.94      0.94     10000\n",
      "weighted avg       0.95      0.95      0.95     10000\n",
      "\n"
     ]
    }
   ],
   "source": [
    "from sklearn.metrics import classification_report\n",
    "# Evaluando el modelo de predicción con las imágenes de test\n",
    "print(\"[INFO]: Evaluando red neuronal...\")\n",
    "predictions = model.predict(x_te, batch_size=128)\n",
    "print(y_te[0])\n",
    "print(predictions[0])\n",
    "print(classification_report(y_te.argmax(axis=1), predictions.argmax(axis=1)))\n",
    "\n",
    "\"\"\"\n",
    "El support me dice el número de muestras por número\n",
    "\"\"\""
   ]
  },
  {
   "cell_type": "markdown",
   "metadata": {
    "id": "zQ5iYaP4-TdJ"
   },
   "source": [
    "--------------------------------------------------------------------------"
   ]
  },
  {
   "cell_type": "code",
   "execution_count": 18,
   "metadata": {
    "colab": {
     "base_uri": "https://localhost:8080/"
    },
    "id": "rnQtqf2Pk7MT",
    "outputId": "0d416c8c-a8bf-49d7-fca8-06779c9afae4"
   },
   "outputs": [
    {
     "data": {
      "text/plain": [
       "array([3.5345631e-05, 3.8234140e-07, 4.5966415e-05, 9.9919528e-01,\n",
       "       6.9938132e-08, 5.9014617e-04, 1.8787725e-08, 2.3520126e-07,\n",
       "       1.2863269e-04, 3.9568522e-06], dtype=float32)"
      ]
     },
     "execution_count": 18,
     "metadata": {},
     "output_type": "execute_result"
    }
   ],
   "source": [
    "predictions[5555]"
   ]
  },
  {
   "cell_type": "code",
   "execution_count": 19,
   "metadata": {
    "colab": {
     "base_uri": "https://localhost:8080/"
    },
    "id": "fxJ7IzJHlB6k",
    "outputId": "28ef6892-7809-4314-c3a0-8737cc2a6797"
   },
   "outputs": [
    {
     "data": {
      "text/plain": [
       "3"
      ]
     },
     "execution_count": 19,
     "metadata": {},
     "output_type": "execute_result"
    }
   ],
   "source": [
    "predictions[5555].argmax(axis=0)"
   ]
  },
  {
   "cell_type": "code",
   "execution_count": 20,
   "metadata": {
    "colab": {
     "base_uri": "https://localhost:8080/"
    },
    "id": "FG8WLGC9lNHN",
    "outputId": "50925680-f9c1-40a9-e483-4fd1335ada53"
   },
   "outputs": [
    {
     "data": {
      "text/plain": [
       "3"
      ]
     },
     "execution_count": 20,
     "metadata": {},
     "output_type": "execute_result"
    }
   ],
   "source": [
    "y_te[5555].argmax(axis=0)"
   ]
  },
  {
   "cell_type": "markdown",
   "metadata": {
    "id": "gkAfYEmB-KGU"
   },
   "source": [
    "## **MLP APLICADO A TEXTO: EJEMPLO REUTERS**"
   ]
  },
  {
   "cell_type": "markdown",
   "metadata": {
    "id": "rtdAIq1JQPNA"
   },
   "source": [
    "#### **- Cargando el conjunto de datos**"
   ]
  },
  {
   "cell_type": "code",
   "execution_count": 21,
   "metadata": {
    "colab": {
     "base_uri": "https://localhost:8080/"
    },
    "id": "2mHvSYFm-Sp_",
    "outputId": "652db28a-6cc5-412b-ce8e-1b72b05142ce"
   },
   "outputs": [
    {
     "name": "stdout",
     "output_type": "stream",
     "text": [
      "Downloading data from https://storage.googleapis.com/tensorflow/tf-keras-datasets/reuters.npz\n",
      "2110848/2110848 [==============================] - 0s 0us/step\n",
      "(8982,)\n",
      "(8982,)\n",
      "(2246,)\n",
      "(2246,)\n"
     ]
    }
   ],
   "source": [
    "import numpy as np\n",
    "import tensorflow as tf\n",
    "# Importamos el dataset REUTERS y cargamos los datos\n",
    "reuters = tf.keras.datasets.reuters\n",
    "WORD_LIMIT = 10000\n",
    "(training_data, training_labels), (testing_data, testing_labels) = reuters.load_data(num_words=WORD_LIMIT)\n",
    "print(training_data.shape)\n",
    "print(training_labels.shape)\n",
    "print(testing_data.shape)\n",
    "print(testing_labels.shape)"
   ]
  },
  {
   "cell_type": "markdown",
   "metadata": {
    "id": "426afMQqQUxn"
   },
   "source": [
    "#### **- Inspeccionando el conjunto de datos**"
   ]
  },
  {
   "cell_type": "code",
   "execution_count": null,
   "metadata": {
    "colab": {
     "base_uri": "https://localhost:8080/",
     "height": 69
    },
    "id": "Ab4lT3HI-reW",
    "outputId": "9287e615-8c65-46ed-8eb9-68ef5a78ad64"
   },
   "outputs": [
    {
     "data": {
      "application/vnd.google.colaboratory.intrinsic+json": {
       "type": "string"
      },
      "text/plain": [
       "'? ? oil corp said it has completed a ? well on its ? ? in jefferson davis ? la which is currently producing at a rate of 1 1 mln cubic feet of gas and 40 barrels of condensate daily the company said it has a 20 pct working interest in the well which is flowing from lower ? ? sand ? between 10 104 and 10 110 feet additional ? but possibly productive zones exist behind the pipe it added it said the remaining owners are privately held petroleum companies reuter 3'"
      ]
     },
     "execution_count": 15,
     "metadata": {
      "tags": []
     },
     "output_type": "execute_result"
    }
   ],
   "source": [
    "# Los datos son numericos para decodificarlos, se puede usar reuters.get_word_index()\n",
    "word_index = reuters.get_word_index()\n",
    "reverse_word_index = dict({value : key for key, value in word_index.items()})\n",
    "decoded = ' '.join(\n",
    "    [reverse_word_index.get(i-3,'?') for i in training_data[5248]] #Si la palabra no es relevante la cambia por ?\n",
    ")\n",
    "decoded"
   ]
  },
  {
   "cell_type": "markdown",
   "metadata": {
    "id": "Hl1Ke92bQiI2"
   },
   "source": [
    "#### **- Acondicionando el conjunto de datos**"
   ]
  },
  {
   "cell_type": "code",
   "execution_count": 22,
   "metadata": {
    "id": "I5ojr41ZAE6G"
   },
   "outputs": [],
   "source": [
    "# Función auxiliar para representar las palabras (que no entiende nuestra red neuronal) en números \n",
    "import numpy as np\n",
    "# one hot encoding del input, vector con cada indice indicando si una palabra esta presente\n",
    "def one_hot_encode(data):\n",
    "    encoded = np.zeros((len(data),WORD_LIMIT))\n",
    "    for i, v in enumerate(data):\n",
    "        encoded[i,v] = 1 # localiza las columnas del genero correspondiente, marca con 1\n",
    "    return encoded"
   ]
  },
  {
   "cell_type": "code",
   "execution_count": 23,
   "metadata": {
    "colab": {
     "base_uri": "https://localhost:8080/"
    },
    "id": "4wubOmYpBgAY",
    "outputId": "b72d84de-6357-4ccb-977c-63b3c4149590"
   },
   "outputs": [
    {
     "name": "stdout",
     "output_type": "stream",
     "text": [
      "(8982, 10000)\n",
      "(2246, 10000)\n"
     ]
    }
   ],
   "source": [
    "# Convertimos nuestras palabras a números (One hot encoding)\n",
    "x_train = one_hot_encode(training_data)\n",
    "x_test = one_hot_encode(testing_data)\n",
    "print(x_train.shape)\n",
    "print(x_test.shape)"
   ]
  },
  {
   "cell_type": "code",
   "execution_count": 24,
   "metadata": {
    "colab": {
     "base_uri": "https://localhost:8080/"
    },
    "id": "_fdTGJavvsv-",
    "outputId": "fceed0b9-a3b7-4847-c158-11dd798d46cb"
   },
   "outputs": [
    {
     "name": "stdout",
     "output_type": "stream",
     "text": [
      "[0. 1. 1. ... 0. 0. 0.]\n"
     ]
    }
   ],
   "source": [
    "print(x_test[3])"
   ]
  },
  {
   "cell_type": "code",
   "execution_count": 25,
   "metadata": {
    "colab": {
     "base_uri": "https://localhost:8080/"
    },
    "id": "dliil59FByFv",
    "outputId": "c31fd5e5-e390-41ca-bf69-27d179ea46bc"
   },
   "outputs": [
    {
     "name": "stdout",
     "output_type": "stream",
     "text": [
      "(8982, 46)\n",
      "(2246, 46)\n"
     ]
    }
   ],
   "source": [
    "# Convertimos nuestros labels (categoría reseña) a one-hot encoding\n",
    "# Si no las convierto a one-hot encoding necesito usar sparse_categorical_crossentropy\n",
    "from tensorflow.keras.utils import to_categorical\n",
    "y_train = to_categorical(training_labels)\n",
    "y_test = to_categorical(testing_labels)\n",
    "print(y_train.shape)\n",
    "print(y_test.shape)"
   ]
  },
  {
   "cell_type": "code",
   "execution_count": 26,
   "metadata": {
    "colab": {
     "base_uri": "https://localhost:8080/"
    },
    "id": "G0SGmbI7uYlx",
    "outputId": "2de6a036-1193-4fa5-edaf-979e643fd8b8"
   },
   "outputs": [
    {
     "name": "stdout",
     "output_type": "stream",
     "text": [
      "[0. 0. 0. 0. 1. 0. 0. 0. 0. 0. 0. 0. 0. 0. 0. 0. 0. 0. 0. 0. 0. 0. 0. 0.\n",
      " 0. 0. 0. 0. 0. 0. 0. 0. 0. 0. 0. 0. 0. 0. 0. 0. 0. 0. 0. 0. 0. 0.]\n"
     ]
    }
   ],
   "source": [
    "print(y_test[3])"
   ]
  },
  {
   "cell_type": "markdown",
   "metadata": {
    "id": "qf2H-OHKQrGN"
   },
   "source": [
    "#### **- Creando la topología de Red Neuronal (MLP) y entrenándola**"
   ]
  },
  {
   "cell_type": "code",
   "execution_count": 27,
   "metadata": {
    "id": "QSR1GEq0_Ebm"
   },
   "outputs": [],
   "source": [
    "from tensorflow.keras.models import Sequential\n",
    "from tensorflow.keras.layers import Dense\n",
    "# Vamos a codificar la topología de nuestro MLP\n",
    "model = Sequential()\n",
    "model.add(Dense(128,activation='relu',input_shape=(WORD_LIMIT,)))\n",
    "model.add(Dense(64,activation='relu'))\n",
    "model.add(Dense(46,activation='softmax')) # Reparto de la unidad de probabilidad entre num_classes"
   ]
  },
  {
   "cell_type": "code",
   "execution_count": 28,
   "metadata": {
    "id": "POnCbSEzCI7o"
   },
   "outputs": [],
   "source": [
    "# Ahora que tengo definida la arquitectura, la compilo\n",
    "model.compile(optimizer='adam',\n",
    "               loss='categorical_crossentropy', # ideal para clasificacion multiclase\n",
    "               metrics=['accuracy'])"
   ]
  },
  {
   "cell_type": "code",
   "execution_count": 29,
   "metadata": {
    "colab": {
     "base_uri": "https://localhost:8080/"
    },
    "id": "VZBvK2HjDCaZ",
    "outputId": "75e61a15-d773-4f06-cb07-dec08441f730"
   },
   "outputs": [
    {
     "name": "stdout",
     "output_type": "stream",
     "text": [
      "Epoch 1/20\n",
      "225/225 [==============================] - 1s 5ms/step - loss: 1.4741 - accuracy: 0.6821 - val_loss: 1.0159 - val_accuracy: 0.7713\n",
      "Epoch 2/20\n",
      "225/225 [==============================] - 1s 4ms/step - loss: 0.5646 - accuracy: 0.8778 - val_loss: 0.8842 - val_accuracy: 0.8013\n",
      "Epoch 3/20\n",
      "225/225 [==============================] - 1s 4ms/step - loss: 0.2736 - accuracy: 0.9432 - val_loss: 0.9013 - val_accuracy: 0.8047\n",
      "Epoch 4/20\n",
      "225/225 [==============================] - 1s 4ms/step - loss: 0.1930 - accuracy: 0.9539 - val_loss: 0.9081 - val_accuracy: 0.8052\n",
      "Epoch 5/20\n",
      "225/225 [==============================] - 1s 4ms/step - loss: 0.1608 - accuracy: 0.9576 - val_loss: 0.9342 - val_accuracy: 0.8036\n",
      "Epoch 6/20\n",
      "225/225 [==============================] - 1s 4ms/step - loss: 0.1413 - accuracy: 0.9577 - val_loss: 1.0309 - val_accuracy: 0.7891\n",
      "Epoch 7/20\n",
      "225/225 [==============================] - 1s 5ms/step - loss: 0.1335 - accuracy: 0.9588 - val_loss: 1.0274 - val_accuracy: 0.7913\n",
      "Epoch 8/20\n",
      "225/225 [==============================] - 1s 5ms/step - loss: 0.1195 - accuracy: 0.9610 - val_loss: 0.9637 - val_accuracy: 0.8086\n",
      "Epoch 9/20\n",
      "225/225 [==============================] - 1s 5ms/step - loss: 0.1191 - accuracy: 0.9581 - val_loss: 1.0282 - val_accuracy: 0.8013\n",
      "Epoch 10/20\n",
      "225/225 [==============================] - 1s 4ms/step - loss: 0.1027 - accuracy: 0.9619 - val_loss: 1.0751 - val_accuracy: 0.7969\n",
      "Epoch 11/20\n",
      "225/225 [==============================] - 1s 4ms/step - loss: 0.1008 - accuracy: 0.9617 - val_loss: 1.1323 - val_accuracy: 0.7841\n",
      "Epoch 12/20\n",
      "225/225 [==============================] - 1s 4ms/step - loss: 0.0933 - accuracy: 0.9626 - val_loss: 1.0202 - val_accuracy: 0.8080\n",
      "Epoch 13/20\n",
      "225/225 [==============================] - 1s 4ms/step - loss: 0.0923 - accuracy: 0.9619 - val_loss: 1.1066 - val_accuracy: 0.7930\n",
      "Epoch 14/20\n",
      "225/225 [==============================] - 1s 4ms/step - loss: 0.0876 - accuracy: 0.9624 - val_loss: 1.1631 - val_accuracy: 0.7885\n",
      "Epoch 15/20\n",
      "225/225 [==============================] - 1s 4ms/step - loss: 0.0845 - accuracy: 0.9631 - val_loss: 1.1213 - val_accuracy: 0.7930\n",
      "Epoch 16/20\n",
      "225/225 [==============================] - 1s 4ms/step - loss: 0.0832 - accuracy: 0.9613 - val_loss: 1.1777 - val_accuracy: 0.8030\n",
      "Epoch 17/20\n",
      "225/225 [==============================] - 1s 4ms/step - loss: 0.0791 - accuracy: 0.9637 - val_loss: 1.1403 - val_accuracy: 0.7997\n",
      "Epoch 18/20\n",
      "225/225 [==============================] - 1s 4ms/step - loss: 0.0776 - accuracy: 0.9617 - val_loss: 1.1743 - val_accuracy: 0.7930\n",
      "Epoch 19/20\n",
      "225/225 [==============================] - 1s 4ms/step - loss: 0.0734 - accuracy: 0.9620 - val_loss: 1.2784 - val_accuracy: 0.7802\n",
      "Epoch 20/20\n",
      "225/225 [==============================] - 1s 4ms/step - loss: 0.0734 - accuracy: 0.9616 - val_loss: 1.1536 - val_accuracy: 0.8008\n"
     ]
    }
   ],
   "source": [
    "# A entrenar nuestra red neuronal sea dicho!\n",
    "H = model.fit(x_train,y_train,epochs=20,batch_size=32, validation_split=0.2) #Validation_split me permite asignar el validation value"
   ]
  },
  {
   "cell_type": "markdown",
   "metadata": {
    "id": "0WZi4xSxQwGR"
   },
   "source": [
    "#### **- Observando el proceso de entrenamiento para tomar decisiones**"
   ]
  },
  {
   "cell_type": "code",
   "execution_count": 30,
   "metadata": {
    "colab": {
     "base_uri": "https://localhost:8080/",
     "height": 317
    },
    "id": "0dlv_bkZDVJ7",
    "outputId": "8276ec0f-90a0-4f2d-8982-92979da5b65e"
   },
   "outputs": [
    {
     "data": {
      "text/plain": [
       "<matplotlib.legend.Legend at 0x7f79077385b0>"
      ]
     },
     "execution_count": 30,
     "metadata": {},
     "output_type": "execute_result"
    },
    {
     "data": {
      "image/png": "[encoded data removed]",
      "text/plain": [
       "<Figure size 432x288 with 1 Axes>"
      ]
     },
     "metadata": {},
     "output_type": "display_data"
    }
   ],
   "source": [
    "import matplotlib.pyplot as plt\n",
    "# Muestro gráfica de accuracy y losses\n",
    "plt.style.use(\"ggplot\")\n",
    "plt.figure()\n",
    "plt.plot(np.arange(0, 20), H.history[\"loss\"], label=\"train_loss\")\n",
    "plt.plot(np.arange(0, 20), H.history[\"val_loss\"], label=\"val_loss\")\n",
    "plt.plot(np.arange(0, 20), H.history[\"accuracy\"], label=\"train_acc\")\n",
    "plt.plot(np.arange(0, 20), H.history[\"val_accuracy\"], label=\"val_acc\")\n",
    "plt.title(\"Training Loss and Accuracy\")\n",
    "plt.xlabel(\"Epoch #\")\n",
    "plt.ylabel(\"Loss/Accuracy\")\n",
    "plt.legend()"
   ]
  },
  {
   "cell_type": "markdown",
   "metadata": {
    "id": "c51cfGAQQ2cR"
   },
   "source": [
    "#### **- Probando el conjunto de datos en el subset de test y evaluando el performance del modelo**"
   ]
  },
  {
   "cell_type": "code",
   "execution_count": 31,
   "metadata": {
    "colab": {
     "base_uri": "https://localhost:8080/"
    },
    "id": "xVS5SAU5DlHP",
    "outputId": "1b819b50-7c52-4e63-81f4-39b82b4dfec7"
   },
   "outputs": [
    {
     "name": "stdout",
     "output_type": "stream",
     "text": [
      "[INFO]: Evaluando red neuronal...\n",
      "71/71 [==============================] - 0s 2ms/step\n",
      "71/71 [==============================] - 0s 3ms/step - loss: 1.2172 - accuracy: 0.7965\n",
      "Loss 1.2171802520751953, accuracy 0.7965271472930908\n"
     ]
    }
   ],
   "source": [
    "# Evaluando el modelo de predicción con las imágenes de test\n",
    "print(\"[INFO]: Evaluando red neuronal...\")\n",
    "model.predict(x_test)\n",
    "loss, accuracy = model.evaluate(x_test, y_test)\n",
    "print('Loss {}, accuracy {}'.format(loss,accuracy))"
   ]
  },
  {
   "cell_type": "markdown",
   "metadata": {
    "id": "s8kmri-kUYgx"
   },
   "source": [
    "## **REGULARIZACIÓN EN APRENDIZAJE PROFUNDO**"
   ]
  },
  {
   "cell_type": "markdown",
   "metadata": {
    "id": "aqDYEumsUuNU"
   },
   "source": [
    "#### **- Weight regularization L1/L2**"
   ]
  },
  {
   "cell_type": "code",
   "execution_count": null,
   "metadata": {
    "id": "BF2YYooRUNph"
   },
   "outputs": [],
   "source": [
    "from tensorflow.keras.models import Sequential\n",
    "from tensorflow.keras.layers import Dense\n",
    "from tensorflow.keras import regularizers\n",
    "# Vamos a codificar la topología de nuestro MLP\n",
    "model_reg = Sequential()\n",
    "model_reg.add(Dense(128,activation='relu', kernel_regularizer=regularizers.l2(0.01), input_shape=(WORD_LIMIT,)))\n",
    "model_reg.add(Dense(64,activation='relu', kernel_regularizer=regularizers.l2(0.01)))\n",
    "model_reg.add(Dense(46,activation='softmax')) # Reparto de la unidad de probabilidad entre num_classes"
   ]
  },
  {
   "cell_type": "code",
   "execution_count": null,
   "metadata": {
    "id": "KYeK7jwxVSF3"
   },
   "outputs": [],
   "source": [
    "# Ahora que tengo definida la arquitectura, la compilo\n",
    "model_reg.compile(optimizer='adam',\n",
    "               loss='categorical_crossentropy', # ideal para clasificacion multiclase\n",
    "               metrics=['accuracy'])"
   ]
  },
  {
   "cell_type": "code",
   "execution_count": null,
   "metadata": {
    "colab": {
     "base_uri": "https://localhost:8080/"
    },
    "id": "gWE7GTTmVdP0",
    "outputId": "53b3682c-015c-4602-fdcd-5bb6f432e726"
   },
   "outputs": [
    {
     "name": "stdout",
     "output_type": "stream",
     "text": [
      "Epoch 1/20\n",
      "225/225 [==============================] - 1s 4ms/step - loss: 3.3540 - accuracy: 0.5438 - val_loss: 1.8155 - val_accuracy: 0.7240\n",
      "Epoch 2/20\n",
      "225/225 [==============================] - 1s 4ms/step - loss: 1.7060 - accuracy: 0.7427 - val_loss: 1.6853 - val_accuracy: 0.7451\n",
      "Epoch 3/20\n",
      "225/225 [==============================] - 1s 4ms/step - loss: 1.5660 - accuracy: 0.7544 - val_loss: 1.6073 - val_accuracy: 0.7418\n",
      "Epoch 4/20\n",
      "225/225 [==============================] - 1s 4ms/step - loss: 1.4845 - accuracy: 0.7758 - val_loss: 1.6485 - val_accuracy: 0.7462\n",
      "Epoch 5/20\n",
      "225/225 [==============================] - 1s 4ms/step - loss: 1.4640 - accuracy: 0.7817 - val_loss: 1.5903 - val_accuracy: 0.7590\n",
      "Epoch 6/20\n",
      "225/225 [==============================] - 1s 4ms/step - loss: 1.4391 - accuracy: 0.7926 - val_loss: 1.5789 - val_accuracy: 0.7529\n",
      "Epoch 7/20\n",
      "225/225 [==============================] - 1s 4ms/step - loss: 1.3912 - accuracy: 0.7991 - val_loss: 1.5778 - val_accuracy: 0.7574\n",
      "Epoch 8/20\n",
      "225/225 [==============================] - 1s 4ms/step - loss: 1.3352 - accuracy: 0.8117 - val_loss: 1.5505 - val_accuracy: 0.7663\n",
      "Epoch 9/20\n",
      "225/225 [==============================] - 1s 4ms/step - loss: 1.3272 - accuracy: 0.8101 - val_loss: 1.5253 - val_accuracy: 0.7713\n",
      "Epoch 10/20\n",
      "225/225 [==============================] - 1s 4ms/step - loss: 1.2914 - accuracy: 0.8176 - val_loss: 1.5300 - val_accuracy: 0.7657\n",
      "Epoch 11/20\n",
      "225/225 [==============================] - 1s 4ms/step - loss: 1.2482 - accuracy: 0.8243 - val_loss: 1.4903 - val_accuracy: 0.7724\n",
      "Epoch 12/20\n",
      "225/225 [==============================] - 1s 4ms/step - loss: 1.2170 - accuracy: 0.8299 - val_loss: 1.5055 - val_accuracy: 0.7613\n",
      "Epoch 13/20\n",
      "225/225 [==============================] - 1s 4ms/step - loss: 1.2190 - accuracy: 0.8271 - val_loss: 1.4748 - val_accuracy: 0.7802\n",
      "Epoch 14/20\n",
      "225/225 [==============================] - 1s 4ms/step - loss: 1.1752 - accuracy: 0.8381 - val_loss: 1.4554 - val_accuracy: 0.7763\n",
      "Epoch 15/20\n",
      "225/225 [==============================] - 1s 4ms/step - loss: 1.1755 - accuracy: 0.8396 - val_loss: 1.4527 - val_accuracy: 0.7813\n",
      "Epoch 16/20\n",
      "225/225 [==============================] - 1s 4ms/step - loss: 1.1149 - accuracy: 0.8519 - val_loss: 1.4608 - val_accuracy: 0.7757\n",
      "Epoch 17/20\n",
      "225/225 [==============================] - 1s 4ms/step - loss: 1.1249 - accuracy: 0.8432 - val_loss: 1.4326 - val_accuracy: 0.7835\n",
      "Epoch 18/20\n",
      "225/225 [==============================] - 1s 4ms/step - loss: 1.0987 - accuracy: 0.8554 - val_loss: 1.4283 - val_accuracy: 0.7735\n",
      "Epoch 19/20\n",
      "225/225 [==============================] - 1s 4ms/step - loss: 1.0738 - accuracy: 0.8575 - val_loss: 1.4155 - val_accuracy: 0.7657\n",
      "Epoch 20/20\n",
      "225/225 [==============================] - 1s 4ms/step - loss: 1.0247 - accuracy: 0.8628 - val_loss: 1.4017 - val_accuracy: 0.7930\n"
     ]
    }
   ],
   "source": [
    "# A entrenar nuestra red neuronal sea dicho!\n",
    "H = model_reg.fit(x_train,y_train,epochs=20,batch_size=32, validation_split=0.2)"
   ]
  },
  {
   "cell_type": "code",
   "execution_count": null,
   "metadata": {
    "colab": {
     "base_uri": "https://localhost:8080/",
     "height": 316
    },
    "id": "iJvo8YVvVowt",
    "outputId": "28590356-d7a5-4381-9883-e56973d8d88f"
   },
   "outputs": [
    {
     "data": {
      "text/plain": [
       "<matplotlib.legend.Legend at 0x7f4c180fa4a8>"
      ]
     },
     "execution_count": 29,
     "metadata": {
      "tags": []
     },
     "output_type": "execute_result"
    },
    {
     "data": {
      "image/png": "[encoded data removed]",
      "text/plain": [
       "<Figure size 432x288 with 1 Axes>"
      ]
     },
     "metadata": {
      "tags": []
     },
     "output_type": "display_data"
    }
   ],
   "source": [
    "import matplotlib.pyplot as plt\n",
    "# Muestro gráfica de accuracy y losses\n",
    "plt.style.use(\"ggplot\")\n",
    "plt.figure()\n",
    "plt.plot(np.arange(0, 20), H.history[\"loss\"], label=\"train_loss\")\n",
    "plt.plot(np.arange(0, 20), H.history[\"val_loss\"], label=\"val_loss\")\n",
    "plt.plot(np.arange(0, 20), H.history[\"accuracy\"], label=\"train_acc\")\n",
    "plt.plot(np.arange(0, 20), H.history[\"val_accuracy\"], label=\"val_acc\")\n",
    "plt.title(\"Training Loss and Accuracy\")\n",
    "plt.xlabel(\"Epoch #\")\n",
    "plt.ylabel(\"Loss/Accuracy\")\n",
    "plt.legend()"
   ]
  },
  {
   "cell_type": "code",
   "execution_count": null,
   "metadata": {
    "colab": {
     "base_uri": "https://localhost:8080/"
    },
    "id": "h_68GciZWEml",
    "outputId": "3dbd2ca3-6f7d-42be-b25f-96d3dc3f29cc"
   },
   "outputs": [
    {
     "name": "stdout",
     "output_type": "stream",
     "text": [
      "[INFO]: Evaluando red neuronal...\n",
      "71/71 [==============================] - 0s 3ms/step - loss: 1.4410 - accuracy: 0.7671\n",
      "Loss 1.4409772157669067, accuracy 0.767141580581665\n"
     ]
    }
   ],
   "source": [
    "# Evaluando el modelo de predicción con las imágenes de test\n",
    "print(\"[INFO]: Evaluando red neuronal...\")\n",
    "model_reg.predict(x_test)\n",
    "loss, accuracy = model_reg.evaluate(x_test, y_test)\n",
    "print('Loss {}, accuracy {}'.format(loss,accuracy))"
   ]
  },
  {
   "cell_type": "markdown",
   "metadata": {
    "id": "FKflRMxEWQ3Z"
   },
   "source": [
    "#### **- Dropout**"
   ]
  },
  {
   "cell_type": "code",
   "execution_count": null,
   "metadata": {
    "id": "iRcnwjCCWVcW"
   },
   "outputs": [],
   "source": [
    "from tensorflow.keras.models import Sequential\n",
    "from tensorflow.keras.layers import Dense, Dropout\n",
    "# Vamos a codificar la topología de nuestro MLP\n",
    "model_drop = Sequential()\n",
    "model_drop.add(Dense(128,activation='relu', input_shape=(WORD_LIMIT,)))\n",
    "#model_drop.add(Dropout(0.5))\n",
    "model_drop.add(Dropout(0.75))\n",
    "model_drop.add(Dense(64,activation='relu'))\n",
    "#model_drop.add(Dropout(0.5))\n",
    "model_drop.add(Dropout(0.75))\n",
    "model_drop.add(Dense(46,activation='softmax')) # Reparto de la unidad de probabilidad entre num_classes"
   ]
  },
  {
   "cell_type": "code",
   "execution_count": null,
   "metadata": {
    "id": "6K_X-SnoWnqL"
   },
   "outputs": [],
   "source": [
    "# Ahora que tengo definida la arquitectura, la compilo\n",
    "model_drop.compile(optimizer='adam',\n",
    "               loss='categorical_crossentropy', # ideal para clasificacion multiclase\n",
    "               metrics=['accuracy'])"
   ]
  },
  {
   "cell_type": "code",
   "execution_count": null,
   "metadata": {
    "colab": {
     "base_uri": "https://localhost:8080/"
    },
    "id": "5GSMILsYWsT8",
    "outputId": "4e2c3266-6937-4410-b332-5c73bfc7b770"
   },
   "outputs": [
    {
     "name": "stdout",
     "output_type": "stream",
     "text": [
      "Epoch 1/20\n",
      "225/225 [==============================] - 1s 4ms/step - loss: 3.0009 - accuracy: 0.2597 - val_loss: 1.6684 - val_accuracy: 0.5882\n",
      "Epoch 2/20\n",
      "225/225 [==============================] - 1s 4ms/step - loss: 1.8615 - accuracy: 0.5323 - val_loss: 1.4900 - val_accuracy: 0.6784\n",
      "Epoch 3/20\n",
      "225/225 [==============================] - 1s 4ms/step - loss: 1.6863 - accuracy: 0.5937 - val_loss: 1.4201 - val_accuracy: 0.7001\n",
      "Epoch 4/20\n",
      "225/225 [==============================] - 1s 4ms/step - loss: 1.5886 - accuracy: 0.6134 - val_loss: 1.3744 - val_accuracy: 0.7062\n",
      "Epoch 5/20\n",
      "225/225 [==============================] - 1s 4ms/step - loss: 1.5032 - accuracy: 0.6253 - val_loss: 1.3301 - val_accuracy: 0.7056\n",
      "Epoch 6/20\n",
      "225/225 [==============================] - 1s 4ms/step - loss: 1.4579 - accuracy: 0.6489 - val_loss: 1.2958 - val_accuracy: 0.7062\n",
      "Epoch 7/20\n",
      "225/225 [==============================] - 1s 4ms/step - loss: 1.4510 - accuracy: 0.6474 - val_loss: 1.2813 - val_accuracy: 0.7073\n",
      "Epoch 8/20\n",
      "225/225 [==============================] - 1s 4ms/step - loss: 1.3301 - accuracy: 0.6655 - val_loss: 1.2642 - val_accuracy: 0.7123\n",
      "Epoch 9/20\n",
      "225/225 [==============================] - 1s 4ms/step - loss: 1.2835 - accuracy: 0.6860 - val_loss: 1.2688 - val_accuracy: 0.7179\n",
      "Epoch 10/20\n",
      "225/225 [==============================] - 1s 4ms/step - loss: 1.3016 - accuracy: 0.6712 - val_loss: 1.2530 - val_accuracy: 0.7234\n",
      "Epoch 11/20\n",
      "225/225 [==============================] - 1s 4ms/step - loss: 1.2886 - accuracy: 0.6804 - val_loss: 1.2639 - val_accuracy: 0.7195\n",
      "Epoch 12/20\n",
      "225/225 [==============================] - 1s 4ms/step - loss: 1.1676 - accuracy: 0.6966 - val_loss: 1.2463 - val_accuracy: 0.7334\n",
      "Epoch 13/20\n",
      "225/225 [==============================] - 1s 4ms/step - loss: 1.2061 - accuracy: 0.7000 - val_loss: 1.2672 - val_accuracy: 0.7368\n",
      "Epoch 14/20\n",
      "225/225 [==============================] - 1s 4ms/step - loss: 1.1399 - accuracy: 0.7031 - val_loss: 1.2413 - val_accuracy: 0.7490\n",
      "Epoch 15/20\n",
      "225/225 [==============================] - 1s 4ms/step - loss: 1.1708 - accuracy: 0.6989 - val_loss: 1.2613 - val_accuracy: 0.7496\n",
      "Epoch 16/20\n",
      "225/225 [==============================] - 1s 4ms/step - loss: 1.1224 - accuracy: 0.7039 - val_loss: 1.2607 - val_accuracy: 0.7485\n",
      "Epoch 17/20\n",
      "225/225 [==============================] - 1s 4ms/step - loss: 1.0783 - accuracy: 0.7178 - val_loss: 1.2563 - val_accuracy: 0.7524\n",
      "Epoch 18/20\n",
      "225/225 [==============================] - 1s 4ms/step - loss: 1.0465 - accuracy: 0.7228 - val_loss: 1.2860 - val_accuracy: 0.7546\n",
      "Epoch 19/20\n",
      "225/225 [==============================] - 1s 4ms/step - loss: 1.0763 - accuracy: 0.7241 - val_loss: 1.2967 - val_accuracy: 0.7585\n",
      "Epoch 20/20\n",
      "225/225 [==============================] - 1s 4ms/step - loss: 1.0755 - accuracy: 0.7209 - val_loss: 1.2964 - val_accuracy: 0.7535\n"
     ]
    }
   ],
   "source": [
    "# A entrenar nuestra red neuronal sea dicho!\n",
    "H = model_drop.fit(x_train,y_train,epochs=20,batch_size=32, validation_split=0.2)"
   ]
  },
  {
   "cell_type": "code",
   "execution_count": null,
   "metadata": {
    "colab": {
     "base_uri": "https://localhost:8080/",
     "height": 316
    },
    "id": "ACSQkFMtW2Eg",
    "outputId": "41a7a792-5ae9-40b7-84fd-b13131c522e5"
   },
   "outputs": [
    {
     "data": {
      "text/plain": [
       "<matplotlib.legend.Legend at 0x7f4c1802bcc0>"
      ]
     },
     "execution_count": 34,
     "metadata": {
      "tags": []
     },
     "output_type": "execute_result"
    },
    {
     "data": {
      "image/png": "[encoded data removed]",
      "text/plain": [
       "<Figure size 432x288 with 1 Axes>"
      ]
     },
     "metadata": {
      "tags": []
     },
     "output_type": "display_data"
    }
   ],
   "source": [
    "import matplotlib.pyplot as plt\n",
    "# Muestro gráfica de accuracy y losses\n",
    "plt.style.use(\"ggplot\")\n",
    "plt.figure()\n",
    "plt.plot(np.arange(0, 20), H.history[\"loss\"], label=\"train_loss\")\n",
    "plt.plot(np.arange(0, 20), H.history[\"val_loss\"], label=\"val_loss\")\n",
    "plt.plot(np.arange(0, 20), H.history[\"accuracy\"], label=\"train_acc\")\n",
    "plt.plot(np.arange(0, 20), H.history[\"val_accuracy\"], label=\"val_acc\")\n",
    "plt.title(\"Training Loss and Accuracy\")\n",
    "plt.xlabel(\"Epoch #\")\n",
    "plt.ylabel(\"Loss/Accuracy\")\n",
    "plt.legend()\n",
    "\n",
    "# ¿Y si desconectamos mayor porcentaje de neuronas?"
   ]
  },
  {
   "cell_type": "code",
   "execution_count": null,
   "metadata": {
    "colab": {
     "base_uri": "https://localhost:8080/"
    },
    "id": "KzK4LsLmW2es",
    "outputId": "53162e60-e57b-44a5-e793-ad0eab30cc3e"
   },
   "outputs": [
    {
     "name": "stdout",
     "output_type": "stream",
     "text": [
      "[INFO]: Evaluando red neuronal...\n",
      "71/71 [==============================] - 0s 2ms/step - loss: 1.4296 - accuracy: 0.7329\n",
      "Loss 1.429582953453064, accuracy 0.732858419418335\n"
     ]
    }
   ],
   "source": [
    "# Evaluando el modelo de predicción con las imágenes de test\n",
    "print(\"[INFO]: Evaluando red neuronal...\")\n",
    "model_drop.predict(x_test)\n",
    "loss, accuracy = model_drop.evaluate(x_test, y_test)\n",
    "print('Loss {}, accuracy {}'.format(loss,accuracy))"
   ]
  },
  {
   "cell_type": "markdown",
   "metadata": {
    "id": "6iixwidpaJSH"
   },
   "source": [
    "#### **- Batch Normalization**"
   ]
  },
  {
   "cell_type": "code",
   "execution_count": null,
   "metadata": {
    "id": "kX7JV1leaJrj"
   },
   "outputs": [],
   "source": [
    "from tensorflow.keras.models import Sequential\n",
    "from tensorflow.keras.layers import Dense, BatchNormalization\n",
    "# Vamos a codificar la topología de nuestro MLP\n",
    "model_bn = Sequential()\n",
    "model_bn.add(Dense(128,activation='relu', input_shape=(WORD_LIMIT,)))\n",
    "model_bn.add(BatchNormalization())\n",
    "model_bn.add(Dropout(0.75))\n",
    "model_bn.add(Dense(64,activation='relu'))\n",
    "model_bn.add(BatchNormalization())\n",
    "model_bn.add(Dropout(0.75))\n",
    "model_bn.add(Dense(46,activation='softmax')) # Reparto de la unidad de probabilidad entre num_classes"
   ]
  },
  {
   "cell_type": "code",
   "execution_count": null,
   "metadata": {
    "id": "iEW9qiRzbtpk"
   },
   "outputs": [],
   "source": [
    "# Ahora que tengo definida la arquitectura, la compilo\n",
    "model_bn.compile(optimizer='adam',\n",
    "               loss='categorical_crossentropy', # ideal para clasificacion multiclase\n",
    "               metrics=['accuracy'])"
   ]
  },
  {
   "cell_type": "code",
   "execution_count": null,
   "metadata": {
    "colab": {
     "base_uri": "https://localhost:8080/"
    },
    "id": "Ey72ZUlJbwPK",
    "outputId": "0556f9da-f8c1-4e82-9fd0-3cb6e396112c"
   },
   "outputs": [
    {
     "name": "stdout",
     "output_type": "stream",
     "text": [
      "Epoch 1/20\n",
      "225/225 [==============================] - 2s 5ms/step - loss: 4.1825 - accuracy: 0.1847 - val_loss: 1.9843 - val_accuracy: 0.6411\n",
      "Epoch 2/20\n",
      "225/225 [==============================] - 1s 4ms/step - loss: 2.2351 - accuracy: 0.5277 - val_loss: 1.4946 - val_accuracy: 0.6795\n",
      "Epoch 3/20\n",
      "225/225 [==============================] - 1s 4ms/step - loss: 1.8509 - accuracy: 0.5912 - val_loss: 1.3766 - val_accuracy: 0.7006\n",
      "Epoch 4/20\n",
      "225/225 [==============================] - 1s 4ms/step - loss: 1.6653 - accuracy: 0.6287 - val_loss: 1.3170 - val_accuracy: 0.7023\n",
      "Epoch 5/20\n",
      "225/225 [==============================] - 1s 4ms/step - loss: 1.5476 - accuracy: 0.6545 - val_loss: 1.2676 - val_accuracy: 0.7101\n",
      "Epoch 6/20\n",
      "225/225 [==============================] - 1s 4ms/step - loss: 1.4463 - accuracy: 0.6697 - val_loss: 1.2017 - val_accuracy: 0.7240\n",
      "Epoch 7/20\n",
      "225/225 [==============================] - 1s 4ms/step - loss: 1.4207 - accuracy: 0.6655 - val_loss: 1.1687 - val_accuracy: 0.7273\n",
      "Epoch 8/20\n",
      "225/225 [==============================] - 1s 4ms/step - loss: 1.3509 - accuracy: 0.6913 - val_loss: 1.1516 - val_accuracy: 0.7318\n",
      "Epoch 9/20\n",
      "225/225 [==============================] - 1s 4ms/step - loss: 1.2197 - accuracy: 0.7023 - val_loss: 1.1262 - val_accuracy: 0.7323\n",
      "Epoch 10/20\n",
      "225/225 [==============================] - 1s 4ms/step - loss: 1.2180 - accuracy: 0.7101 - val_loss: 1.1092 - val_accuracy: 0.7373\n",
      "Epoch 11/20\n",
      "225/225 [==============================] - 1s 4ms/step - loss: 1.1377 - accuracy: 0.7255 - val_loss: 1.0866 - val_accuracy: 0.7501\n",
      "Epoch 12/20\n",
      "225/225 [==============================] - 1s 4ms/step - loss: 1.1261 - accuracy: 0.7319 - val_loss: 1.0929 - val_accuracy: 0.7479\n",
      "Epoch 13/20\n",
      "225/225 [==============================] - 1s 4ms/step - loss: 1.1157 - accuracy: 0.7260 - val_loss: 1.0710 - val_accuracy: 0.7507\n",
      "Epoch 14/20\n",
      "225/225 [==============================] - 1s 4ms/step - loss: 1.0776 - accuracy: 0.7346 - val_loss: 1.0550 - val_accuracy: 0.7574\n",
      "Epoch 15/20\n",
      "225/225 [==============================] - 1s 4ms/step - loss: 1.0129 - accuracy: 0.7475 - val_loss: 1.0458 - val_accuracy: 0.7652\n",
      "Epoch 16/20\n",
      "225/225 [==============================] - 1s 4ms/step - loss: 1.0044 - accuracy: 0.7514 - val_loss: 1.0382 - val_accuracy: 0.7691\n",
      "Epoch 17/20\n",
      "225/225 [==============================] - 1s 4ms/step - loss: 0.9974 - accuracy: 0.7480 - val_loss: 1.0323 - val_accuracy: 0.7696\n",
      "Epoch 18/20\n",
      "225/225 [==============================] - 1s 4ms/step - loss: 0.9632 - accuracy: 0.7618 - val_loss: 1.0300 - val_accuracy: 0.7718\n",
      "Epoch 19/20\n",
      "225/225 [==============================] - 1s 4ms/step - loss: 0.9838 - accuracy: 0.7496 - val_loss: 1.0246 - val_accuracy: 0.7763\n",
      "Epoch 20/20\n",
      "225/225 [==============================] - 1s 4ms/step - loss: 0.9150 - accuracy: 0.7730 - val_loss: 1.0142 - val_accuracy: 0.7741\n"
     ]
    }
   ],
   "source": [
    "# A entrenar nuestra red neuronal sea dicho!\n",
    "H = model_bn.fit(x_train,y_train,epochs=20,batch_size=32, validation_split=0.2)"
   ]
  },
  {
   "cell_type": "code",
   "execution_count": null,
   "metadata": {
    "colab": {
     "base_uri": "https://localhost:8080/",
     "height": 316
    },
    "id": "WE6c1PHIbybn",
    "outputId": "e687d3ca-86ad-4ef8-8cc5-6724c3656eed"
   },
   "outputs": [
    {
     "data": {
      "text/plain": [
       "<matplotlib.legend.Legend at 0x7f4ba77097b8>"
      ]
     },
     "execution_count": 39,
     "metadata": {
      "tags": []
     },
     "output_type": "execute_result"
    },
    {
     "data": {
      "image/png": "[encoded data removed]",
      "text/plain": [
       "<Figure size 432x288 with 1 Axes>"
      ]
     },
     "metadata": {
      "tags": []
     },
     "output_type": "display_data"
    }
   ],
   "source": [
    "import matplotlib.pyplot as plt\n",
    "# Muestro gráfica de accuracy y losses\n",
    "plt.style.use(\"ggplot\")\n",
    "plt.figure()\n",
    "plt.plot(np.arange(0, 20), H.history[\"loss\"], label=\"train_loss\")\n",
    "plt.plot(np.arange(0, 20), H.history[\"val_loss\"], label=\"val_loss\")\n",
    "plt.plot(np.arange(0, 20), H.history[\"accuracy\"], label=\"train_acc\")\n",
    "plt.plot(np.arange(0, 20), H.history[\"val_accuracy\"], label=\"val_acc\")\n",
    "plt.title(\"Training Loss and Accuracy\")\n",
    "plt.xlabel(\"Epoch #\")\n",
    "plt.ylabel(\"Loss/Accuracy\")\n",
    "plt.legend()"
   ]
  },
  {
   "cell_type": "code",
   "execution_count": null,
   "metadata": {
    "colab": {
     "base_uri": "https://localhost:8080/"
    },
    "id": "7AY7mJ3mb1C1",
    "outputId": "332d9c0d-35ec-441b-bc46-b130591b2fe7"
   },
   "outputs": [
    {
     "name": "stdout",
     "output_type": "stream",
     "text": [
      "[INFO]: Evaluando red neuronal...\n",
      "71/71 [==============================] - 0s 3ms/step - loss: 1.0676 - accuracy: 0.7636\n",
      "Loss 1.067622423171997, accuracy 0.7635797262191772\n"
     ]
    }
   ],
   "source": [
    "# Evaluando el modelo de predicción con las imágenes de test\n",
    "print(\"[INFO]: Evaluando red neuronal...\")\n",
    "model_bn.predict(x_test)\n",
    "loss, accuracy = model_bn.evaluate(x_test, y_test)\n",
    "print('Loss {}, accuracy {}'.format(loss,accuracy))"
   ]
  }
 ],
 "metadata": {
  "accelerator": "GPU",
  "colab": {
   "provenance": []
  },
  "gpuClass": "standard",
  "kernelspec": {
   "display_name": "Python 3 (ipykernel)",
   "language": "python",
   "name": "python3"
  },
  "language_info": {
   "codemirror_mode": {
    "name": "ipython",
    "version": 3
   },
   "file_extension": ".py",
   "mimetype": "text/x-python",
   "name": "python",
   "nbconvert_exporter": "python",
   "pygments_lexer": "ipython3",
   "version": "3.9.18"
  }
 },
 "nbformat": 4,
 "nbformat_minor": 4
}
