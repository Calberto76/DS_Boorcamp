{
 "cells": [
  {
   "cell_type": "markdown",
   "id": "610140b8-c04e-495d-b8c7-e85d07c3bbb6",
   "metadata": {},
   "source": [
    "# Ejercicio\n",
    "\n",
    "Utilizar el dataset de `fashion_mnist` e implementar una red neuronal MLP."
   ]
  },
  {
   "cell_type": "code",
   "execution_count": null,
   "id": "e3abc1fd-dd0e-4458-a2d6-b89fd86e3a2f",
   "metadata": {
    "tags": []
   },
   "outputs": [],
   "source": [
    "import numpy as np\n",
    "import matplotlib.pyplot as plt\n",
    "import pandas as pd\n",
    "import seaborn as sns\n",
    "import warnings\n",
    "warnings.filterwarnings(\"ignore\")"
   ]
  },
  {
   "cell_type": "code",
   "execution_count": null,
   "id": "a5707d55-81a6-4334-bdf0-89555f812a68",
   "metadata": {
    "tags": []
   },
   "outputs": [],
   "source": [
    "from keras.callbacks import ModelCheckpoint\n",
    "from keras.datasets import fashion_mnist\n",
    "from keras.layers.core import Dense, Dropout, Activation\n",
    "from keras.models import Sequential\n",
    "from keras.utils import np_utils"
   ]
  },
  {
   "cell_type": "code",
   "execution_count": null,
   "id": "1715b42c-3e38-488c-95b8-d486f5645a47",
   "metadata": {
    "tags": []
   },
   "outputs": [],
   "source": [
    "(X_train, y_train), (X_test, y_test) = #TODO\n",
    "print(\"X_train original shape\", X_train.shape)\n",
    "print(\"y_train original shape\", y_train.shape)"
   ]
  },
  {
   "cell_type": "code",
   "execution_count": null,
   "id": "9c24f2fa-8aa1-4a7e-9270-8f66fb3fce1c",
   "metadata": {
    "tags": []
   },
   "outputs": [],
   "source": [
    "class_labels_dict = {0:\"T-shirt/top\",\n",
    "                     1:\"Trouser\",\n",
    "                     2:\"Pullover\",\n",
    "                     3:\"Dress\",\n",
    "                     4:\"Coat\",\n",
    "                     5:\"Sandal\",\n",
    "                     6:\"Shirt\",\n",
    "                     7:\"Sneaker\",\n",
    "                     8:\"Bag\",\n",
    "                     9:\"Ankle boot\"}\n",
    "\n",
    "fig = plt.figure(figsize=(10,4))\n",
    "\n",
    "for i in range(10):\n",
    "    plt.subplot(2,5,i+1)\n",
    "    img = X_train[y_train == i][0]\n",
    "    plt.imshow(img, cmap='gray', interpolation='none')\n",
    "    plt.title(\"Class: {}\".format(class_labels_dict[i]))\n",
    "    plt.axis('off')\n",
    "    \n",
    "plt.tight_layout()"
   ]
  },
  {
   "cell_type": "code",
   "execution_count": null,
   "id": "7e9ba962-30ce-4d48-a043-0fdef1758a40",
   "metadata": {
    "tags": []
   },
   "outputs": [],
   "source": [
    "X_train = X_train.reshape(X_train.shape[0], )#TODO dimensión\n",
    "X_test = X_test.reshape(X_test.shape[0], )#TODO dimensión\n",
    "X_train = X_train.astype('float32')\n",
    "X_test = X_test.astype('float32')\n",
    "\n",
    "print(\"Training matrix shape\", X_train.shape)\n",
    "print(\"Testing matrix shape\", X_test.shape)"
   ]
  },
  {
   "cell_type": "code",
   "execution_count": null,
   "id": "55fdf9e1-5672-467d-a3ef-6da667a80b1d",
   "metadata": {
    "tags": []
   },
   "outputs": [],
   "source": [
    "X_train /= #TODO \n",
    "X_test /=  #TODO"
   ]
  },
  {
   "cell_type": "code",
   "execution_count": null,
   "id": "8a5738c7-d222-48e4-99d1-bf9ad5e09315",
   "metadata": {
    "tags": []
   },
   "outputs": [],
   "source": [
    "# Convert 1-dimensional class arrays to 10-dimensional class matrices using one-hot encoding\n",
    "num_classes =  #TODO classes possible \n",
    "Y_train = np_utils.to_categorical(y_train, num_classes)\n",
    "Y_test = np_utils.to_categorical(y_test, num_classes)"
   ]
  },
  {
   "cell_type": "code",
   "execution_count": null,
   "id": "4e327644-d20f-4743-b0ef-5d78902493ad",
   "metadata": {
    "tags": []
   },
   "outputs": [],
   "source": [
    "model = Sequential() # Declare a Sequential model \n",
    "model.add(Dense(, input_shape=(784,))) #TODO Hidden Layer                          \n",
    "model.add(Activation('')) #TODO\n",
    "model.add(Dropout(0.2)) # Dropout helps prevent the model from overfitting on the training data\n",
    "model.add(Dense()) # #TODO Hidden Layer \n",
    "model.add(Activation(''))#TODO\n",
    "model.add(Dropout(0.2))\n",
    "model.add(Dense(num_classes)) # Add an output layer of 10 units, the number of classes \n",
    "model.add(Activation('')) #TODO Output Layer\n",
    "model.summary()\n"
   ]
  },
  {
   "cell_type": "code",
   "execution_count": null,
   "id": "0a7d3da6-7c62-4fc7-a333-0fd9b9236963",
   "metadata": {
    "tags": []
   },
   "outputs": [],
   "source": [
    "model.compile(loss='', optimizer='', metrics=['accuracy']) #TODO Loss, Optimizer "
   ]
  },
  {
   "cell_type": "code",
   "execution_count": null,
   "id": "4741b7d2-349e-4c41-8ce7-8ad6858db539",
   "metadata": {
    "tags": []
   },
   "outputs": [],
   "source": [
    "filepath=\"./data/mlp-weights.{epoch:02d}-{val_loss:.2f}.hdf5\"\n",
    "checkpoint = ModelCheckpoint(filepath, monitor='val_acc', verbose=1, save_best_only=True, mode='max')\n",
    "\n",
    "history = model.fit(X_train, \n",
    "                    Y_train,\n",
    "                    batch_size=128, \n",
    "                    epochs=25,\n",
    "                    verbose=1,\n",
    "                    validation_data=(X_test,Y_test))\n",
    "\n"
   ]
  },
  {
   "cell_type": "code",
   "execution_count": null,
   "id": "06a64e66-40aa-445f-bcf7-6c06b0ae1909",
   "metadata": {
    "tags": []
   },
   "outputs": [],
   "source": [
    "# Muestro gráfica de accuracy y losses\n",
    "plt.style.use(\"ggplot\")\n",
    "plt.figure()\n",
    "plt.plot(history.history[\"loss\"], label=\"train_loss\")\n",
    "plt.plot(history.history[\"val_loss\"], label=\"val_loss\")\n",
    "plt.plot(history.history[\"accuracy\"], label=\"train_acc\")\n",
    "plt.plot(history.history[\"val_accuracy\"], label=\"val_acc\")\n",
    "plt.title(\"Training Loss and Accuracy\")\n",
    "plt.xlabel(\"Epoch #\")\n",
    "plt.ylabel(\"Loss/Accuracy\")\n",
    "plt.legend()"
   ]
  },
  {
   "cell_type": "code",
   "execution_count": null,
   "id": "0bea1bc6-9859-4f4f-864b-491d01757639",
   "metadata": {
    "tags": []
   },
   "outputs": [],
   "source": [
    "best_score = max(history.history['accuracy'])\n",
    "best_epoch = np.array(history.history['accuracy']).argmax()+1\n",
    "print('Best test accuracy was %f at epoch %i' % (best_score, best_epoch))"
   ]
  },
  {
   "cell_type": "code",
   "execution_count": null,
   "id": "1242ab60-192e-4ad3-b3ce-8ec09d975daa",
   "metadata": {
    "tags": []
   },
   "outputs": [],
   "source": [
    "y_pred=model.predict() #TODO  \n",
    "y_pred_classes=np.argmax(y_pred,axis=1)\n",
    "\n",
    "# Check which items we got right / wrong\n",
    "correct_indices = np.nonzero(y_pred_classes == y_test)[0]\n",
    "incorrect_indices = np.nonzero(y_pred_classes != y_test)[0]"
   ]
  },
  {
   "cell_type": "code",
   "execution_count": null,
   "id": "483207a8-2993-478d-8615-dda037e2b435",
   "metadata": {
    "tags": []
   },
   "outputs": [],
   "source": [
    "# Correctos\n",
    "\n",
    "plt.figure(figsize=(8,8))\n",
    "\n",
    "for i, correct in enumerate(correct_indices[:9]):\n",
    "    plt.subplot(3,3,i+1)\n",
    "    plt.imshow(X_test[correct].reshape(28,28), cmap='gray', interpolation='none')\n",
    "    plt.title(\"Predicted:{}\\nActual:{}\".format(class_labels_dict[y_pred_classes[correct]],class_labels_dict[y_test[correct]]))\n",
    "\n",
    "plt.tight_layout() "
   ]
  },
  {
   "cell_type": "code",
   "execution_count": null,
   "id": "5489853f-73f9-4239-83f5-1677063eb98c",
   "metadata": {
    "tags": []
   },
   "outputs": [],
   "source": [
    "# Incorrectos\n",
    "\n",
    "plt.figure(figsize=(8,8))\n",
    "for i, incorrect in enumerate(incorrect_indices[:9]):\n",
    "    plt.subplot(3,3,i+1)\n",
    "    plt.imshow(X_test[incorrect].reshape(28,28), cmap='gray', interpolation='none')\n",
    "    plt.title(\"Predicted: {}\\n Actual: {}\".format(class_labels_dict[y_pred_classes[incorrect]], class_labels_dict[y_test[incorrect]]))\n",
    "    \n",
    "plt.tight_layout() "
   ]
  }
 ],
 "metadata": {
  "kernelspec": {
   "display_name": "Python 3 (ipykernel)",
   "language": "python",
   "name": "python3"
  },
  "language_info": {
   "codemirror_mode": {
    "name": "ipython",
    "version": 3
   },
   "file_extension": ".py",
   "mimetype": "text/x-python",
   "name": "python",
   "nbconvert_exporter": "python",
   "pygments_lexer": "ipython3",
   "version": "3.9.18"
  }
 },
 "nbformat": 4,
 "nbformat_minor": 5
}
